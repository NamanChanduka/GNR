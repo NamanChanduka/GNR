{
  "nbformat": 4,
  "nbformat_minor": 0,
  "metadata": {
    "colab": {
      "name": "GNR638.ipynb",
      "provenance": [],
      "authorship_tag": "ABX9TyMGfKRlscOqb1WFzTxoMekt",
      "include_colab_link": true
    },
    "kernelspec": {
      "name": "python3",
      "display_name": "Python 3"
    },
    "language_info": {
      "name": "python"
    },
    "accelerator": "GPU"
  },
  "cells": [
    {
      "cell_type": "markdown",
      "metadata": {
        "id": "view-in-github",
        "colab_type": "text"
      },
      "source": [
        "<a href=\"https://colab.research.google.com/github/NamanChanduka/GNR/blob/main/GNR638-8.ipynb\" target=\"_parent\"><img src=\"https://colab.research.google.com/assets/colab-badge.svg\" alt=\"Open In Colab\"/></a>"
      ]
    },
    {
      "cell_type": "code",
      "metadata": {
        "id": "yJ00zbkt6_TK"
      },
      "source": [
        "import matplotlib.pyplot as plt\n",
        "import numpy as np\n",
        "import pandas as pd\n",
        "import os\n",
        "import pathlib\n",
        "import PIL\n",
        "import tensorflow as tf\n",
        "import cv2\n",
        "\n",
        "from tensorflow import keras\n",
        "from tensorflow.keras import layers\n",
        "from tensorflow.keras.models import Sequential\n",
        "\n",
        "import tensorflow.keras.layers as Layers\n",
        "import tensorflow.keras.activations as Actications\n",
        "import tensorflow.keras.models as Models\n",
        "import tensorflow.keras.optimizers as Optimizer\n",
        "from tensorflow.keras.optimizers import Adam,SGD,Adagrad,Adadelta,RMSprop\n",
        "import tensorflow.keras.metrics as Metrics\n",
        "import tensorflow.keras.utils as Utils\n",
        "from keras.utils.vis_utils import model_to_dot\n",
        "import seaborn as sns\n",
        "import os\n",
        "import matplotlib.pyplot as plot\n",
        "import cv2\n",
        "from sklearn.utils import shuffle\n",
        "from sklearn.metrics import confusion_matrix as CM\n",
        "from random import randint\n",
        "from IPython.display import SVG\n",
        "import matplotlib.gridspec as gridspec"
      ],
      "execution_count": 1,
      "outputs": []
    },
    {
      "cell_type": "markdown",
      "metadata": {
        "id": "oYnvZy9E7WXf"
      },
      "source": [
        "***Upload gnr_test.tar.xz and gnr_train.tar.xz***"
      ]
    },
    {
      "cell_type": "code",
      "metadata": {
        "id": "MrzYFW3y7DvQ"
      },
      "source": [
        "import tarfile\n",
        "my_tar = tarfile.open('gnr_train.tar.xz')\n",
        "my_tar.extractall('./data/train') # specify which folder to extract to\n",
        "my_tar.close()\n",
        "my_tar = tarfile.open('gnr_test.tar.xz')\n",
        "my_tar.extractall('./data/test') # specify which folder to extract to\n",
        "my_tar.close()"
      ],
      "execution_count": 2,
      "outputs": []
    },
    {
      "cell_type": "code",
      "metadata": {
        "id": "QD281my17POc"
      },
      "source": [
        "def get_images(path):\n",
        "  Images = []\n",
        "  Labels = []\n",
        "\n",
        "  for labels in os.listdir(path):\n",
        "    if os.path.isdir(path+labels):\n",
        "      if labels == 'basketball_court':\n",
        "        label = 0\n",
        "      elif labels == 'bridge':\n",
        "        label = 1\n",
        "      elif labels == 'crosswalk':\n",
        "        label = 2\n",
        "      elif labels == 'golf_course':\n",
        "        label = 3\n",
        "      elif labels == 'oil_well':\n",
        "        label = 4\n",
        "      elif labels == 'overpass':\n",
        "        label = 5\n",
        "      elif labels == 'railway':\n",
        "        label = 6\n",
        "      elif labels == 'runway':\n",
        "        label = 7\n",
        "      elif labels == 'swimming_pool':\n",
        "        label = 8\n",
        "      elif labels == 'tennis_court':\n",
        "        label = 9\n",
        "\n",
        "      for image in os.listdir(path+labels):\n",
        "        img = cv2.imread(path+labels+'/'+image)\n",
        "        img = cv2.resize(img, (256, 256))\n",
        "        Images.append(img)\n",
        "        Labels.append(label)\n",
        "\n",
        "    else:\n",
        "\n",
        "      for image in os.listdir(path):\n",
        "        img = cv2.imread(path+'/'+image)\n",
        "        img = cv2.resize(img, (256, 256))\n",
        "        Images.append(img)\n",
        "      break\n",
        "  return Images, Labels\n",
        "\n",
        "def get_classlabel(class_code):\n",
        "  labels = {0:'basketball_court', 1:'bridge', 2:'crosswalk', 3:'golf_course', 4:'oil_well', 5:'overpass', 6:'railway', 7:'runway', 8:'swimming_pool', 9:'tennis_court'}\n",
        "  return labels[class_code]"
      ],
      "execution_count": 3,
      "outputs": []
    },
    {
      "cell_type": "code",
      "metadata": {
        "colab": {
          "base_uri": "https://localhost:8080/"
        },
        "id": "nVQW_vKc-C5s",
        "outputId": "66e90b2c-48b6-42ae-8718-732444c8f8f3"
      },
      "source": [
        "Images, Labels = get_images('./data/train/train/') \n",
        "Images = np.array(Images) \n",
        "Labels = np.array(Labels)\n",
        "\n",
        "print(\"Shape of Images array is:\",Images.shape)\n",
        "print(\"Shape of Labels array is:\",Labels.shape)"
      ],
      "execution_count": 4,
      "outputs": [
        {
          "output_type": "stream",
          "name": "stdout",
          "text": [
            "Shape of Images array is: (500, 256, 256, 3)\n",
            "Shape of Labels array is: (500,)\n"
          ]
        }
      ]
    },
    {
      "cell_type": "code",
      "metadata": {
        "id": "93Bpw_c3-Sbz"
      },
      "source": [
        "from sklearn.model_selection import train_test_split\n",
        "import random as rn\n",
        "x_train,x_test,y_train,y_test=train_test_split(Images,Labels,test_size=0.2) \n",
        "y_train = tf.keras.utils.to_categorical(y_train, 10)\n",
        "y_test = tf.keras.utils.to_categorical(y_test, 10)"
      ],
      "execution_count": 5,
      "outputs": []
    },
    {
      "cell_type": "code",
      "metadata": {
        "id": "9ZAzVnnzxWl_"
      },
      "source": [
        "from tensorflow.keras.preprocessing.image import ImageDataGenerator\n",
        " \n",
        "gen = ImageDataGenerator(\n",
        "    rotation_range=60,\n",
        "    width_shift_range=0.1,\n",
        "    height_shift_range=0.1,\n",
        "    shear_range=0.1,\n",
        "    zoom_range= 0.1,\n",
        "    horizontal_flip=True,\n",
        "    vertical_flip=True,\n",
        "    fill_mode = \"reflect\"\n",
        "    \n",
        "    )\n",
        "\n",
        "gen.fit(x_train)"
      ],
      "execution_count": 24,
      "outputs": []
    },
    {
      "cell_type": "code",
      "metadata": {
        "id": "fx1KK_JoDcib"
      },
      "source": [
        "img_height = 256\n",
        "img_width = 256\n",
        "\n",
        "data_augmentation = keras.Sequential(\n",
        "  [\n",
        "    layers.experimental.preprocessing.RandomFlip(\"horizontal\", \n",
        "                                                 input_shape=(img_height, \n",
        "                                                              img_width,\n",
        "                                                              3)),\n",
        "    layers.RandomRotation(0.1),\n",
        "    layers.RandomZoom(0.1),\n",
        "    layers.RandomContrast(0.2)\n",
        "  ]\n",
        ")\n",
        "\n",
        "normalization_layer = layers.Rescaling(1./255)"
      ],
      "execution_count": 6,
      "outputs": []
    },
    {
      "cell_type": "code",
      "metadata": {
        "colab": {
          "base_uri": "https://localhost:8080/"
        },
        "id": "nfg_qhj9DJKI",
        "outputId": "a0e3e274-c262-469c-fe06-0176982d7b8a"
      },
      "source": [
        "def createmodel():\n",
        "    model = Models.Sequential()\n",
        "\n",
        "    #model.add(data_augmentation)\n",
        "    #model.add(normalization_layer)\n",
        "    # 1st Convolutional Layer\n",
        "    model.add(Layers.Conv2D(filters=64, kernel_size=(3,3),padding=\"Same\",activation=\"relu\" , input_shape = (256,256,3)))\n",
        "    model.add(Layers.MaxPool2D())\n",
        "    model.add(Layers.BatchNormalization())\n",
        "    #model.add(Layers.Dropout(0.15))\n",
        "    # 2nd Convolutional Layer\n",
        "    model.add(Layers.Conv2D(filters=128, kernel_size=(3,3),padding=\"Same\",activation=\"relu\"))\n",
        "    model.add(Layers.MaxPool2D())\n",
        "    model.add(Layers.BatchNormalization())\n",
        "    #model.add(Layers.Dropout(0.15))\n",
        "    # 3rd Convolutional Layer\n",
        "    model.add(Layers.Conv2D(filters=128, kernel_size=(3,3),padding=\"Same\",activation=\"relu\"))\n",
        "    model.add(Layers.MaxPool2D())\n",
        "    model.add(Layers.BatchNormalization())\n",
        "    #model.add(Layers.Dropout(0.15))\n",
        "    # 4th Convolutional Layer\n",
        "    model.add(Layers.Conv2D(filters=256,kernel_size = (3,3),padding=\"Same\",activation=\"relu\"))\n",
        "    model.add(Layers.MaxPool2D())\n",
        "    model.add(Layers.BatchNormalization())\n",
        "    #model.add(Layers.Dropout(0.15))\n",
        "    # 5th Convolutional Layer\n",
        "    model.add(Layers.Conv2D(filters=512,kernel_size = (3,3),padding=\"Same\",activation=\"relu\"))\n",
        "    model.add(Layers.MaxPool2D())\n",
        "    model.add(Layers.BatchNormalization())\n",
        "    model.add(Layers.Dropout(0.2))\n",
        "\n",
        "    model.add(Layers.Flatten())\n",
        "\n",
        "    # 1st Fully Connected Layer\n",
        "    model.add(Layers.Dense(256,activation=\"relu\"))\n",
        "    #model.add(Layers.Dropout(0.1))\n",
        "    model.add(Layers.BatchNormalization())\n",
        "    # 2nd Fully Connected Layer\n",
        "    model.add(Layers.Dense(128,activation=\"relu\"))\n",
        "    #model.add(Layers.Dropout(0.1)) \n",
        "    model.add(Layers.BatchNormalization())\n",
        "    # Add output layer\n",
        "    model.add(Layers.Dense(10,activation=\"softmax\"))\n",
        "    return model\n",
        "\n",
        "model1 = createmodel()\n",
        "batch_size = 32\n",
        "\n",
        "model1.summary()\n",
        "Utils.plot_model(model1,to_file='model.png',show_shapes=True)\n",
        "\n",
        "model1.compile(optimizer='adam', loss=tf.keras.losses.CategoricalCrossentropy(from_logits=False), metrics=['accuracy'])\n"
      ],
      "execution_count": 25,
      "outputs": [
        {
          "output_type": "stream",
          "name": "stdout",
          "text": [
            "Model: \"sequential_4\"\n",
            "_________________________________________________________________\n",
            "Layer (type)                 Output Shape              Param #   \n",
            "=================================================================\n",
            "conv2d_15 (Conv2D)           (None, 256, 256, 64)      1792      \n",
            "_________________________________________________________________\n",
            "max_pooling2d_15 (MaxPooling (None, 128, 128, 64)      0         \n",
            "_________________________________________________________________\n",
            "batch_normalization_21 (Batc (None, 128, 128, 64)      256       \n",
            "_________________________________________________________________\n",
            "conv2d_16 (Conv2D)           (None, 128, 128, 128)     73856     \n",
            "_________________________________________________________________\n",
            "max_pooling2d_16 (MaxPooling (None, 64, 64, 128)       0         \n",
            "_________________________________________________________________\n",
            "batch_normalization_22 (Batc (None, 64, 64, 128)       512       \n",
            "_________________________________________________________________\n",
            "conv2d_17 (Conv2D)           (None, 64, 64, 128)       147584    \n",
            "_________________________________________________________________\n",
            "max_pooling2d_17 (MaxPooling (None, 32, 32, 128)       0         \n",
            "_________________________________________________________________\n",
            "batch_normalization_23 (Batc (None, 32, 32, 128)       512       \n",
            "_________________________________________________________________\n",
            "conv2d_18 (Conv2D)           (None, 32, 32, 256)       295168    \n",
            "_________________________________________________________________\n",
            "max_pooling2d_18 (MaxPooling (None, 16, 16, 256)       0         \n",
            "_________________________________________________________________\n",
            "batch_normalization_24 (Batc (None, 16, 16, 256)       1024      \n",
            "_________________________________________________________________\n",
            "conv2d_19 (Conv2D)           (None, 16, 16, 512)       1180160   \n",
            "_________________________________________________________________\n",
            "max_pooling2d_19 (MaxPooling (None, 8, 8, 512)         0         \n",
            "_________________________________________________________________\n",
            "batch_normalization_25 (Batc (None, 8, 8, 512)         2048      \n",
            "_________________________________________________________________\n",
            "dropout_3 (Dropout)          (None, 8, 8, 512)         0         \n",
            "_________________________________________________________________\n",
            "flatten_3 (Flatten)          (None, 32768)             0         \n",
            "_________________________________________________________________\n",
            "dense_9 (Dense)              (None, 256)               8388864   \n",
            "_________________________________________________________________\n",
            "batch_normalization_26 (Batc (None, 256)               1024      \n",
            "_________________________________________________________________\n",
            "dense_10 (Dense)             (None, 128)               32896     \n",
            "_________________________________________________________________\n",
            "batch_normalization_27 (Batc (None, 128)               512       \n",
            "_________________________________________________________________\n",
            "dense_11 (Dense)             (None, 10)                1290      \n",
            "=================================================================\n",
            "Total params: 10,127,498\n",
            "Trainable params: 10,124,554\n",
            "Non-trainable params: 2,944\n",
            "_________________________________________________________________\n"
          ]
        }
      ]
    },
    {
      "cell_type": "code",
      "metadata": {
        "colab": {
          "base_uri": "https://localhost:8080/"
        },
        "id": "U4t_Jg4GETCm",
        "outputId": "9b3d9604-8aa9-4c00-f6a7-cfdc1699ec46"
      },
      "source": [
        "from keras.callbacks import ReduceLROnPlateau\n",
        "from keras.callbacks import ModelCheckpoint\n",
        "\n",
        "red_lr= ReduceLROnPlateau(monitor='val_loss',patience=4,verbose=1,factor=0.1, mode='min', min_lr=10**(-13))\n",
        "mcp_save = ModelCheckpoint('.mdl_wts.hdf5', save_best_only=True, monitor='val_accuracy', mode='max')\n",
        "\n",
        "epochs = 100\n",
        "history = model1.fit(gen.flow(x_train,y_train, batch_size=batch_size), \n",
        "                        epochs=epochs, \n",
        "                        validation_data = (x_test,y_test),\n",
        "                        verbose = 1,\n",
        "                        callbacks=[red_lr, mcp_save])"
      ],
      "execution_count": null,
      "outputs": [
        {
          "output_type": "stream",
          "name": "stdout",
          "text": [
            "Epoch 1/100\n",
            "13/13 [==============================] - 9s 570ms/step - loss: 1.4129 - accuracy: 0.5650 - val_loss: 278.9177 - val_accuracy: 0.1000\n",
            "Epoch 2/100\n",
            "13/13 [==============================] - 7s 573ms/step - loss: 0.6133 - accuracy: 0.8050 - val_loss: 146.4293 - val_accuracy: 0.1000\n",
            "Epoch 3/100\n",
            "13/13 [==============================] - 7s 542ms/step - loss: 0.4033 - accuracy: 0.8625 - val_loss: 65.6654 - val_accuracy: 0.1000\n",
            "Epoch 4/100\n",
            "13/13 [==============================] - 7s 548ms/step - loss: 0.2572 - accuracy: 0.9200 - val_loss: 33.8228 - val_accuracy: 0.1000\n",
            "Epoch 5/100\n",
            "13/13 [==============================] - 7s 546ms/step - loss: 0.2522 - accuracy: 0.9375 - val_loss: 8.4110 - val_accuracy: 0.1200\n",
            "Epoch 6/100\n",
            "13/13 [==============================] - 7s 545ms/step - loss: 0.2489 - accuracy: 0.9150 - val_loss: 7.6618 - val_accuracy: 0.1800\n",
            "Epoch 7/100\n",
            "13/13 [==============================] - 7s 530ms/step - loss: 0.1767 - accuracy: 0.9350 - val_loss: 4.5269 - val_accuracy: 0.3800\n",
            "Epoch 8/100\n",
            " 2/13 [===>..........................] - ETA: 6s - loss: 0.2045 - accuracy: 0.9375"
          ]
        }
      ]
    },
    {
      "cell_type": "code",
      "metadata": {
        "colab": {
          "base_uri": "https://localhost:8080/",
          "height": 822
        },
        "id": "J8uCx1SqE8s6",
        "outputId": "46d3c79c-fdd4-4e75-9d13-227f1269987b"
      },
      "source": [
        "# Loss Curves\n",
        "plt.figure(figsize=[8,6])\n",
        "plt.plot(history.history['loss'],'r',linewidth=2.0)\n",
        "plt.plot(history.history['val_loss'],'b',linewidth=2.0)\n",
        "plt.legend(['Training loss', 'Validation Loss'],fontsize=15)\n",
        "plt.xlabel('Epochs ',fontsize=16)\n",
        "plt.ylabel('Loss',fontsize=16)\n",
        "plt.title('Loss Curves',fontsize=16)\n",
        "\n",
        "# Accuracy Curves\n",
        "plt.figure(figsize=[8,6])\n",
        "plt.plot(history.history['accuracy'],'r',linewidth=2.0)\n",
        "plt.plot(history.history['val_accuracy'],'b',linewidth=2.0)\n",
        "plt.legend(['Training Accuracy', 'Validation Accuracy'],fontsize=16)\n",
        "plt.xlabel('Epochs ',fontsize=16)\n",
        "plt.ylabel('Accuracy',fontsize=16)\n",
        "plt.title('Accuracy Curves',fontsize=16)"
      ],
      "execution_count": 18,
      "outputs": [
        {
          "output_type": "execute_result",
          "data": {
            "text/plain": [
              "Text(0.5, 1.0, 'Accuracy Curves')"
            ]
          },
          "metadata": {},
          "execution_count": 18
        },
        {
          "output_type": "display_data",
          "data": {
            "image/png": "[encoded data removed]",
            "text/plain": [
              "<Figure size 576x432 with 1 Axes>"
            ]
          },
          "metadata": {
            "needs_background": "light"
          }
        },
        {
          "output_type": "display_data",
          "data": {
            "image/png": "[encoded data removed]",
            "text/plain": [
              "<Figure size 576x432 with 1 Axes>"
            ]
          },
          "metadata": {
            "needs_background": "light"
          }
        }
      ]
    },
    {
      "cell_type": "code",
      "metadata": {
        "id": "LIZ3F_ssKvMg"
      },
      "source": [
        "model1.load_weights('.mdl_wts.hdf5')"
      ],
      "execution_count": 19,
      "outputs": []
    },
    {
      "cell_type": "code",
      "metadata": {
        "colab": {
          "base_uri": "https://localhost:8080/"
        },
        "id": "kPOzU9oBL-Hx",
        "outputId": "e198a288-0aea-4c93-f8d1-4e248034a7b5"
      },
      "source": [
        "pred_images,no_labels = get_images('./data/test/')\n",
        "pred_images = np.array(pred_images)\n",
        "pred_images.shape"
      ],
      "execution_count": 20,
      "outputs": [
        {
          "output_type": "execute_result",
          "data": {
            "text/plain": [
              "(100, 256, 256, 3)"
            ]
          },
          "metadata": {},
          "execution_count": 20
        }
      ]
    },
    {
      "cell_type": "code",
      "metadata": {
        "id": "OqRXYqYCMR7s"
      },
      "source": [
        "submission = pd.DataFrame()\n",
        "a= []\n",
        "b=[]\n",
        "\n",
        "for img in os.listdir('./data/test/'):\n",
        "    image = cv2.imread('./data/test/'+str(img)) \n",
        "    image = cv2.resize(image,(256,256)) \n",
        "    image = np.reshape(image,[1,256,256,3])\n",
        "    a.append(img[0:3])\n",
        "    b.append(np.argmax(model1.predict(image)[0], axis=-1)+1)\n",
        "    \n",
        "    \n",
        "submission['ImageID'] = a\n",
        "submission['LabelID']= b\n",
        "    \n",
        "sub = submission.sort_values(by=['ImageID'])\n"
      ],
      "execution_count": 21,
      "outputs": []
    },
    {
      "cell_type": "code",
      "metadata": {
        "colab": {
          "base_uri": "https://localhost:8080/",
          "height": 204
        },
        "id": "BBZ61_zLMrB1",
        "outputId": "46986a3e-7d36-4599-c399-56318c0a09eb"
      },
      "source": [
        "sub.head()"
      ],
      "execution_count": 22,
      "outputs": [
        {
          "output_type": "execute_result",
          "data": {
            "text/html": [
              "<div>\n",
              "<style scoped>\n",
              "    .dataframe tbody tr th:only-of-type {\n",
              "        vertical-align: middle;\n",
              "    }\n",
              "\n",
              "    .dataframe tbody tr th {\n",
              "        vertical-align: top;\n",
              "    }\n",
              "\n",
              "    .dataframe thead th {\n",
              "        text-align: right;\n",
              "    }\n",
              "</style>\n",
              "<table border=\"1\" class=\"dataframe\">\n",
              "  <thead>\n",
              "    <tr style=\"text-align: right;\">\n",
              "      <th></th>\n",
              "      <th>ImageID</th>\n",
              "      <th>LabelID</th>\n",
              "    </tr>\n",
              "  </thead>\n",
              "  <tbody>\n",
              "    <tr>\n",
              "      <th>19</th>\n",
              "      <td>101</td>\n",
              "      <td>5</td>\n",
              "    </tr>\n",
              "    <tr>\n",
              "      <th>38</th>\n",
              "      <td>102</td>\n",
              "      <td>8</td>\n",
              "    </tr>\n",
              "    <tr>\n",
              "      <th>90</th>\n",
              "      <td>103</td>\n",
              "      <td>3</td>\n",
              "    </tr>\n",
              "    <tr>\n",
              "      <th>83</th>\n",
              "      <td>104</td>\n",
              "      <td>5</td>\n",
              "    </tr>\n",
              "    <tr>\n",
              "      <th>66</th>\n",
              "      <td>105</td>\n",
              "      <td>2</td>\n",
              "    </tr>\n",
              "  </tbody>\n",
              "</table>\n",
              "</div>"
            ],
            "text/plain": [
              "   ImageID  LabelID\n",
              "19     101        5\n",
              "38     102        8\n",
              "90     103        3\n",
              "83     104        5\n",
              "66     105        2"
            ]
          },
          "metadata": {},
          "execution_count": 22
        }
      ]
    },
    {
      "cell_type": "code",
      "metadata": {
        "id": "7wc4_6T0RylT"
      },
      "source": [
        "sub.to_csv('gnr.csv', index=False)"
      ],
      "execution_count": 23,
      "outputs": []
    },
    {
      "cell_type": "code",
      "metadata": {
        "id": "MrwaMYjJSt_X"
      },
      "source": [
        ""
      ],
      "execution_count": null,
      "outputs": []
    }
  ]
}