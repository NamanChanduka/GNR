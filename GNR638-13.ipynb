{
  "nbformat": 4,
  "nbformat_minor": 0,
  "metadata": {
    "colab": {
      "name": "GNR638.ipynb",
      "provenance": [],
      "collapsed_sections": [],
      "authorship_tag": "ABX9TyM13syHDhMuJ2BEdzLg1ekH",
      "include_colab_link": true
    },
    "kernelspec": {
      "name": "python3",
      "display_name": "Python 3"
    },
    "language_info": {
      "name": "python"
    },
    "accelerator": "GPU"
  },
  "cells": [
    {
      "cell_type": "markdown",
      "metadata": {
        "id": "view-in-github",
        "colab_type": "text"
      },
      "source": [
        "<a href=\"https://colab.research.google.com/github/NamanChanduka/GNR/blob/main/GNR638-13.ipynb\" target=\"_parent\"><img src=\"https://colab.research.google.com/assets/colab-badge.svg\" alt=\"Open In Colab\"/></a>"
      ]
    },
    {
      "cell_type": "code",
      "metadata": {
        "id": "yJ00zbkt6_TK"
      },
      "source": [
        "import matplotlib.pyplot as plt\n",
        "import numpy as np\n",
        "import pandas as pd\n",
        "import os\n",
        "import pathlib\n",
        "import PIL\n",
        "import tensorflow as tf\n",
        "import cv2\n",
        "\n",
        "from tensorflow import keras\n",
        "from tensorflow.keras import layers\n",
        "from tensorflow.keras.models import Sequential\n",
        "\n",
        "import tensorflow.keras.layers as Layers\n",
        "import tensorflow.keras.models as Models\n",
        "import tensorflow.keras.utils as Utils\n",
        "import os\n",
        "import matplotlib.pyplot as plot\n",
        "import cv2\n"
      ],
      "execution_count": 2,
      "outputs": []
    },
    {
      "cell_type": "markdown",
      "metadata": {
        "id": "oYnvZy9E7WXf"
      },
      "source": [
        "***Upload gnr_test.tar.xz and gnr_train.tar.xz***"
      ]
    },
    {
      "cell_type": "code",
      "metadata": {
        "id": "MrzYFW3y7DvQ"
      },
      "source": [
        "import tarfile\n",
        "my_tar = tarfile.open('gnr_train.tar.xz')\n",
        "my_tar.extractall('./data/train') # specify which folder to extract to\n",
        "my_tar.close()\n",
        "my_tar = tarfile.open('gnr_test.tar.xz')\n",
        "my_tar.extractall('./data/test') # specify which folder to extract to\n",
        "my_tar.close()"
      ],
      "execution_count": 3,
      "outputs": []
    },
    {
      "cell_type": "code",
      "metadata": {
        "id": "QD281my17POc"
      },
      "source": [
        "def get_images(path):\n",
        "  Images = []\n",
        "  Labels = []\n",
        "\n",
        "  for labels in os.listdir(path):\n",
        "    if os.path.isdir(path+labels):\n",
        "      if labels == 'basketball_court':\n",
        "        label = 0\n",
        "      elif labels == 'bridge':\n",
        "        label = 1\n",
        "      elif labels == 'crosswalk':\n",
        "        label = 2\n",
        "      elif labels == 'golf_course':\n",
        "        label = 3\n",
        "      elif labels == 'oil_well':\n",
        "        label = 4\n",
        "      elif labels == 'overpass':\n",
        "        label = 5\n",
        "      elif labels == 'railway':\n",
        "        label = 6\n",
        "      elif labels == 'runway':\n",
        "        label = 7\n",
        "      elif labels == 'swimming_pool':\n",
        "        label = 8\n",
        "      elif labels == 'tennis_court':\n",
        "        label = 9\n",
        "\n",
        "      for image in os.listdir(path+labels):\n",
        "        img = cv2.imread(path+labels+'/'+image)\n",
        "        img = cv2.resize(img, (256, 256))\n",
        "        Images.append(img)\n",
        "        Labels.append(label)\n",
        "\n",
        "    else:\n",
        "\n",
        "      for image in os.listdir(path):\n",
        "        img = cv2.imread(path+'/'+image)\n",
        "        img = cv2.resize(img, (256, 256))\n",
        "        Images.append(img)\n",
        "      break\n",
        "  return Images, Labels\n"
      ],
      "execution_count": 4,
      "outputs": []
    },
    {
      "cell_type": "code",
      "metadata": {
        "colab": {
          "base_uri": "https://localhost:8080/"
        },
        "id": "nVQW_vKc-C5s",
        "outputId": "1970f788-195e-413d-fe69-707dcc207d2d"
      },
      "source": [
        "Images, Labels = get_images('./data/train/train/') \n",
        "Images = np.array(Images) \n",
        "Labels = np.array(Labels)\n",
        "\n",
        "print(\"Shape of Images array is:\",Images.shape)\n",
        "print(\"Shape of Labels array is:\",Labels.shape)"
      ],
      "execution_count": 5,
      "outputs": [
        {
          "output_type": "stream",
          "name": "stdout",
          "text": [
            "Shape of Images array is: (500, 256, 256, 3)\n",
            "Shape of Labels array is: (500,)\n"
          ]
        }
      ]
    },
    {
      "cell_type": "code",
      "metadata": {
        "id": "93Bpw_c3-Sbz"
      },
      "source": [
        "from sklearn.model_selection import train_test_split\n",
        "x_train,x_test,y_train,y_test=train_test_split(Images,Labels,test_size=0.2) \n",
        "y_train = tf.keras.utils.to_categorical(y_train, 10)\n",
        "y_test = tf.keras.utils.to_categorical(y_test, 10)"
      ],
      "execution_count": 6,
      "outputs": []
    },
    {
      "cell_type": "code",
      "metadata": {
        "id": "9ZAzVnnzxWl_"
      },
      "source": [
        "from tensorflow.keras.preprocessing.image import ImageDataGenerator\n",
        " \n",
        "gen = ImageDataGenerator(\n",
        "    rotation_range=60,\n",
        "    width_shift_range=0.1,\n",
        "    height_shift_range=0.1,\n",
        "    shear_range=0.1,\n",
        "    zoom_range= 0.1,\n",
        "    horizontal_flip=True,\n",
        "    vertical_flip=True,\n",
        "    fill_mode = \"reflect\")\n",
        "\n",
        "gen.fit(x_train)"
      ],
      "execution_count": 7,
      "outputs": []
    },
    {
      "cell_type": "code",
      "metadata": {
        "id": "fx1KK_JoDcib"
      },
      "source": [
        "img_height = 256\n",
        "img_width = 256\n",
        "\n",
        "data_augmentation = keras.Sequential(\n",
        "  [\n",
        "    layers.experimental.preprocessing.RandomFlip(\"horizontal\", \n",
        "                                                 input_shape=(img_height, \n",
        "                                                              img_width,\n",
        "                                                              3)),\n",
        "    layers.RandomRotation(0.1),\n",
        "    layers.RandomZoom(0.1),\n",
        "    layers.RandomContrast(0.2)\n",
        "  ]\n",
        ")\n",
        "\n",
        "normalization_layer = layers.Rescaling(1./255)"
      ],
      "execution_count": 8,
      "outputs": []
    },
    {
      "cell_type": "code",
      "metadata": {
        "colab": {
          "base_uri": "https://localhost:8080/"
        },
        "id": "nfg_qhj9DJKI",
        "outputId": "9580c52d-ec6f-4f17-89d5-d973dfea4b28"
      },
      "source": [
        "def createmodel():\n",
        "    model = Models.Sequential()\n",
        "\n",
        "    #model.add(data_augmentation)\n",
        "    #model.add(normalization_layer)\n",
        "    # 1st Convolutional Layer\n",
        "    model.add(Layers.Conv2D(filters=256, kernel_size=(3,3),padding=\"Same\",activation=\"relu\" , input_shape = (256,256,3)))\n",
        "    model.add(Layers.MaxPool2D())\n",
        "    model.add(Layers.BatchNormalization())\n",
        "\n",
        "    # 2nd Convolutional Layer\n",
        "    model.add(Layers.Conv2D(filters=128, kernel_size=(3,3),padding=\"Same\",activation=\"relu\"))\n",
        "    model.add(Layers.MaxPool2D())\n",
        "    model.add(Layers.BatchNormalization())\n",
        "\n",
        "    # 3rd Convolutional Layer\n",
        "    model.add(Layers.Conv2D(filters=128, kernel_size=(3,3),padding=\"Same\",activation=\"relu\"))\n",
        "    model.add(Layers.MaxPool2D())\n",
        "    model.add(Layers.BatchNormalization())\n",
        "\n",
        "    # 4th Convolutional Layer\n",
        "    model.add(Layers.Conv2D(filters=256,kernel_size = (3,3),padding=\"Same\",activation=\"relu\"))\n",
        "    model.add(Layers.MaxPool2D())\n",
        "    model.add(Layers.BatchNormalization())\n",
        "\n",
        "    # 5th Convolutional Layer\n",
        "    model.add(Layers.Conv2D(filters=512,kernel_size = (3,3),padding=\"Same\",activation=\"relu\"))\n",
        "    model.add(Layers.MaxPool2D())\n",
        "    model.add(Layers.BatchNormalization())\n",
        "    model.add(Layers.Dropout(0.2))\n",
        "\n",
        "    model.add(Layers.Flatten())\n",
        "\n",
        "    # 1st Fully Connected Layer\n",
        "    model.add(Layers.Dense(256,activation=\"relu\"))\n",
        "\n",
        "    model.add(Layers.BatchNormalization())\n",
        "    # 2nd Fully Connected Layer\n",
        "    model.add(Layers.Dense(128,activation=\"relu\"))\n",
        "\n",
        "    model.add(Layers.BatchNormalization())\n",
        "    # Add output layer\n",
        "    model.add(Layers.Dense(10,activation=\"softmax\"))\n",
        "    return model\n",
        "\n",
        "model1 = createmodel()\n",
        "batch_size = 32\n",
        "\n",
        "model1.summary()\n",
        "#Utils.plot_model(model1,to_file='model.png',show_shapes=True)\n",
        "\n",
        "model1.compile(optimizer='adam', loss=tf.keras.losses.CategoricalCrossentropy(from_logits=False), metrics=['accuracy'])\n"
      ],
      "execution_count": 12,
      "outputs": [
        {
          "output_type": "stream",
          "name": "stdout",
          "text": [
            "Model: \"sequential_2\"\n",
            "_________________________________________________________________\n",
            "Layer (type)                 Output Shape              Param #   \n",
            "=================================================================\n",
            "conv2d_5 (Conv2D)            (None, 256, 256, 256)     7168      \n",
            "_________________________________________________________________\n",
            "max_pooling2d_5 (MaxPooling2 (None, 128, 128, 256)     0         \n",
            "_________________________________________________________________\n",
            "batch_normalization_7 (Batch (None, 128, 128, 256)     1024      \n",
            "_________________________________________________________________\n",
            "conv2d_6 (Conv2D)            (None, 128, 128, 128)     295040    \n",
            "_________________________________________________________________\n",
            "max_pooling2d_6 (MaxPooling2 (None, 64, 64, 128)       0         \n",
            "_________________________________________________________________\n",
            "batch_normalization_8 (Batch (None, 64, 64, 128)       512       \n",
            "_________________________________________________________________\n",
            "conv2d_7 (Conv2D)            (None, 64, 64, 128)       147584    \n",
            "_________________________________________________________________\n",
            "max_pooling2d_7 (MaxPooling2 (None, 32, 32, 128)       0         \n",
            "_________________________________________________________________\n",
            "batch_normalization_9 (Batch (None, 32, 32, 128)       512       \n",
            "_________________________________________________________________\n",
            "conv2d_8 (Conv2D)            (None, 32, 32, 256)       295168    \n",
            "_________________________________________________________________\n",
            "max_pooling2d_8 (MaxPooling2 (None, 16, 16, 256)       0         \n",
            "_________________________________________________________________\n",
            "batch_normalization_10 (Batc (None, 16, 16, 256)       1024      \n",
            "_________________________________________________________________\n",
            "conv2d_9 (Conv2D)            (None, 16, 16, 512)       1180160   \n",
            "_________________________________________________________________\n",
            "max_pooling2d_9 (MaxPooling2 (None, 8, 8, 512)         0         \n",
            "_________________________________________________________________\n",
            "batch_normalization_11 (Batc (None, 8, 8, 512)         2048      \n",
            "_________________________________________________________________\n",
            "dropout_1 (Dropout)          (None, 8, 8, 512)         0         \n",
            "_________________________________________________________________\n",
            "flatten_1 (Flatten)          (None, 32768)             0         \n",
            "_________________________________________________________________\n",
            "dense_3 (Dense)              (None, 256)               8388864   \n",
            "_________________________________________________________________\n",
            "batch_normalization_12 (Batc (None, 256)               1024      \n",
            "_________________________________________________________________\n",
            "dense_4 (Dense)              (None, 128)               32896     \n",
            "_________________________________________________________________\n",
            "batch_normalization_13 (Batc (None, 128)               512       \n",
            "_________________________________________________________________\n",
            "dense_5 (Dense)              (None, 10)                1290      \n",
            "=================================================================\n",
            "Total params: 10,354,826\n",
            "Trainable params: 10,351,498\n",
            "Non-trainable params: 3,328\n",
            "_________________________________________________________________\n"
          ]
        }
      ]
    },
    {
      "cell_type": "code",
      "metadata": {
        "id": "U4t_Jg4GETCm"
      },
      "source": [
        "from keras.callbacks import ReduceLROnPlateau\n",
        "from keras.callbacks import EarlyStopping\n",
        "from keras.callbacks import ModelCheckpoint\n",
        "\n",
        "red_lr= ReduceLROnPlateau(monitor='val_loss',patience=3,verbose=1,factor=0.1, mode='min', min_lr=10**(-13))\n",
        "mcp_save = ModelCheckpoint('.hi_wt.hdf5', save_best_only=True, monitor='val_loss', mode='min')\n",
        "early_stop = EarlyStopping(monitor='val_loss', patience=15)\n",
        "\n"
      ],
      "execution_count": 21,
      "outputs": []
    },
    {
      "cell_type": "code",
      "metadata": {
        "colab": {
          "base_uri": "https://localhost:8080/"
        },
        "id": "yyx-cSb3B6JI",
        "outputId": "25ba2021-9a0b-492e-ae07-28c791aab261"
      },
      "source": [
        "epochs = 100\n",
        "history = model1.fit(gen.flow(x_train,y_train, batch_size=batch_size), \n",
        "                        epochs=epochs, \n",
        "                        validation_data = (x_test,y_test),\n",
        "                        verbose = 1,\n",
        "                        callbacks=[red_lr, mcp_save, early_stop])"
      ],
      "execution_count": 14,
      "outputs": [
        {
          "output_type": "stream",
          "name": "stdout",
          "text": [
            "Epoch 1/100\n",
            "13/13 [==============================] - 11s 739ms/step - loss: 1.3402 - accuracy: 0.5925 - val_loss: 1114.3208 - val_accuracy: 0.1000\n",
            "Epoch 2/100\n",
            "13/13 [==============================] - 10s 713ms/step - loss: 0.5431 - accuracy: 0.8375 - val_loss: 466.8052 - val_accuracy: 0.1000\n",
            "Epoch 3/100\n",
            "13/13 [==============================] - 10s 707ms/step - loss: 0.3803 - accuracy: 0.8675 - val_loss: 199.6185 - val_accuracy: 0.1000\n",
            "Epoch 4/100\n",
            "13/13 [==============================] - 9s 741ms/step - loss: 0.3833 - accuracy: 0.8550 - val_loss: 57.3105 - val_accuracy: 0.1000\n",
            "Epoch 5/100\n",
            "13/13 [==============================] - 10s 714ms/step - loss: 0.3529 - accuracy: 0.9025 - val_loss: 46.6394 - val_accuracy: 0.1000\n",
            "Epoch 6/100\n",
            "13/13 [==============================] - 9s 704ms/step - loss: 0.3432 - accuracy: 0.8975 - val_loss: 34.2153 - val_accuracy: 0.1000\n",
            "Epoch 7/100\n",
            "13/13 [==============================] - 10s 710ms/step - loss: 0.2576 - accuracy: 0.9225 - val_loss: 14.0491 - val_accuracy: 0.1000\n",
            "Epoch 8/100\n",
            "13/13 [==============================] - 10s 715ms/step - loss: 0.2378 - accuracy: 0.9350 - val_loss: 10.3919 - val_accuracy: 0.2200\n",
            "Epoch 9/100\n",
            "13/13 [==============================] - 10s 716ms/step - loss: 0.1827 - accuracy: 0.9325 - val_loss: 6.2898 - val_accuracy: 0.2200\n",
            "Epoch 10/100\n",
            "13/13 [==============================] - 10s 708ms/step - loss: 0.1751 - accuracy: 0.9425 - val_loss: 1.4568 - val_accuracy: 0.5900\n",
            "Epoch 11/100\n",
            "13/13 [==============================] - 10s 716ms/step - loss: 0.1176 - accuracy: 0.9650 - val_loss: 3.8439 - val_accuracy: 0.4600\n",
            "Epoch 12/100\n",
            "13/13 [==============================] - 10s 714ms/step - loss: 0.1370 - accuracy: 0.9550 - val_loss: 3.7118 - val_accuracy: 0.4000\n",
            "Epoch 13/100\n",
            "13/13 [==============================] - 10s 713ms/step - loss: 0.1612 - accuracy: 0.9525 - val_loss: 4.8670 - val_accuracy: 0.4100\n",
            "\n",
            "Epoch 00013: ReduceLROnPlateau reducing learning rate to 0.00010000000474974513.\n",
            "Epoch 14/100\n",
            "13/13 [==============================] - 10s 718ms/step - loss: 0.0954 - accuracy: 0.9725 - val_loss: 2.3641 - val_accuracy: 0.5100\n",
            "Epoch 15/100\n",
            "13/13 [==============================] - 10s 719ms/step - loss: 0.0976 - accuracy: 0.9725 - val_loss: 1.3540 - val_accuracy: 0.6100\n",
            "Epoch 16/100\n",
            "13/13 [==============================] - 10s 711ms/step - loss: 0.0939 - accuracy: 0.9650 - val_loss: 0.4622 - val_accuracy: 0.8200\n",
            "Epoch 17/100\n",
            "13/13 [==============================] - 10s 712ms/step - loss: 0.0533 - accuracy: 0.9900 - val_loss: 0.2932 - val_accuracy: 0.8700\n",
            "Epoch 18/100\n",
            "13/13 [==============================] - 10s 718ms/step - loss: 0.0521 - accuracy: 0.9850 - val_loss: 0.1944 - val_accuracy: 0.9500\n",
            "Epoch 19/100\n",
            "13/13 [==============================] - 10s 717ms/step - loss: 0.0534 - accuracy: 0.9900 - val_loss: 0.2405 - val_accuracy: 0.9100\n",
            "Epoch 20/100\n",
            "13/13 [==============================] - 10s 710ms/step - loss: 0.0442 - accuracy: 0.9900 - val_loss: 0.1893 - val_accuracy: 0.9400\n",
            "Epoch 21/100\n",
            "13/13 [==============================] - 10s 708ms/step - loss: 0.0267 - accuracy: 0.9975 - val_loss: 0.1425 - val_accuracy: 0.9200\n",
            "Epoch 22/100\n",
            "13/13 [==============================] - 10s 724ms/step - loss: 0.0364 - accuracy: 0.9900 - val_loss: 0.1084 - val_accuracy: 0.9600\n",
            "Epoch 23/100\n",
            "13/13 [==============================] - 10s 720ms/step - loss: 0.0298 - accuracy: 1.0000 - val_loss: 0.1006 - val_accuracy: 0.9500\n",
            "Epoch 24/100\n",
            "13/13 [==============================] - 10s 714ms/step - loss: 0.0385 - accuracy: 0.9950 - val_loss: 0.0687 - val_accuracy: 0.9800\n",
            "Epoch 25/100\n",
            "13/13 [==============================] - 10s 727ms/step - loss: 0.0298 - accuracy: 1.0000 - val_loss: 0.0524 - val_accuracy: 0.9900\n",
            "Epoch 26/100\n",
            "13/13 [==============================] - 10s 724ms/step - loss: 0.0338 - accuracy: 0.9950 - val_loss: 0.0441 - val_accuracy: 0.9900\n",
            "Epoch 27/100\n",
            "13/13 [==============================] - 10s 718ms/step - loss: 0.0429 - accuracy: 0.9900 - val_loss: 0.0446 - val_accuracy: 0.9900\n",
            "Epoch 28/100\n",
            "13/13 [==============================] - 10s 722ms/step - loss: 0.0611 - accuracy: 0.9825 - val_loss: 0.0908 - val_accuracy: 0.9800\n",
            "Epoch 29/100\n",
            "13/13 [==============================] - 10s 719ms/step - loss: 0.0313 - accuracy: 0.9925 - val_loss: 0.0928 - val_accuracy: 0.9700\n",
            "\n",
            "Epoch 00029: ReduceLROnPlateau reducing learning rate to 1.0000000474974514e-05.\n",
            "Epoch 30/100\n",
            "13/13 [==============================] - 10s 725ms/step - loss: 0.0378 - accuracy: 0.9925 - val_loss: 0.0767 - val_accuracy: 0.9800\n",
            "Epoch 31/100\n",
            "13/13 [==============================] - 10s 717ms/step - loss: 0.0366 - accuracy: 0.9925 - val_loss: 0.0657 - val_accuracy: 0.9900\n",
            "Epoch 32/100\n",
            "13/13 [==============================] - 10s 716ms/step - loss: 0.0466 - accuracy: 0.9850 - val_loss: 0.0543 - val_accuracy: 0.9900\n",
            "\n",
            "Epoch 00032: ReduceLROnPlateau reducing learning rate to 1.0000000656873453e-06.\n",
            "Epoch 33/100\n",
            "13/13 [==============================] - 9s 700ms/step - loss: 0.0227 - accuracy: 0.9975 - val_loss: 0.0538 - val_accuracy: 0.9900\n",
            "Epoch 34/100\n",
            "13/13 [==============================] - 9s 698ms/step - loss: 0.0529 - accuracy: 0.9825 - val_loss: 0.0539 - val_accuracy: 0.9900\n",
            "Epoch 35/100\n",
            "13/13 [==============================] - 10s 723ms/step - loss: 0.0253 - accuracy: 1.0000 - val_loss: 0.0541 - val_accuracy: 0.9900\n",
            "\n",
            "Epoch 00035: ReduceLROnPlateau reducing learning rate to 1.0000001111620805e-07.\n",
            "Epoch 36/100\n",
            "13/13 [==============================] - 9s 746ms/step - loss: 0.0377 - accuracy: 0.9925 - val_loss: 0.0542 - val_accuracy: 0.9900\n",
            "Epoch 37/100\n",
            "13/13 [==============================] - 9s 741ms/step - loss: 0.0331 - accuracy: 0.9975 - val_loss: 0.0542 - val_accuracy: 0.9900\n",
            "Epoch 38/100\n",
            "13/13 [==============================] - 10s 713ms/step - loss: 0.0262 - accuracy: 0.9975 - val_loss: 0.0544 - val_accuracy: 0.9900\n",
            "\n",
            "Epoch 00038: ReduceLROnPlateau reducing learning rate to 1.000000082740371e-08.\n",
            "Epoch 39/100\n",
            "13/13 [==============================] - 10s 716ms/step - loss: 0.0520 - accuracy: 0.9800 - val_loss: 0.0551 - val_accuracy: 0.9900\n",
            "Epoch 40/100\n",
            "13/13 [==============================] - 10s 705ms/step - loss: 0.0394 - accuracy: 0.9925 - val_loss: 0.0563 - val_accuracy: 0.9900\n",
            "Epoch 41/100\n",
            "13/13 [==============================] - 10s 708ms/step - loss: 0.0344 - accuracy: 0.9925 - val_loss: 0.0569 - val_accuracy: 0.9900\n",
            "\n",
            "Epoch 00041: ReduceLROnPlateau reducing learning rate to 1.000000082740371e-09.\n"
          ]
        }
      ]
    },
    {
      "cell_type": "code",
      "metadata": {
        "colab": {
          "base_uri": "https://localhost:8080/",
          "height": 822
        },
        "id": "J8uCx1SqE8s6",
        "outputId": "d2ee5e09-edc1-4189-c68c-a7d0f1b78f65"
      },
      "source": [
        "# Loss Curves\n",
        "plt.figure(figsize=[6,6])\n",
        "plt.plot(history.history['loss'],'g',linewidth=2.0)\n",
        "plt.plot(history.history['val_loss'],'b',linewidth=2.0)\n",
        "plt.legend(['Train loss', 'Val Loss'],fontsize=10)\n",
        "plt.xlabel('Epochs ',fontsize=15)\n",
        "plt.ylabel('Loss',fontsize=15)\n",
        "plt.title('Loss Curves',fontsize=15)\n",
        "\n",
        "# Accuracy Curves\n",
        "plt.figure(figsize=[6,6])\n",
        "plt.plot(history.history['accuracy'],'g',linewidth=2.0)\n",
        "plt.plot(history.history['val_accuracy'],'b',linewidth=2.0)\n",
        "plt.legend(['Train Accuracy', 'Val Accuracy'],fontsize=16)\n",
        "plt.xlabel('Epochs ',fontsize=15)\n",
        "plt.ylabel('Accuracy',fontsize=15)\n",
        "plt.title('Accuracy Curves',fontsize=15)"
      ],
      "execution_count": 15,
      "outputs": [
        {
          "output_type": "execute_result",
          "data": {
            "text/plain": [
              "Text(0.5, 1.0, 'Accuracy Curves')"
            ]
          },
          "metadata": {},
          "execution_count": 15
        },
        {
          "output_type": "display_data",
          "data": {
            "image/png": "[encoded data removed]",
            "text/plain": [
              "<Figure size 432x432 with 1 Axes>"
            ]
          },
          "metadata": {
            "needs_background": "light"
          }
        },
        {
          "output_type": "display_data",
          "data": {
            "image/png": "[encoded data removed]",
            "text/plain": [
              "<Figure size 432x432 with 1 Axes>"
            ]
          },
          "metadata": {
            "needs_background": "light"
          }
        }
      ]
    },
    {
      "cell_type": "code",
      "metadata": {
        "id": "LIZ3F_ssKvMg"
      },
      "source": [
        "model1.load_weights('.hi_wt.hdf5')"
      ],
      "execution_count": 16,
      "outputs": []
    },
    {
      "cell_type": "code",
      "metadata": {
        "colab": {
          "base_uri": "https://localhost:8080/"
        },
        "id": "kPOzU9oBL-Hx",
        "outputId": "7a598e4a-07e2-47a2-d046-8a274df7efab"
      },
      "source": [
        "pred_images,pred_labels = get_images('./data/test/')\n",
        "pred_images = np.array(pred_images)\n",
        "pred_images.shape"
      ],
      "execution_count": 17,
      "outputs": [
        {
          "output_type": "execute_result",
          "data": {
            "text/plain": [
              "(100, 256, 256, 3)"
            ]
          },
          "metadata": {},
          "execution_count": 17
        }
      ]
    },
    {
      "cell_type": "code",
      "metadata": {
        "id": "OqRXYqYCMR7s"
      },
      "source": [
        "submission = pd.DataFrame()\n",
        "a= []\n",
        "b=[]\n",
        "\n",
        "for img in os.listdir('./data/test/'):\n",
        "    image = cv2.imread('./data/test/'+str(img)) \n",
        "    image = cv2.resize(image,(256,256)) \n",
        "    image = np.reshape(image,[1,256,256,3])\n",
        "    a.append(img[0:3])\n",
        "    b.append(np.argmax(model1.predict(image)[0], axis=-1)+1)\n",
        "    \n",
        "    \n",
        "submission['ImageID'] = a\n",
        "submission['LabelID']= b\n",
        "    \n",
        "sub = submission.sort_values(by=['ImageID'])\n"
      ],
      "execution_count": 18,
      "outputs": []
    },
    {
      "cell_type": "code",
      "metadata": {
        "id": "7wc4_6T0RylT"
      },
      "source": [
        "sub.to_csv('gnr.csv', index=False)"
      ],
      "execution_count": 19,
      "outputs": []
    }
  ]
}