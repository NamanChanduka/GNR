{
  "nbformat": 4,
  "nbformat_minor": 0,
  "metadata": {
    "colab": {
      "name": "GNR638.ipynb",
      "provenance": [],
      "collapsed_sections": [],
      "authorship_tag": "ABX9TyN44r8N2ELfOdaVld154XhH",
      "include_colab_link": true
    },
    "kernelspec": {
      "name": "python3",
      "display_name": "Python 3"
    },
    "language_info": {
      "name": "python"
    },
    "accelerator": "GPU"
  },
  "cells": [
    {
      "cell_type": "markdown",
      "metadata": {
        "id": "view-in-github",
        "colab_type": "text"
      },
      "source": [
        "<a href=\"https://colab.research.google.com/github/NamanChanduka/GNR/blob/main/GNR638-12.ipynb\" target=\"_parent\"><img src=\"https://colab.research.google.com/assets/colab-badge.svg\" alt=\"Open In Colab\"/></a>"
      ]
    },
    {
      "cell_type": "code",
      "metadata": {
        "id": "yJ00zbkt6_TK"
      },
      "source": [
        "import matplotlib.pyplot as plt\n",
        "import numpy as np\n",
        "import pandas as pd\n",
        "import os\n",
        "import pathlib\n",
        "import PIL\n",
        "import tensorflow as tf\n",
        "import cv2\n",
        "\n",
        "from tensorflow import keras\n",
        "from tensorflow.keras import layers\n",
        "from tensorflow.keras.models import Sequential\n",
        "\n",
        "import tensorflow.keras.layers as Layers\n",
        "import tensorflow.keras.models as Models\n",
        "import tensorflow.keras.utils as Utils\n",
        "import os\n",
        "import matplotlib.pyplot as plot\n",
        "import cv2\n"
      ],
      "execution_count": null,
      "outputs": []
    },
    {
      "cell_type": "markdown",
      "metadata": {
        "id": "oYnvZy9E7WXf"
      },
      "source": [
        "***Upload gnr_test.tar.xz and gnr_train.tar.xz***"
      ]
    },
    {
      "cell_type": "code",
      "metadata": {
        "id": "MrzYFW3y7DvQ"
      },
      "source": [
        "import tarfile\n",
        "my_tar = tarfile.open('gnr_train.tar.xz')\n",
        "my_tar.extractall('./data/train') # specify which folder to extract to\n",
        "my_tar.close()\n",
        "my_tar = tarfile.open('gnr_test.tar.xz')\n",
        "my_tar.extractall('./data/test') # specify which folder to extract to\n",
        "my_tar.close()"
      ],
      "execution_count": null,
      "outputs": []
    },
    {
      "cell_type": "code",
      "metadata": {
        "id": "QD281my17POc"
      },
      "source": [
        "def get_images(path):\n",
        "  Images = []\n",
        "  Labels = []\n",
        "\n",
        "  for labels in os.listdir(path):\n",
        "    if os.path.isdir(path+labels):\n",
        "      if labels == 'basketball_court':\n",
        "        label = 0\n",
        "      elif labels == 'bridge':\n",
        "        label = 1\n",
        "      elif labels == 'crosswalk':\n",
        "        label = 2\n",
        "      elif labels == 'golf_course':\n",
        "        label = 3\n",
        "      elif labels == 'oil_well':\n",
        "        label = 4\n",
        "      elif labels == 'overpass':\n",
        "        label = 5\n",
        "      elif labels == 'railway':\n",
        "        label = 6\n",
        "      elif labels == 'runway':\n",
        "        label = 7\n",
        "      elif labels == 'swimming_pool':\n",
        "        label = 8\n",
        "      elif labels == 'tennis_court':\n",
        "        label = 9\n",
        "\n",
        "      for image in os.listdir(path+labels):\n",
        "        img = cv2.imread(path+labels+'/'+image)\n",
        "        img = cv2.resize(img, (256, 256))\n",
        "        Images.append(img)\n",
        "        Labels.append(label)\n",
        "\n",
        "    else:\n",
        "\n",
        "      for image in os.listdir(path):\n",
        "        img = cv2.imread(path+'/'+image)\n",
        "        img = cv2.resize(img, (256, 256))\n",
        "        Images.append(img)\n",
        "      break\n",
        "  return Images, Labels\n",
        "\n",
        "def get_classlabel(class_code):\n",
        "  labels = {0:'basketball_court', 1:'bridge', 2:'crosswalk', 3:'golf_course', 4:'oil_well', 5:'overpass', 6:'railway', 7:'runway', 8:'swimming_pool', 9:'tennis_court'}\n",
        "  return labels[class_code]"
      ],
      "execution_count": null,
      "outputs": []
    },
    {
      "cell_type": "code",
      "metadata": {
        "colab": {
          "base_uri": "https://localhost:8080/"
        },
        "id": "nVQW_vKc-C5s",
        "outputId": "99d172c5-0325-4b3d-ba82-9e18dfda29d7"
      },
      "source": [
        "Images, Labels = get_images('./data/train/train/') \n",
        "Images = np.array(Images) \n",
        "Labels = np.array(Labels)\n",
        "\n",
        "print(\"Shape of Images array is:\",Images.shape)\n",
        "print(\"Shape of Labels array is:\",Labels.shape)"
      ],
      "execution_count": null,
      "outputs": [
        {
          "output_type": "stream",
          "name": "stdout",
          "text": [
            "Shape of Images array is: (500, 256, 256, 3)\n",
            "Shape of Labels array is: (500,)\n"
          ]
        }
      ]
    },
    {
      "cell_type": "code",
      "metadata": {
        "id": "93Bpw_c3-Sbz"
      },
      "source": [
        "from sklearn.model_selection import train_test_split\n",
        "x_train,x_test,y_train,y_test=train_test_split(Images,Labels,test_size=0.2) \n",
        "y_train = tf.keras.utils.to_categorical(y_train, 10)\n",
        "y_test = tf.keras.utils.to_categorical(y_test, 10)"
      ],
      "execution_count": null,
      "outputs": []
    },
    {
      "cell_type": "code",
      "metadata": {
        "id": "9ZAzVnnzxWl_"
      },
      "source": [
        "from tensorflow.keras.preprocessing.image import ImageDataGenerator\n",
        " \n",
        "gen = ImageDataGenerator(\n",
        "    rotation_range=60,\n",
        "    width_shift_range=0.1,\n",
        "    height_shift_range=0.1,\n",
        "    shear_range=0.1,\n",
        "    zoom_range= 0.1,\n",
        "    horizontal_flip=True,\n",
        "    vertical_flip=True,\n",
        "    fill_mode = \"reflect\"\n",
        "    \n",
        "    )\n",
        "\n",
        "gen.fit(x_train)"
      ],
      "execution_count": null,
      "outputs": []
    },
    {
      "cell_type": "code",
      "metadata": {
        "id": "fx1KK_JoDcib"
      },
      "source": [
        "img_height = 256\n",
        "img_width = 256\n",
        "\n",
        "data_augmentation = keras.Sequential(\n",
        "  [\n",
        "    layers.experimental.preprocessing.RandomFlip(\"horizontal\", \n",
        "                                                 input_shape=(img_height, \n",
        "                                                              img_width,\n",
        "                                                              3)),\n",
        "    layers.RandomRotation(0.1),\n",
        "    layers.RandomZoom(0.1),\n",
        "    layers.RandomContrast(0.2)\n",
        "  ]\n",
        ")\n",
        "\n",
        "normalization_layer = layers.Rescaling(1./255)"
      ],
      "execution_count": null,
      "outputs": []
    },
    {
      "cell_type": "code",
      "metadata": {
        "colab": {
          "base_uri": "https://localhost:8080/"
        },
        "id": "nfg_qhj9DJKI",
        "outputId": "17d6fce3-1fd7-4d78-9d3c-f2e08695ed79"
      },
      "source": [
        "def createmodel():\n",
        "    model = Models.Sequential()\n",
        "\n",
        "    #model.add(data_augmentation)\n",
        "    #model.add(normalization_layer)\n",
        "    # 1st Convolutional Layer\n",
        "    model.add(Layers.Conv2D(filters=256, kernel_size=(3,3),padding=\"Same\",activation=\"relu\" , input_shape = (256,256,3)))\n",
        "    model.add(Layers.MaxPool2D())\n",
        "    model.add(Layers.BatchNormalization())\n",
        "    #model.add(Layers.Dropout(0.15))\n",
        "    # 2nd Convolutional Layer\n",
        "    model.add(Layers.Conv2D(filters=128, kernel_size=(3,3),padding=\"Same\",activation=\"relu\"))\n",
        "    model.add(Layers.MaxPool2D())\n",
        "    model.add(Layers.BatchNormalization())\n",
        "    #model.add(Layers.Dropout(0.15))\n",
        "    # 3rd Convolutional Layer\n",
        "    model.add(Layers.Conv2D(filters=128, kernel_size=(3,3),padding=\"Same\",activation=\"relu\"))\n",
        "    model.add(Layers.MaxPool2D())\n",
        "    model.add(Layers.BatchNormalization())\n",
        "    #model.add(Layers.Dropout(0.15))\n",
        "    # 4th Convolutional Layer\n",
        "    model.add(Layers.Conv2D(filters=256,kernel_size = (3,3),padding=\"Same\",activation=\"relu\"))\n",
        "    model.add(Layers.MaxPool2D())\n",
        "    model.add(Layers.BatchNormalization())\n",
        "    #model.add(Layers.Dropout(0.15))\n",
        "    # 5th Convolutional Layer\n",
        "    model.add(Layers.Conv2D(filters=512,kernel_size = (3,3),padding=\"Same\",activation=\"relu\"))\n",
        "    model.add(Layers.MaxPool2D())\n",
        "    model.add(Layers.BatchNormalization())\n",
        "    model.add(Layers.Dropout(0.2))\n",
        "\n",
        "    model.add(Layers.Flatten())\n",
        "\n",
        "    # 1st Fully Connected Layer\n",
        "    model.add(Layers.Dense(256,activation=\"relu\"))\n",
        "    #model.add(Layers.Dropout(0.1))\n",
        "    model.add(Layers.BatchNormalization())\n",
        "    # 2nd Fully Connected Layer\n",
        "    model.add(Layers.Dense(128,activation=\"relu\"))\n",
        "    #model.add(Layers.Dropout(0.1)) \n",
        "    model.add(Layers.BatchNormalization())\n",
        "    # Add output layer\n",
        "    model.add(Layers.Dense(10,activation=\"softmax\"))\n",
        "    return model\n",
        "\n",
        "model1 = createmodel()\n",
        "batch_size = 32\n",
        "\n",
        "model1.summary()\n",
        "#Utils.plot_model(model1,to_file='model.png',show_shapes=True)\n",
        "\n",
        "model1.compile(optimizer='adam', loss=tf.keras.losses.CategoricalCrossentropy(from_logits=False), metrics=['accuracy'])\n"
      ],
      "execution_count": null,
      "outputs": [
        {
          "output_type": "stream",
          "name": "stdout",
          "text": [
            "Model: \"sequential_1\"\n",
            "_________________________________________________________________\n",
            "Layer (type)                 Output Shape              Param #   \n",
            "=================================================================\n",
            "conv2d (Conv2D)              (None, 256, 256, 256)     7168      \n",
            "_________________________________________________________________\n",
            "max_pooling2d (MaxPooling2D) (None, 128, 128, 256)     0         \n",
            "_________________________________________________________________\n",
            "batch_normalization (BatchNo (None, 128, 128, 256)     1024      \n",
            "_________________________________________________________________\n",
            "conv2d_1 (Conv2D)            (None, 128, 128, 128)     295040    \n",
            "_________________________________________________________________\n",
            "max_pooling2d_1 (MaxPooling2 (None, 64, 64, 128)       0         \n",
            "_________________________________________________________________\n",
            "batch_normalization_1 (Batch (None, 64, 64, 128)       512       \n",
            "_________________________________________________________________\n",
            "conv2d_2 (Conv2D)            (None, 64, 64, 128)       147584    \n",
            "_________________________________________________________________\n",
            "max_pooling2d_2 (MaxPooling2 (None, 32, 32, 128)       0         \n",
            "_________________________________________________________________\n",
            "batch_normalization_2 (Batch (None, 32, 32, 128)       512       \n",
            "_________________________________________________________________\n",
            "conv2d_3 (Conv2D)            (None, 32, 32, 256)       295168    \n",
            "_________________________________________________________________\n",
            "max_pooling2d_3 (MaxPooling2 (None, 16, 16, 256)       0         \n",
            "_________________________________________________________________\n",
            "batch_normalization_3 (Batch (None, 16, 16, 256)       1024      \n",
            "_________________________________________________________________\n",
            "conv2d_4 (Conv2D)            (None, 16, 16, 512)       1180160   \n",
            "_________________________________________________________________\n",
            "max_pooling2d_4 (MaxPooling2 (None, 8, 8, 512)         0         \n",
            "_________________________________________________________________\n",
            "batch_normalization_4 (Batch (None, 8, 8, 512)         2048      \n",
            "_________________________________________________________________\n",
            "dropout (Dropout)            (None, 8, 8, 512)         0         \n",
            "_________________________________________________________________\n",
            "flatten (Flatten)            (None, 32768)             0         \n",
            "_________________________________________________________________\n",
            "dense (Dense)                (None, 256)               8388864   \n",
            "_________________________________________________________________\n",
            "batch_normalization_5 (Batch (None, 256)               1024      \n",
            "_________________________________________________________________\n",
            "dense_1 (Dense)              (None, 128)               32896     \n",
            "_________________________________________________________________\n",
            "batch_normalization_6 (Batch (None, 128)               512       \n",
            "_________________________________________________________________\n",
            "dense_2 (Dense)              (None, 10)                1290      \n",
            "=================================================================\n",
            "Total params: 10,354,826\n",
            "Trainable params: 10,351,498\n",
            "Non-trainable params: 3,328\n",
            "_________________________________________________________________\n"
          ]
        }
      ]
    },
    {
      "cell_type": "code",
      "metadata": {
        "colab": {
          "base_uri": "https://localhost:8080/"
        },
        "id": "U4t_Jg4GETCm",
        "outputId": "15222073-c85f-4de1-fd16-8b0397f5f4d9"
      },
      "source": [
        "from keras.callbacks import ReduceLROnPlateau\n",
        "from keras.callbacks import EarlyStopping\n",
        "from keras.callbacks import ModelCheckpoint\n",
        "\n",
        "red_lr= ReduceLROnPlateau(monitor='val_loss',patience=3,verbose=1,factor=0.1, mode='min', min_lr=10**(-13))\n",
        "mcp_save = ModelCheckpoint('.hi_wt.hdf5', save_best_only=True, monitor='val_accuracy', mode='max')\n",
        "early_stop = EarlyStopping(monitor='val_loss', patience=10)\n",
        "\n",
        "epochs = 100\n",
        "history = model1.fit(gen.flow(x_train,y_train, batch_size=batch_size), \n",
        "                        epochs=epochs, \n",
        "                        validation_data = (x_test,y_test),\n",
        "                        verbose = 1,\n",
        "                        callbacks=[red_lr, mcp_save, early_stop])"
      ],
      "execution_count": null,
      "outputs": [
        {
          "output_type": "stream",
          "name": "stdout",
          "text": [
            "Epoch 1/100\n",
            "13/13 [==============================] - 16s 842ms/step - loss: 1.1316 - accuracy: 0.6175 - val_loss: 660.1259 - val_accuracy: 0.1000\n",
            "Epoch 2/100\n",
            "13/13 [==============================] - 10s 716ms/step - loss: 0.5465 - accuracy: 0.8400 - val_loss: 318.0642 - val_accuracy: 0.1000\n",
            "Epoch 3/100\n",
            "13/13 [==============================] - 10s 710ms/step - loss: 0.4357 - accuracy: 0.8600 - val_loss: 189.5363 - val_accuracy: 0.1000\n",
            "Epoch 4/100\n",
            "13/13 [==============================] - 9s 704ms/step - loss: 0.3274 - accuracy: 0.8900 - val_loss: 70.8034 - val_accuracy: 0.1000\n",
            "Epoch 5/100\n",
            "13/13 [==============================] - 10s 711ms/step - loss: 0.2759 - accuracy: 0.9025 - val_loss: 66.5207 - val_accuracy: 0.1000\n",
            "Epoch 6/100\n",
            "13/13 [==============================] - 10s 711ms/step - loss: 0.2858 - accuracy: 0.9075 - val_loss: 48.6819 - val_accuracy: 0.1000\n",
            "Epoch 7/100\n",
            "13/13 [==============================] - 10s 709ms/step - loss: 0.1981 - accuracy: 0.9325 - val_loss: 15.4003 - val_accuracy: 0.1400\n",
            "Epoch 8/100\n",
            "13/13 [==============================] - 10s 718ms/step - loss: 0.2006 - accuracy: 0.9225 - val_loss: 16.0433 - val_accuracy: 0.1100\n",
            "Epoch 9/100\n",
            "13/13 [==============================] - 10s 747ms/step - loss: 0.1710 - accuracy: 0.9300 - val_loss: 12.1071 - val_accuracy: 0.1600\n",
            "Epoch 10/100\n",
            "13/13 [==============================] - 10s 718ms/step - loss: 0.0919 - accuracy: 0.9700 - val_loss: 4.4977 - val_accuracy: 0.3500\n",
            "Epoch 11/100\n",
            "13/13 [==============================] - 10s 722ms/step - loss: 0.1026 - accuracy: 0.9725 - val_loss: 5.9697 - val_accuracy: 0.3100\n",
            "Epoch 12/100\n",
            "13/13 [==============================] - 10s 716ms/step - loss: 0.2073 - accuracy: 0.9350 - val_loss: 8.8637 - val_accuracy: 0.2400\n",
            "Epoch 13/100\n",
            "13/13 [==============================] - 10s 718ms/step - loss: 0.1620 - accuracy: 0.9425 - val_loss: 6.8336 - val_accuracy: 0.3600\n",
            "\n",
            "Epoch 00013: ReduceLROnPlateau reducing learning rate to 0.00010000000474974513.\n",
            "Epoch 14/100\n",
            "13/13 [==============================] - 10s 723ms/step - loss: 0.2009 - accuracy: 0.9350 - val_loss: 3.8391 - val_accuracy: 0.4900\n",
            "Epoch 15/100\n",
            "13/13 [==============================] - 10s 710ms/step - loss: 0.1233 - accuracy: 0.9675 - val_loss: 1.7393 - val_accuracy: 0.5500\n",
            "Epoch 16/100\n",
            "13/13 [==============================] - 10s 725ms/step - loss: 0.0644 - accuracy: 0.9850 - val_loss: 0.9808 - val_accuracy: 0.8000\n",
            "Epoch 17/100\n",
            "13/13 [==============================] - 10s 720ms/step - loss: 0.0752 - accuracy: 0.9775 - val_loss: 1.0694 - val_accuracy: 0.7400\n",
            "Epoch 18/100\n",
            "13/13 [==============================] - 10s 718ms/step - loss: 0.0738 - accuracy: 0.9775 - val_loss: 1.2783 - val_accuracy: 0.7200\n",
            "Epoch 19/100\n",
            "13/13 [==============================] - 10s 713ms/step - loss: 0.0758 - accuracy: 0.9850 - val_loss: 0.9841 - val_accuracy: 0.7200\n",
            "\n",
            "Epoch 00019: ReduceLROnPlateau reducing learning rate to 1.0000000474974514e-05.\n",
            "Epoch 20/100\n",
            "13/13 [==============================] - 10s 718ms/step - loss: 0.0532 - accuracy: 0.9900 - val_loss: 0.8170 - val_accuracy: 0.7900\n",
            "Epoch 21/100\n",
            "13/13 [==============================] - 10s 722ms/step - loss: 0.0576 - accuracy: 0.9825 - val_loss: 0.6391 - val_accuracy: 0.7900\n",
            "Epoch 22/100\n",
            "13/13 [==============================] - 10s 722ms/step - loss: 0.0672 - accuracy: 0.9775 - val_loss: 0.5011 - val_accuracy: 0.8200\n",
            "Epoch 23/100\n",
            "13/13 [==============================] - 10s 758ms/step - loss: 0.0444 - accuracy: 0.9925 - val_loss: 0.3833 - val_accuracy: 0.8800\n",
            "Epoch 24/100\n",
            "13/13 [==============================] - 10s 729ms/step - loss: 0.0481 - accuracy: 0.9900 - val_loss: 0.2962 - val_accuracy: 0.9200\n",
            "Epoch 25/100\n",
            "13/13 [==============================] - 10s 726ms/step - loss: 0.0575 - accuracy: 0.9825 - val_loss: 0.2574 - val_accuracy: 0.9300\n",
            "Epoch 26/100\n",
            "13/13 [==============================] - 10s 725ms/step - loss: 0.0539 - accuracy: 0.9925 - val_loss: 0.2195 - val_accuracy: 0.9400\n",
            "Epoch 27/100\n",
            "13/13 [==============================] - 10s 725ms/step - loss: 0.0451 - accuracy: 0.9875 - val_loss: 0.1733 - val_accuracy: 0.9500\n",
            "Epoch 28/100\n",
            "13/13 [==============================] - 10s 724ms/step - loss: 0.0470 - accuracy: 0.9850 - val_loss: 0.1463 - val_accuracy: 0.9500\n",
            "Epoch 29/100\n",
            "13/13 [==============================] - 10s 749ms/step - loss: 0.0418 - accuracy: 0.9925 - val_loss: 0.1292 - val_accuracy: 0.9600\n",
            "Epoch 30/100\n",
            "13/13 [==============================] - 10s 727ms/step - loss: 0.0451 - accuracy: 0.9875 - val_loss: 0.1141 - val_accuracy: 0.9700\n",
            "Epoch 31/100\n",
            "13/13 [==============================] - 10s 731ms/step - loss: 0.0455 - accuracy: 0.9900 - val_loss: 0.1043 - val_accuracy: 0.9800\n",
            "Epoch 32/100\n",
            "13/13 [==============================] - 10s 724ms/step - loss: 0.0553 - accuracy: 0.9875 - val_loss: 0.0963 - val_accuracy: 0.9800\n",
            "Epoch 33/100\n",
            "13/13 [==============================] - 10s 755ms/step - loss: 0.0576 - accuracy: 0.9850 - val_loss: 0.0909 - val_accuracy: 0.9800\n",
            "Epoch 34/100\n",
            "13/13 [==============================] - 10s 712ms/step - loss: 0.0569 - accuracy: 0.9875 - val_loss: 0.0864 - val_accuracy: 0.9800\n",
            "Epoch 35/100\n",
            "13/13 [==============================] - 10s 721ms/step - loss: 0.0507 - accuracy: 0.9900 - val_loss: 0.0816 - val_accuracy: 0.9800\n",
            "Epoch 36/100\n",
            "13/13 [==============================] - 9s 704ms/step - loss: 0.0467 - accuracy: 0.9875 - val_loss: 0.0772 - val_accuracy: 0.9800\n",
            "Epoch 37/100\n",
            "13/13 [==============================] - 10s 719ms/step - loss: 0.0563 - accuracy: 0.9850 - val_loss: 0.0740 - val_accuracy: 0.9800\n",
            "Epoch 38/100\n",
            "13/13 [==============================] - 10s 717ms/step - loss: 0.0412 - accuracy: 0.9900 - val_loss: 0.0703 - val_accuracy: 0.9900\n",
            "Epoch 39/100\n",
            "13/13 [==============================] - 10s 719ms/step - loss: 0.0581 - accuracy: 0.9875 - val_loss: 0.0686 - val_accuracy: 0.9900\n",
            "Epoch 40/100\n",
            "13/13 [==============================] - 10s 707ms/step - loss: 0.0427 - accuracy: 0.9900 - val_loss: 0.0669 - val_accuracy: 0.9900\n",
            "Epoch 41/100\n",
            "13/13 [==============================] - 10s 721ms/step - loss: 0.0504 - accuracy: 0.9900 - val_loss: 0.0652 - val_accuracy: 0.9900\n",
            "Epoch 42/100\n",
            "13/13 [==============================] - 10s 708ms/step - loss: 0.0421 - accuracy: 0.9875 - val_loss: 0.0644 - val_accuracy: 0.9900\n",
            "Epoch 43/100\n",
            "13/13 [==============================] - 10s 722ms/step - loss: 0.0423 - accuracy: 0.9900 - val_loss: 0.0647 - val_accuracy: 0.9900\n",
            "Epoch 44/100\n",
            "13/13 [==============================] - 10s 727ms/step - loss: 0.0459 - accuracy: 0.9850 - val_loss: 0.0659 - val_accuracy: 0.9900\n",
            "Epoch 45/100\n",
            "13/13 [==============================] - 10s 720ms/step - loss: 0.0582 - accuracy: 0.9850 - val_loss: 0.0670 - val_accuracy: 0.9900\n",
            "\n",
            "Epoch 00045: ReduceLROnPlateau reducing learning rate to 1.0000000656873453e-06.\n",
            "Epoch 46/100\n",
            "13/13 [==============================] - 10s 725ms/step - loss: 0.0345 - accuracy: 0.9925 - val_loss: 0.0671 - val_accuracy: 0.9900\n",
            "Epoch 47/100\n",
            "13/13 [==============================] - 10s 755ms/step - loss: 0.0561 - accuracy: 0.9850 - val_loss: 0.0672 - val_accuracy: 0.9900\n",
            "Epoch 48/100\n",
            "13/13 [==============================] - 10s 726ms/step - loss: 0.0665 - accuracy: 0.9800 - val_loss: 0.0676 - val_accuracy: 0.9900\n",
            "\n",
            "Epoch 00048: ReduceLROnPlateau reducing learning rate to 1.0000001111620805e-07.\n",
            "Epoch 49/100\n",
            "13/13 [==============================] - 10s 718ms/step - loss: 0.0612 - accuracy: 0.9850 - val_loss: 0.0673 - val_accuracy: 0.9900\n",
            "Epoch 50/100\n",
            "13/13 [==============================] - 10s 720ms/step - loss: 0.0389 - accuracy: 0.9900 - val_loss: 0.0674 - val_accuracy: 0.9900\n",
            "Epoch 51/100\n",
            "13/13 [==============================] - 10s 725ms/step - loss: 0.0427 - accuracy: 0.9900 - val_loss: 0.0675 - val_accuracy: 0.9900\n",
            "\n",
            "Epoch 00051: ReduceLROnPlateau reducing learning rate to 1.000000082740371e-08.\n",
            "Epoch 52/100\n",
            "13/13 [==============================] - 10s 719ms/step - loss: 0.0486 - accuracy: 0.9900 - val_loss: 0.0680 - val_accuracy: 0.9900\n"
          ]
        }
      ]
    },
    {
      "cell_type": "code",
      "metadata": {
        "colab": {
          "base_uri": "https://localhost:8080/",
          "height": 822
        },
        "id": "J8uCx1SqE8s6",
        "outputId": "cb843816-d072-496e-b504-33baced8449a"
      },
      "source": [
        "# Loss Curves\n",
        "plt.figure(figsize=[8,6])\n",
        "plt.plot(history.history['loss'],'r',linewidth=2.0)\n",
        "plt.plot(history.history['val_loss'],'b',linewidth=2.0)\n",
        "plt.legend(['Training loss', 'Validation Loss'],fontsize=15)\n",
        "plt.xlabel('Epochs ',fontsize=16)\n",
        "plt.ylabel('Loss',fontsize=16)\n",
        "plt.title('Loss Curves',fontsize=16)\n",
        "\n",
        "# Accuracy Curves\n",
        "plt.figure(figsize=[8,6])\n",
        "plt.plot(history.history['accuracy'],'r',linewidth=2.0)\n",
        "plt.plot(history.history['val_accuracy'],'b',linewidth=2.0)\n",
        "plt.legend(['Training Accuracy', 'Validation Accuracy'],fontsize=16)\n",
        "plt.xlabel('Epochs ',fontsize=16)\n",
        "plt.ylabel('Accuracy',fontsize=16)\n",
        "plt.title('Accuracy Curves',fontsize=16)"
      ],
      "execution_count": null,
      "outputs": [
        {
          "output_type": "execute_result",
          "data": {
            "text/plain": [
              "Text(0.5, 1.0, 'Accuracy Curves')"
            ]
          },
          "metadata": {},
          "execution_count": 14
        },
        {
          "output_type": "display_data",
          "data": {
            "image/png": "[encoded data removed]",
            "text/plain": [
              "<Figure size 576x432 with 1 Axes>"
            ]
          },
          "metadata": {
            "needs_background": "light"
          }
        },
        {
          "output_type": "display_data",
          "data": {
            "image/png": "[encoded data removed]",
            "text/plain": [
              "<Figure size 576x432 with 1 Axes>"
            ]
          },
          "metadata": {
            "needs_background": "light"
          }
        }
      ]
    },
    {
      "cell_type": "code",
      "metadata": {
        "id": "LIZ3F_ssKvMg"
      },
      "source": [
        "model1.load_weights('.hi_wt.hdf5')"
      ],
      "execution_count": null,
      "outputs": []
    },
    {
      "cell_type": "code",
      "metadata": {
        "colab": {
          "base_uri": "https://localhost:8080/"
        },
        "id": "kPOzU9oBL-Hx",
        "outputId": "da81127f-74e7-42d8-e1a8-6ccdea8393a7"
      },
      "source": [
        "pred_images,no_labels = get_images('./data/test/')\n",
        "pred_images = np.array(pred_images)\n",
        "pred_images.shape"
      ],
      "execution_count": null,
      "outputs": [
        {
          "output_type": "execute_result",
          "data": {
            "text/plain": [
              "(100, 256, 256, 3)"
            ]
          },
          "metadata": {},
          "execution_count": 16
        }
      ]
    },
    {
      "cell_type": "code",
      "metadata": {
        "id": "OqRXYqYCMR7s"
      },
      "source": [
        "submission = pd.DataFrame()\n",
        "a= []\n",
        "b=[]\n",
        "\n",
        "for img in os.listdir('./data/test/'):\n",
        "    image = cv2.imread('./data/test/'+str(img)) \n",
        "    image = cv2.resize(image,(256,256)) \n",
        "    image = np.reshape(image,[1,256,256,3])\n",
        "    a.append(img[0:3])\n",
        "    b.append(np.argmax(model1.predict(image)[0], axis=-1)+1)\n",
        "    \n",
        "    \n",
        "submission['ImageID'] = a\n",
        "submission['LabelID']= b\n",
        "    \n",
        "sub = submission.sort_values(by=['ImageID'])\n"
      ],
      "execution_count": null,
      "outputs": []
    },
    {
      "cell_type": "code",
      "metadata": {
        "colab": {
          "base_uri": "https://localhost:8080/",
          "height": 204
        },
        "id": "BBZ61_zLMrB1",
        "outputId": "776c4646-001b-4b6a-9802-f6aca59acb09"
      },
      "source": [
        "sub.head()"
      ],
      "execution_count": null,
      "outputs": [
        {
          "output_type": "execute_result",
          "data": {
            "text/html": [
              "<div>\n",
              "<style scoped>\n",
              "    .dataframe tbody tr th:only-of-type {\n",
              "        vertical-align: middle;\n",
              "    }\n",
              "\n",
              "    .dataframe tbody tr th {\n",
              "        vertical-align: top;\n",
              "    }\n",
              "\n",
              "    .dataframe thead th {\n",
              "        text-align: right;\n",
              "    }\n",
              "</style>\n",
              "<table border=\"1\" class=\"dataframe\">\n",
              "  <thead>\n",
              "    <tr style=\"text-align: right;\">\n",
              "      <th></th>\n",
              "      <th>ImageID</th>\n",
              "      <th>LabelID</th>\n",
              "    </tr>\n",
              "  </thead>\n",
              "  <tbody>\n",
              "    <tr>\n",
              "      <th>19</th>\n",
              "      <td>101</td>\n",
              "      <td>5</td>\n",
              "    </tr>\n",
              "    <tr>\n",
              "      <th>38</th>\n",
              "      <td>102</td>\n",
              "      <td>8</td>\n",
              "    </tr>\n",
              "    <tr>\n",
              "      <th>90</th>\n",
              "      <td>103</td>\n",
              "      <td>3</td>\n",
              "    </tr>\n",
              "    <tr>\n",
              "      <th>83</th>\n",
              "      <td>104</td>\n",
              "      <td>5</td>\n",
              "    </tr>\n",
              "    <tr>\n",
              "      <th>66</th>\n",
              "      <td>105</td>\n",
              "      <td>2</td>\n",
              "    </tr>\n",
              "  </tbody>\n",
              "</table>\n",
              "</div>"
            ],
            "text/plain": [
              "   ImageID  LabelID\n",
              "19     101        5\n",
              "38     102        8\n",
              "90     103        3\n",
              "83     104        5\n",
              "66     105        2"
            ]
          },
          "metadata": {},
          "execution_count": 18
        }
      ]
    },
    {
      "cell_type": "code",
      "metadata": {
        "id": "7wc4_6T0RylT"
      },
      "source": [
        "sub.to_csv('gnr.csv', index=False)"
      ],
      "execution_count": null,
      "outputs": []
    },
    {
      "cell_type": "code",
      "metadata": {
        "id": "JI7OxIq29-kA"
      },
      "source": [
        ""
      ],
      "execution_count": null,
      "outputs": []
    }
  ]
}