{
  "nbformat": 4,
  "nbformat_minor": 0,
  "metadata": {
    "colab": {
      "name": "GNR638.ipynb",
      "provenance": [],
      "collapsed_sections": [],
      "authorship_tag": "ABX9TyO3w8LfB3gzP+g/qylD6cJO",
      "include_colab_link": true
    },
    "kernelspec": {
      "name": "python3",
      "display_name": "Python 3"
    },
    "language_info": {
      "name": "python"
    },
    "accelerator": "GPU"
  },
  "cells": [
    {
      "cell_type": "markdown",
      "metadata": {
        "id": "view-in-github",
        "colab_type": "text"
      },
      "source": [
        "<a href=\"https://colab.research.google.com/github/NamanChanduka/GNR/blob/main/GNR638-10.ipynb\" target=\"_parent\"><img src=\"https://colab.research.google.com/assets/colab-badge.svg\" alt=\"Open In Colab\"/></a>"
      ]
    },
    {
      "cell_type": "code",
      "metadata": {
        "id": "yJ00zbkt6_TK"
      },
      "source": [
        "import matplotlib.pyplot as plt\n",
        "import numpy as np\n",
        "import pandas as pd\n",
        "import os\n",
        "import pathlib\n",
        "import PIL\n",
        "import tensorflow as tf\n",
        "import cv2\n",
        "\n",
        "from tensorflow import keras\n",
        "from tensorflow.keras import layers\n",
        "from tensorflow.keras.models import Sequential\n",
        "\n",
        "import tensorflow.keras.layers as Layers\n",
        "import tensorflow.keras.models as Models\n",
        "import tensorflow.keras.utils as Utils\n",
        "import os\n",
        "import matplotlib.pyplot as plot\n",
        "import cv2\n"
      ],
      "execution_count": 1,
      "outputs": []
    },
    {
      "cell_type": "markdown",
      "metadata": {
        "id": "oYnvZy9E7WXf"
      },
      "source": [
        "***Upload gnr_test.tar.xz and gnr_train.tar.xz***"
      ]
    },
    {
      "cell_type": "code",
      "metadata": {
        "id": "MrzYFW3y7DvQ"
      },
      "source": [
        "import tarfile\n",
        "my_tar = tarfile.open('gnr_train.tar.xz')\n",
        "my_tar.extractall('./data/train') # specify which folder to extract to\n",
        "my_tar.close()\n",
        "my_tar = tarfile.open('gnr_test.tar.xz')\n",
        "my_tar.extractall('./data/test') # specify which folder to extract to\n",
        "my_tar.close()"
      ],
      "execution_count": 2,
      "outputs": []
    },
    {
      "cell_type": "code",
      "metadata": {
        "id": "QD281my17POc"
      },
      "source": [
        "def get_images(path):\n",
        "  Images = []\n",
        "  Labels = []\n",
        "\n",
        "  for labels in os.listdir(path):\n",
        "    if os.path.isdir(path+labels):\n",
        "      if labels == 'basketball_court':\n",
        "        label = 0\n",
        "      elif labels == 'bridge':\n",
        "        label = 1\n",
        "      elif labels == 'crosswalk':\n",
        "        label = 2\n",
        "      elif labels == 'golf_course':\n",
        "        label = 3\n",
        "      elif labels == 'oil_well':\n",
        "        label = 4\n",
        "      elif labels == 'overpass':\n",
        "        label = 5\n",
        "      elif labels == 'railway':\n",
        "        label = 6\n",
        "      elif labels == 'runway':\n",
        "        label = 7\n",
        "      elif labels == 'swimming_pool':\n",
        "        label = 8\n",
        "      elif labels == 'tennis_court':\n",
        "        label = 9\n",
        "\n",
        "      for image in os.listdir(path+labels):\n",
        "        img = cv2.imread(path+labels+'/'+image)\n",
        "        img = cv2.resize(img, (256, 256))\n",
        "        Images.append(img)\n",
        "        Labels.append(label)\n",
        "\n",
        "    else:\n",
        "\n",
        "      for image in os.listdir(path):\n",
        "        img = cv2.imread(path+'/'+image)\n",
        "        img = cv2.resize(img, (256, 256))\n",
        "        Images.append(img)\n",
        "      break\n",
        "  return Images, Labels\n",
        "\n",
        "def get_classlabel(class_code):\n",
        "  labels = {0:'basketball_court', 1:'bridge', 2:'crosswalk', 3:'golf_course', 4:'oil_well', 5:'overpass', 6:'railway', 7:'runway', 8:'swimming_pool', 9:'tennis_court'}\n",
        "  return labels[class_code]"
      ],
      "execution_count": 3,
      "outputs": []
    },
    {
      "cell_type": "code",
      "metadata": {
        "colab": {
          "base_uri": "https://localhost:8080/"
        },
        "id": "nVQW_vKc-C5s",
        "outputId": "2d0e55c7-dc3e-4095-e748-f410f2defa04"
      },
      "source": [
        "Images, Labels = get_images('./data/train/train/') \n",
        "Images = np.array(Images) \n",
        "Labels = np.array(Labels)\n",
        "\n",
        "print(\"Shape of Images array is:\",Images.shape)\n",
        "print(\"Shape of Labels array is:\",Labels.shape)"
      ],
      "execution_count": 26,
      "outputs": [
        {
          "output_type": "stream",
          "name": "stdout",
          "text": [
            "Shape of Images array is: (500, 256, 256, 3)\n",
            "Shape of Labels array is: (500,)\n"
          ]
        }
      ]
    },
    {
      "cell_type": "code",
      "metadata": {
        "id": "93Bpw_c3-Sbz"
      },
      "source": [
        "from sklearn.model_selection import train_test_split\n",
        "x_train,x_test,y_train,y_test=train_test_split(Images,Labels,test_size=0.20) \n",
        "y_train = tf.keras.utils.to_categorical(y_train, 10)\n",
        "y_test = tf.keras.utils.to_categorical(y_test, 10)"
      ],
      "execution_count": 27,
      "outputs": []
    },
    {
      "cell_type": "code",
      "metadata": {
        "id": "9ZAzVnnzxWl_"
      },
      "source": [
        "from tensorflow.keras.preprocessing.image import ImageDataGenerator\n",
        " \n",
        "gen = ImageDataGenerator(\n",
        "    rotation_range=90,\n",
        "    width_shift_range=0.1,\n",
        "    height_shift_range=0.1,\n",
        "    shear_range=0.1,\n",
        "    zoom_range= 0.1,\n",
        "    horizontal_flip=True,\n",
        "    vertical_flip=True,\n",
        "    fill_mode = \"reflect\",\n",
        "    brightness_range=(0.8, 1),\n",
        "    channel_shift_range=100.0,)\n",
        "\n",
        "gen.fit(x_train)"
      ],
      "execution_count": 28,
      "outputs": []
    },
    {
      "cell_type": "code",
      "metadata": {
        "id": "fx1KK_JoDcib"
      },
      "source": [
        "img_height = 256\n",
        "img_width = 256\n",
        "\n",
        "data_augmentation = keras.Sequential(\n",
        "  [\n",
        "    layers.experimental.preprocessing.RandomFlip(\"horizontal\", \n",
        "                                                 input_shape=(img_height, \n",
        "                                                              img_width,\n",
        "                                                              3)),\n",
        "    layers.RandomRotation(0.1),\n",
        "    layers.RandomZoom(0.1),\n",
        "    layers.RandomContrast(0.2)\n",
        "  ]\n",
        ")\n",
        "\n",
        "normalization_layer = layers.Rescaling(1./255)"
      ],
      "execution_count": 29,
      "outputs": []
    },
    {
      "cell_type": "code",
      "metadata": {
        "colab": {
          "base_uri": "https://localhost:8080/"
        },
        "id": "nfg_qhj9DJKI",
        "outputId": "1f441c54-28fb-48ad-af4b-e76053209477"
      },
      "source": [
        "def createmodel():\n",
        "    model = Models.Sequential()\n",
        "\n",
        "    #model.add(data_augmentation)\n",
        "    #model.add(normalization_layer)\n",
        "    # 1st Convolutional Layer\n",
        "    model.add(Layers.Conv2D(filters=256, kernel_size=(5,5),padding=\"Same\",activation=\"relu\" , input_shape = (256,256,3)))\n",
        "    model.add(Layers.MaxPool2D())\n",
        "    model.add(Layers.BatchNormalization())\n",
        "    #model.add(Layers.Dropout(0.15))\n",
        "    # 2nd Convolutional Layer\n",
        "    model.add(Layers.Conv2D(filters=128, kernel_size=(3,3),padding=\"Same\",activation=\"relu\"))\n",
        "    model.add(Layers.MaxPool2D())\n",
        "    model.add(Layers.BatchNormalization())\n",
        "    #model.add(Layers.Dropout(0.15))\n",
        "    # 3rd Convolutional Layer\n",
        "    model.add(Layers.Conv2D(filters=128, kernel_size=(3,3),padding=\"Same\",activation=\"relu\"))\n",
        "    model.add(Layers.MaxPool2D())\n",
        "    model.add(Layers.BatchNormalization())\n",
        "    #model.add(Layers.Dropout(0.15))\n",
        "    # 4th Convolutional Layer\n",
        "    model.add(Layers.Conv2D(filters=256,kernel_size = (3,3),padding=\"Same\",activation=\"relu\"))\n",
        "    model.add(Layers.MaxPool2D())\n",
        "    model.add(Layers.BatchNormalization())\n",
        "    #model.add(Layers.Dropout(0.15))\n",
        "    # 5th Convolutional Layer\n",
        "    model.add(Layers.Conv2D(filters=512,kernel_size = (3,3),padding=\"Same\",activation=\"relu\"))\n",
        "    model.add(Layers.MaxPool2D())\n",
        "    model.add(Layers.BatchNormalization())\n",
        "    #model.add(Layers.Dropout(0.2))\n",
        "\n",
        "    model.add(Layers.Flatten())\n",
        "\n",
        "    # 1st Fully Connected Layer\n",
        "    model.add(Layers.Dense(256,activation=\"relu\"))\n",
        "    #model.add(Layers.Dropout(0.1))\n",
        "    model.add(Layers.BatchNormalization())\n",
        "    # 2nd Fully Connected Layer\n",
        "    model.add(Layers.Dense(128,activation=\"relu\"))\n",
        "    #model.add(Layers.Dropout(0.1)) \n",
        "    model.add(Layers.BatchNormalization())\n",
        "    # Add output layer\n",
        "    model.add(Layers.Dense(10,activation=\"softmax\"))\n",
        "    return model\n",
        "\n",
        "model1 = createmodel()\n",
        "batch_size = 32\n",
        "\n",
        "model1.summary()\n",
        "#Utils.plot_model(model1,to_file='model.png',show_shapes=True)\n",
        "\n",
        "model1.compile(optimizer='adam', loss=tf.keras.losses.CategoricalCrossentropy(from_logits=False), metrics=['accuracy'])\n"
      ],
      "execution_count": 30,
      "outputs": [
        {
          "output_type": "stream",
          "name": "stdout",
          "text": [
            "Model: \"sequential_12\"\n",
            "_________________________________________________________________\n",
            "Layer (type)                 Output Shape              Param #   \n",
            "=================================================================\n",
            "conv2d_45 (Conv2D)           (None, 256, 256, 256)     19456     \n",
            "_________________________________________________________________\n",
            "max_pooling2d_45 (MaxPooling (None, 128, 128, 256)     0         \n",
            "_________________________________________________________________\n",
            "batch_normalization_63 (Batc (None, 128, 128, 256)     1024      \n",
            "_________________________________________________________________\n",
            "conv2d_46 (Conv2D)           (None, 128, 128, 128)     295040    \n",
            "_________________________________________________________________\n",
            "max_pooling2d_46 (MaxPooling (None, 64, 64, 128)       0         \n",
            "_________________________________________________________________\n",
            "batch_normalization_64 (Batc (None, 64, 64, 128)       512       \n",
            "_________________________________________________________________\n",
            "conv2d_47 (Conv2D)           (None, 64, 64, 128)       147584    \n",
            "_________________________________________________________________\n",
            "max_pooling2d_47 (MaxPooling (None, 32, 32, 128)       0         \n",
            "_________________________________________________________________\n",
            "batch_normalization_65 (Batc (None, 32, 32, 128)       512       \n",
            "_________________________________________________________________\n",
            "conv2d_48 (Conv2D)           (None, 32, 32, 256)       295168    \n",
            "_________________________________________________________________\n",
            "max_pooling2d_48 (MaxPooling (None, 16, 16, 256)       0         \n",
            "_________________________________________________________________\n",
            "batch_normalization_66 (Batc (None, 16, 16, 256)       1024      \n",
            "_________________________________________________________________\n",
            "conv2d_49 (Conv2D)           (None, 16, 16, 512)       1180160   \n",
            "_________________________________________________________________\n",
            "max_pooling2d_49 (MaxPooling (None, 8, 8, 512)         0         \n",
            "_________________________________________________________________\n",
            "batch_normalization_67 (Batc (None, 8, 8, 512)         2048      \n",
            "_________________________________________________________________\n",
            "flatten_9 (Flatten)          (None, 32768)             0         \n",
            "_________________________________________________________________\n",
            "dense_27 (Dense)             (None, 256)               8388864   \n",
            "_________________________________________________________________\n",
            "batch_normalization_68 (Batc (None, 256)               1024      \n",
            "_________________________________________________________________\n",
            "dense_28 (Dense)             (None, 128)               32896     \n",
            "_________________________________________________________________\n",
            "batch_normalization_69 (Batc (None, 128)               512       \n",
            "_________________________________________________________________\n",
            "dense_29 (Dense)             (None, 10)                1290      \n",
            "=================================================================\n",
            "Total params: 10,367,114\n",
            "Trainable params: 10,363,786\n",
            "Non-trainable params: 3,328\n",
            "_________________________________________________________________\n"
          ]
        }
      ]
    },
    {
      "cell_type": "code",
      "metadata": {
        "colab": {
          "base_uri": "https://localhost:8080/"
        },
        "id": "U4t_Jg4GETCm",
        "outputId": "6fd19610-2ba2-400a-a750-7cb45c6593c5"
      },
      "source": [
        "from keras.callbacks import ReduceLROnPlateau\n",
        "from keras.callbacks import EarlyStopping\n",
        "from keras.callbacks import ModelCheckpoint\n",
        "\n",
        "red_lr= ReduceLROnPlateau(monitor='val_loss',patience=3,verbose=1,factor=0.1, mode='min', min_lr=10**(-13))\n",
        "mcp_save = ModelCheckpoint('.hi_wt.hdf5', save_best_only=True, monitor='val_accuracy', mode='max')\n",
        "early_stop = EarlyStopping(monitor='val_loss', patience=10)\n",
        "\n",
        "epochs = 100\n",
        "history = model1.fit(gen.flow(x_train,y_train, batch_size=batch_size), \n",
        "                        epochs=epochs, \n",
        "                        validation_data = (x_test,y_test),\n",
        "                        verbose = 1,\n",
        "                        callbacks=[red_lr, mcp_save, early_stop])"
      ],
      "execution_count": 31,
      "outputs": [
        {
          "output_type": "stream",
          "name": "stdout",
          "text": [
            "Epoch 1/100\n",
            "13/13 [==============================] - 13s 834ms/step - loss: 2.0707 - accuracy: 0.3450 - val_loss: 296.9543 - val_accuracy: 0.0700\n",
            "Epoch 2/100\n",
            "13/13 [==============================] - 11s 808ms/step - loss: 1.1831 - accuracy: 0.6075 - val_loss: 99.6542 - val_accuracy: 0.0700\n",
            "Epoch 3/100\n",
            "13/13 [==============================] - 11s 800ms/step - loss: 0.9452 - accuracy: 0.7000 - val_loss: 46.7536 - val_accuracy: 0.0900\n",
            "Epoch 4/100\n",
            "13/13 [==============================] - 11s 809ms/step - loss: 0.8519 - accuracy: 0.7050 - val_loss: 34.7494 - val_accuracy: 0.0800\n",
            "Epoch 5/100\n",
            "13/13 [==============================] - 11s 803ms/step - loss: 0.6509 - accuracy: 0.7850 - val_loss: 37.7692 - val_accuracy: 0.0700\n",
            "Epoch 6/100\n",
            "13/13 [==============================] - 11s 803ms/step - loss: 0.5816 - accuracy: 0.8100 - val_loss: 20.2192 - val_accuracy: 0.0900\n",
            "Epoch 7/100\n",
            "13/13 [==============================] - 11s 785ms/step - loss: 0.6933 - accuracy: 0.7625 - val_loss: 9.5727 - val_accuracy: 0.1500\n",
            "Epoch 8/100\n",
            "13/13 [==============================] - 11s 816ms/step - loss: 0.4747 - accuracy: 0.8300 - val_loss: 13.3262 - val_accuracy: 0.1900\n",
            "Epoch 9/100\n",
            "13/13 [==============================] - 11s 810ms/step - loss: 0.5348 - accuracy: 0.8075 - val_loss: 11.6436 - val_accuracy: 0.2200\n",
            "Epoch 10/100\n",
            "13/13 [==============================] - 11s 808ms/step - loss: 0.4447 - accuracy: 0.8350 - val_loss: 4.4575 - val_accuracy: 0.3300\n",
            "Epoch 11/100\n",
            "13/13 [==============================] - 11s 804ms/step - loss: 0.5299 - accuracy: 0.8250 - val_loss: 20.2491 - val_accuracy: 0.0700\n",
            "Epoch 12/100\n",
            "13/13 [==============================] - 11s 839ms/step - loss: 0.5743 - accuracy: 0.7950 - val_loss: 7.6884 - val_accuracy: 0.2700\n",
            "Epoch 13/100\n",
            "13/13 [==============================] - 11s 801ms/step - loss: 0.4208 - accuracy: 0.8450 - val_loss: 4.0785 - val_accuracy: 0.4100\n",
            "Epoch 14/100\n",
            "13/13 [==============================] - 11s 804ms/step - loss: 0.4996 - accuracy: 0.8375 - val_loss: 4.8801 - val_accuracy: 0.2800\n",
            "Epoch 15/100\n",
            "13/13 [==============================] - 11s 808ms/step - loss: 0.5108 - accuracy: 0.8375 - val_loss: 7.1951 - val_accuracy: 0.3200\n",
            "Epoch 16/100\n",
            "13/13 [==============================] - 11s 845ms/step - loss: 0.4392 - accuracy: 0.8275 - val_loss: 4.8408 - val_accuracy: 0.4300\n",
            "\n",
            "Epoch 00016: ReduceLROnPlateau reducing learning rate to 0.00010000000474974513.\n",
            "Epoch 17/100\n",
            "13/13 [==============================] - 11s 809ms/step - loss: 0.3943 - accuracy: 0.8800 - val_loss: 2.4703 - val_accuracy: 0.6000\n",
            "Epoch 18/100\n",
            "13/13 [==============================] - 11s 799ms/step - loss: 0.2711 - accuracy: 0.9100 - val_loss: 3.3258 - val_accuracy: 0.5100\n",
            "Epoch 19/100\n",
            "13/13 [==============================] - 11s 845ms/step - loss: 0.2715 - accuracy: 0.9075 - val_loss: 0.2866 - val_accuracy: 0.9100\n",
            "Epoch 20/100\n",
            "13/13 [==============================] - 11s 810ms/step - loss: 0.2569 - accuracy: 0.9200 - val_loss: 0.2804 - val_accuracy: 0.8900\n",
            "Epoch 21/100\n",
            "13/13 [==============================] - 11s 804ms/step - loss: 0.2320 - accuracy: 0.9275 - val_loss: 0.3637 - val_accuracy: 0.8700\n",
            "Epoch 22/100\n",
            "13/13 [==============================] - 11s 791ms/step - loss: 0.2342 - accuracy: 0.9275 - val_loss: 0.3586 - val_accuracy: 0.8600\n",
            "Epoch 23/100\n",
            "13/13 [==============================] - 11s 802ms/step - loss: 0.2108 - accuracy: 0.9350 - val_loss: 0.2689 - val_accuracy: 0.9200\n",
            "Epoch 24/100\n",
            "13/13 [==============================] - 11s 802ms/step - loss: 0.1832 - accuracy: 0.9525 - val_loss: 0.2672 - val_accuracy: 0.8800\n",
            "Epoch 25/100\n",
            "13/13 [==============================] - 11s 804ms/step - loss: 0.1813 - accuracy: 0.9400 - val_loss: 0.8453 - val_accuracy: 0.7000\n",
            "Epoch 26/100\n",
            "13/13 [==============================] - 11s 841ms/step - loss: 0.2175 - accuracy: 0.9350 - val_loss: 0.2042 - val_accuracy: 0.9000\n",
            "Epoch 27/100\n",
            "13/13 [==============================] - 11s 801ms/step - loss: 0.2198 - accuracy: 0.9300 - val_loss: 0.1934 - val_accuracy: 0.9300\n",
            "Epoch 28/100\n",
            "13/13 [==============================] - 11s 811ms/step - loss: 0.2577 - accuracy: 0.9125 - val_loss: 0.2753 - val_accuracy: 0.8900\n",
            "Epoch 29/100\n",
            "13/13 [==============================] - 11s 848ms/step - loss: 0.1661 - accuracy: 0.9475 - val_loss: 0.1626 - val_accuracy: 0.9500\n",
            "Epoch 30/100\n",
            "13/13 [==============================] - 11s 810ms/step - loss: 0.1669 - accuracy: 0.9550 - val_loss: 0.2646 - val_accuracy: 0.9200\n",
            "Epoch 31/100\n",
            "13/13 [==============================] - 11s 811ms/step - loss: 0.1692 - accuracy: 0.9425 - val_loss: 0.2585 - val_accuracy: 0.9000\n",
            "Epoch 32/100\n",
            "13/13 [==============================] - 11s 805ms/step - loss: 0.1478 - accuracy: 0.9525 - val_loss: 0.2324 - val_accuracy: 0.9300\n",
            "\n",
            "Epoch 00032: ReduceLROnPlateau reducing learning rate to 1.0000000474974514e-05.\n",
            "Epoch 33/100\n",
            "13/13 [==============================] - 11s 807ms/step - loss: 0.1494 - accuracy: 0.9400 - val_loss: 0.1525 - val_accuracy: 0.9700\n",
            "Epoch 34/100\n",
            "13/13 [==============================] - 11s 805ms/step - loss: 0.1865 - accuracy: 0.9325 - val_loss: 0.1435 - val_accuracy: 0.9700\n",
            "Epoch 35/100\n",
            "13/13 [==============================] - 11s 792ms/step - loss: 0.1950 - accuracy: 0.9425 - val_loss: 0.1262 - val_accuracy: 0.9500\n",
            "Epoch 36/100\n",
            "13/13 [==============================] - 11s 798ms/step - loss: 0.1583 - accuracy: 0.9575 - val_loss: 0.1228 - val_accuracy: 0.9500\n",
            "Epoch 37/100\n",
            "13/13 [==============================] - 11s 793ms/step - loss: 0.1734 - accuracy: 0.9425 - val_loss: 0.1154 - val_accuracy: 0.9600\n",
            "Epoch 38/100\n",
            "13/13 [==============================] - 11s 828ms/step - loss: 0.1674 - accuracy: 0.9600 - val_loss: 0.1084 - val_accuracy: 0.9600\n",
            "Epoch 39/100\n",
            "13/13 [==============================] - 11s 785ms/step - loss: 0.1688 - accuracy: 0.9525 - val_loss: 0.1044 - val_accuracy: 0.9600\n",
            "Epoch 40/100\n",
            "13/13 [==============================] - 11s 798ms/step - loss: 0.1488 - accuracy: 0.9625 - val_loss: 0.1100 - val_accuracy: 0.9600\n",
            "Epoch 41/100\n",
            "13/13 [==============================] - 11s 793ms/step - loss: 0.1585 - accuracy: 0.9475 - val_loss: 0.1086 - val_accuracy: 0.9500\n",
            "Epoch 42/100\n",
            "13/13 [==============================] - 11s 787ms/step - loss: 0.1473 - accuracy: 0.9625 - val_loss: 0.1007 - val_accuracy: 0.9500\n",
            "Epoch 43/100\n",
            "13/13 [==============================] - 11s 792ms/step - loss: 0.1722 - accuracy: 0.9500 - val_loss: 0.1015 - val_accuracy: 0.9700\n",
            "Epoch 44/100\n",
            "13/13 [==============================] - 11s 789ms/step - loss: 0.1666 - accuracy: 0.9525 - val_loss: 0.1024 - val_accuracy: 0.9700\n",
            "Epoch 45/100\n",
            "13/13 [==============================] - 11s 794ms/step - loss: 0.1359 - accuracy: 0.9650 - val_loss: 0.1018 - val_accuracy: 0.9700\n",
            "\n",
            "Epoch 00045: ReduceLROnPlateau reducing learning rate to 1.0000000656873453e-06.\n",
            "Epoch 46/100\n",
            "13/13 [==============================] - 11s 796ms/step - loss: 0.1458 - accuracy: 0.9525 - val_loss: 0.1019 - val_accuracy: 0.9700\n",
            "Epoch 47/100\n",
            "13/13 [==============================] - 11s 793ms/step - loss: 0.1983 - accuracy: 0.9450 - val_loss: 0.1011 - val_accuracy: 0.9700\n",
            "Epoch 48/100\n",
            "13/13 [==============================] - 11s 796ms/step - loss: 0.1576 - accuracy: 0.9625 - val_loss: 0.1026 - val_accuracy: 0.9700\n",
            "\n",
            "Epoch 00048: ReduceLROnPlateau reducing learning rate to 1.0000001111620805e-07.\n",
            "Epoch 49/100\n",
            "13/13 [==============================] - 11s 792ms/step - loss: 0.1493 - accuracy: 0.9575 - val_loss: 0.1031 - val_accuracy: 0.9700\n",
            "Epoch 50/100\n",
            "13/13 [==============================] - 11s 802ms/step - loss: 0.1385 - accuracy: 0.9575 - val_loss: 0.1024 - val_accuracy: 0.9700\n",
            "Epoch 51/100\n",
            "13/13 [==============================] - 11s 861ms/step - loss: 0.1683 - accuracy: 0.9500 - val_loss: 0.1034 - val_accuracy: 0.9600\n",
            "\n",
            "Epoch 00051: ReduceLROnPlateau reducing learning rate to 1.000000082740371e-08.\n",
            "Epoch 52/100\n",
            "13/13 [==============================] - 11s 821ms/step - loss: 0.1516 - accuracy: 0.9700 - val_loss: 0.1037 - val_accuracy: 0.9600\n"
          ]
        }
      ]
    },
    {
      "cell_type": "code",
      "metadata": {
        "colab": {
          "base_uri": "https://localhost:8080/",
          "height": 822
        },
        "id": "J8uCx1SqE8s6",
        "outputId": "08c3c574-d382-4ce1-f1a2-7a0c15a6ea42"
      },
      "source": [
        "# Loss Curves\n",
        "plt.figure(figsize=[8,6])\n",
        "plt.plot(history.history['loss'],'r',linewidth=2.0)\n",
        "plt.plot(history.history['val_loss'],'b',linewidth=2.0)\n",
        "plt.legend(['Training loss', 'Validation Loss'],fontsize=15)\n",
        "plt.xlabel('Epochs ',fontsize=16)\n",
        "plt.ylabel('Loss',fontsize=16)\n",
        "plt.title('Loss Curves',fontsize=16)\n",
        "\n",
        "# Accuracy Curves\n",
        "plt.figure(figsize=[8,6])\n",
        "plt.plot(history.history['accuracy'],'r',linewidth=2.0)\n",
        "plt.plot(history.history['val_accuracy'],'b',linewidth=2.0)\n",
        "plt.legend(['Training Accuracy', 'Validation Accuracy'],fontsize=16)\n",
        "plt.xlabel('Epochs ',fontsize=16)\n",
        "plt.ylabel('Accuracy',fontsize=16)\n",
        "plt.title('Accuracy Curves',fontsize=16)"
      ],
      "execution_count": 32,
      "outputs": [
        {
          "output_type": "execute_result",
          "data": {
            "text/plain": [
              "Text(0.5, 1.0, 'Accuracy Curves')"
            ]
          },
          "metadata": {},
          "execution_count": 32
        },
        {
          "output_type": "display_data",
          "data": {
            "image/png": "[encoded data removed]",
            "text/plain": [
              "<Figure size 576x432 with 1 Axes>"
            ]
          },
          "metadata": {
            "needs_background": "light"
          }
        },
        {
          "output_type": "display_data",
          "data": {
            "image/png": "[encoded data removed]",
            "text/plain": [
              "<Figure size 576x432 with 1 Axes>"
            ]
          },
          "metadata": {
            "needs_background": "light"
          }
        }
      ]
    },
    {
      "cell_type": "code",
      "metadata": {
        "id": "LIZ3F_ssKvMg"
      },
      "source": [
        "model1.load_weights('.hi_wt.hdf5')"
      ],
      "execution_count": 33,
      "outputs": []
    },
    {
      "cell_type": "code",
      "metadata": {
        "colab": {
          "base_uri": "https://localhost:8080/"
        },
        "id": "kPOzU9oBL-Hx",
        "outputId": "180d9f0d-6f07-418e-b0b5-5160b2dbcd1c"
      },
      "source": [
        "pred_images,no_labels = get_images('./data/test/')\n",
        "pred_images = np.array(pred_images)\n",
        "pred_images.shape"
      ],
      "execution_count": 34,
      "outputs": [
        {
          "output_type": "execute_result",
          "data": {
            "text/plain": [
              "(100, 256, 256, 3)"
            ]
          },
          "metadata": {},
          "execution_count": 34
        }
      ]
    },
    {
      "cell_type": "code",
      "metadata": {
        "id": "OqRXYqYCMR7s"
      },
      "source": [
        "submission = pd.DataFrame()\n",
        "a= []\n",
        "b=[]\n",
        "\n",
        "for img in os.listdir('./data/test/'):\n",
        "    image = cv2.imread('./data/test/'+str(img)) \n",
        "    image = cv2.resize(image,(256,256)) \n",
        "    image = np.reshape(image,[1,256,256,3])\n",
        "    a.append(img[0:3])\n",
        "    b.append(np.argmax(model1.predict(image)[0], axis=-1)+1)\n",
        "    \n",
        "    \n",
        "submission['ImageID'] = a\n",
        "submission['LabelID']= b\n",
        "    \n",
        "sub = submission.sort_values(by=['ImageID'])\n"
      ],
      "execution_count": 35,
      "outputs": []
    },
    {
      "cell_type": "code",
      "metadata": {
        "colab": {
          "base_uri": "https://localhost:8080/",
          "height": 204
        },
        "id": "BBZ61_zLMrB1",
        "outputId": "547b2296-8984-4fe4-d06e-b05f9d54c134"
      },
      "source": [
        "sub.head()"
      ],
      "execution_count": 36,
      "outputs": [
        {
          "output_type": "execute_result",
          "data": {
            "text/html": [
              "<div>\n",
              "<style scoped>\n",
              "    .dataframe tbody tr th:only-of-type {\n",
              "        vertical-align: middle;\n",
              "    }\n",
              "\n",
              "    .dataframe tbody tr th {\n",
              "        vertical-align: top;\n",
              "    }\n",
              "\n",
              "    .dataframe thead th {\n",
              "        text-align: right;\n",
              "    }\n",
              "</style>\n",
              "<table border=\"1\" class=\"dataframe\">\n",
              "  <thead>\n",
              "    <tr style=\"text-align: right;\">\n",
              "      <th></th>\n",
              "      <th>ImageID</th>\n",
              "      <th>LabelID</th>\n",
              "    </tr>\n",
              "  </thead>\n",
              "  <tbody>\n",
              "    <tr>\n",
              "      <th>19</th>\n",
              "      <td>101</td>\n",
              "      <td>5</td>\n",
              "    </tr>\n",
              "    <tr>\n",
              "      <th>38</th>\n",
              "      <td>102</td>\n",
              "      <td>10</td>\n",
              "    </tr>\n",
              "    <tr>\n",
              "      <th>90</th>\n",
              "      <td>103</td>\n",
              "      <td>3</td>\n",
              "    </tr>\n",
              "    <tr>\n",
              "      <th>83</th>\n",
              "      <td>104</td>\n",
              "      <td>5</td>\n",
              "    </tr>\n",
              "    <tr>\n",
              "      <th>66</th>\n",
              "      <td>105</td>\n",
              "      <td>1</td>\n",
              "    </tr>\n",
              "  </tbody>\n",
              "</table>\n",
              "</div>"
            ],
            "text/plain": [
              "   ImageID  LabelID\n",
              "19     101        5\n",
              "38     102       10\n",
              "90     103        3\n",
              "83     104        5\n",
              "66     105        1"
            ]
          },
          "metadata": {},
          "execution_count": 36
        }
      ]
    },
    {
      "cell_type": "code",
      "metadata": {
        "id": "7wc4_6T0RylT"
      },
      "source": [
        "sub.to_csv('gnr.csv', index=False)"
      ],
      "execution_count": 37,
      "outputs": []
    },
    {
      "cell_type": "code",
      "metadata": {
        "id": "JI7OxIq29-kA"
      },
      "source": [
        ""
      ],
      "execution_count": null,
      "outputs": []
    }
  ]
}