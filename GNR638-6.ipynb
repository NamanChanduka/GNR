{
  "nbformat": 4,
  "nbformat_minor": 0,
  "metadata": {
    "colab": {
      "name": "GNR638.ipynb",
      "provenance": [],
      "authorship_tag": "ABX9TyOEzuEBFkSLyo6Kl8o0hu0h",
      "include_colab_link": true
    },
    "kernelspec": {
      "name": "python3",
      "display_name": "Python 3"
    },
    "language_info": {
      "name": "python"
    },
    "accelerator": "GPU"
  },
  "cells": [
    {
      "cell_type": "markdown",
      "metadata": {
        "id": "view-in-github",
        "colab_type": "text"
      },
      "source": [
        "<a href=\"https://colab.research.google.com/github/NamanChanduka/GNR/blob/main/GNR638-6.ipynb\" target=\"_parent\"><img src=\"https://colab.research.google.com/assets/colab-badge.svg\" alt=\"Open In Colab\"/></a>"
      ]
    },
    {
      "cell_type": "code",
      "metadata": {
        "id": "yJ00zbkt6_TK"
      },
      "source": [
        "import matplotlib.pyplot as plt\n",
        "import numpy as np\n",
        "import pandas as pd\n",
        "import os\n",
        "import pathlib\n",
        "import PIL\n",
        "import tensorflow as tf\n",
        "import cv2\n",
        "\n",
        "from tensorflow import keras\n",
        "from tensorflow.keras import layers\n",
        "from tensorflow.keras.models import Sequential\n",
        "\n",
        "import tensorflow.keras.layers as Layers\n",
        "import tensorflow.keras.activations as Actications\n",
        "import tensorflow.keras.models as Models\n",
        "import tensorflow.keras.optimizers as Optimizer\n",
        "from tensorflow.keras.optimizers import Adam,SGD,Adagrad,Adadelta,RMSprop\n",
        "import tensorflow.keras.metrics as Metrics\n",
        "import tensorflow.keras.utils as Utils\n",
        "from keras.utils.vis_utils import model_to_dot\n",
        "import seaborn as sns\n",
        "import os\n",
        "import matplotlib.pyplot as plot\n",
        "import cv2\n",
        "from sklearn.utils import shuffle\n",
        "from sklearn.metrics import confusion_matrix as CM\n",
        "from random import randint\n",
        "from IPython.display import SVG\n",
        "import matplotlib.gridspec as gridspec"
      ],
      "execution_count": 1,
      "outputs": []
    },
    {
      "cell_type": "markdown",
      "metadata": {
        "id": "oYnvZy9E7WXf"
      },
      "source": [
        "***Upload gnr_test.tar.xz and gnr_train.tar.xz***"
      ]
    },
    {
      "cell_type": "code",
      "metadata": {
        "id": "MrzYFW3y7DvQ"
      },
      "source": [
        "import tarfile\n",
        "my_tar = tarfile.open('gnr_train.tar.xz')\n",
        "my_tar.extractall('./data/train') # specify which folder to extract to\n",
        "my_tar.close()\n",
        "my_tar = tarfile.open('gnr_test.tar.xz')\n",
        "my_tar.extractall('./data/test') # specify which folder to extract to\n",
        "my_tar.close()"
      ],
      "execution_count": 2,
      "outputs": []
    },
    {
      "cell_type": "code",
      "metadata": {
        "id": "QD281my17POc"
      },
      "source": [
        "def get_images(path):\n",
        "  Images = []\n",
        "  Labels = []\n",
        "\n",
        "  for labels in os.listdir(path):\n",
        "    if os.path.isdir(path+labels):\n",
        "      if labels == 'basketball_court':\n",
        "        label = 0\n",
        "      elif labels == 'bridge':\n",
        "        label = 1\n",
        "      elif labels == 'crosswalk':\n",
        "        label = 2\n",
        "      elif labels == 'golf_course':\n",
        "        label = 3\n",
        "      elif labels == 'oil_well':\n",
        "        label = 4\n",
        "      elif labels == 'overpass':\n",
        "        label = 5\n",
        "      elif labels == 'railway':\n",
        "        label = 6\n",
        "      elif labels == 'runway':\n",
        "        label = 7\n",
        "      elif labels == 'swimming_pool':\n",
        "        label = 8\n",
        "      elif labels == 'tennis_court':\n",
        "        label = 9\n",
        "\n",
        "      for image in os.listdir(path+labels):\n",
        "        img = cv2.imread(path+labels+'/'+image)\n",
        "        img = cv2.resize(img, (256, 256))\n",
        "        Images.append(img)\n",
        "        Labels.append(label)\n",
        "\n",
        "    else:\n",
        "\n",
        "      for image in os.listdir(path):\n",
        "        img = cv2.imread(path+'/'+image)\n",
        "        img = cv2.resize(img, (256, 256))\n",
        "        Images.append(img)\n",
        "      break\n",
        "  return Images, Labels\n",
        "\n",
        "def get_classlabel(class_code):\n",
        "  labels = {0:'basketball_court', 1:'bridge', 2:'crosswalk', 3:'golf_course', 4:'oil_well', 5:'overpass', 6:'railway', 7:'runway', 8:'swimming_pool', 9:'tennis_court'}\n",
        "  return labels[class_code]"
      ],
      "execution_count": 3,
      "outputs": []
    },
    {
      "cell_type": "code",
      "metadata": {
        "colab": {
          "base_uri": "https://localhost:8080/"
        },
        "id": "nVQW_vKc-C5s",
        "outputId": "66e90b2c-48b6-42ae-8718-732444c8f8f3"
      },
      "source": [
        "Images, Labels = get_images('./data/train/train/') \n",
        "Images = np.array(Images) \n",
        "Labels = np.array(Labels)\n",
        "\n",
        "print(\"Shape of Images array is:\",Images.shape)\n",
        "print(\"Shape of Labels array is:\",Labels.shape)"
      ],
      "execution_count": 4,
      "outputs": [
        {
          "output_type": "stream",
          "name": "stdout",
          "text": [
            "Shape of Images array is: (500, 256, 256, 3)\n",
            "Shape of Labels array is: (500,)\n"
          ]
        }
      ]
    },
    {
      "cell_type": "code",
      "metadata": {
        "id": "93Bpw_c3-Sbz"
      },
      "source": [
        "from sklearn.model_selection import train_test_split\n",
        "import random as rn\n",
        "x_train,x_test,y_train,y_test=train_test_split(Images,Labels,test_size=0.2) \n",
        "y_train = tf.keras.utils.to_categorical(y_train, 10)\n",
        "y_test = tf.keras.utils.to_categorical(y_test, 10)"
      ],
      "execution_count": 5,
      "outputs": []
    },
    {
      "cell_type": "code",
      "metadata": {
        "id": "fx1KK_JoDcib"
      },
      "source": [
        "img_height = 256\n",
        "img_width = 256\n",
        "\n",
        "data_augmentation = keras.Sequential(\n",
        "  [\n",
        "    layers.experimental.preprocessing.RandomFlip(\"horizontal\", \n",
        "                                                 input_shape=(img_height, \n",
        "                                                              img_width,\n",
        "                                                              3)),\n",
        "    layers.RandomRotation(0.1),\n",
        "    layers.RandomZoom(0.1),\n",
        "    layers.RandomContrast(0.2)\n",
        "  ]\n",
        ")\n",
        "\n",
        "normalization_layer = layers.Rescaling(1./255)"
      ],
      "execution_count": 6,
      "outputs": []
    },
    {
      "cell_type": "code",
      "metadata": {
        "colab": {
          "base_uri": "https://localhost:8080/"
        },
        "id": "nfg_qhj9DJKI",
        "outputId": "a4e968cb-5516-4108-c057-3032f173e242"
      },
      "source": [
        "def createmodel():\n",
        "    model = Models.Sequential()\n",
        "\n",
        "    #model.add(data_augmentation)\n",
        "    #model.add(normalization_layer)\n",
        "    # 1st Convolutional Layer\n",
        "    model.add(Layers.Conv2D(filters=64, kernel_size=(3,3),padding=\"Same\",activation=\"relu\" , input_shape = (256,256,3)))\n",
        "    model.add(Layers.MaxPool2D())\n",
        "    model.add(Layers.BatchNormalization())\n",
        "    #model.add(Layers.Dropout(0.15))\n",
        "    # 2nd Convolutional Layer\n",
        "    model.add(Layers.Conv2D(filters=128, kernel_size=(3,3),padding=\"Same\",activation=\"relu\"))\n",
        "    model.add(Layers.MaxPool2D())\n",
        "    model.add(Layers.BatchNormalization())\n",
        "    #model.add(Layers.Dropout(0.15))\n",
        "    # 3rd Convolutional Layer\n",
        "    model.add(Layers.Conv2D(filters=128, kernel_size=(3,3),padding=\"Same\",activation=\"relu\"))\n",
        "    model.add(Layers.MaxPool2D())\n",
        "    model.add(Layers.BatchNormalization())\n",
        "    #model.add(Layers.Dropout(0.15))\n",
        "    # 4th Convolutional Layer\n",
        "    model.add(Layers.Conv2D(filters=256,kernel_size = (3,3),padding=\"Same\",activation=\"relu\"))\n",
        "    model.add(Layers.MaxPool2D())\n",
        "    model.add(Layers.BatchNormalization())\n",
        "    #model.add(Layers.Dropout(0.15))\n",
        "    # 5th Convolutional Layer\n",
        "    model.add(Layers.Conv2D(filters=512,kernel_size = (3,3),padding=\"Same\",activation=\"relu\"))\n",
        "    model.add(Layers.MaxPool2D())\n",
        "    model.add(Layers.BatchNormalization())\n",
        "    model.add(Layers.Dropout(0.2))\n",
        "\n",
        "    model.add(Layers.Flatten())\n",
        "\n",
        "    # 1st Fully Connected Layer\n",
        "    model.add(Layers.Dense(256,activation=\"relu\"))\n",
        "    #model.add(Layers.Dropout(0.1))\n",
        "    model.add(Layers.BatchNormalization())\n",
        "    # 2nd Fully Connected Layer\n",
        "    model.add(Layers.Dense(128,activation=\"relu\"))\n",
        "    #model.add(Layers.Dropout(0.1)) \n",
        "    model.add(Layers.BatchNormalization())\n",
        "    # Add output layer\n",
        "    model.add(Layers.Dense(10,activation=\"softmax\"))\n",
        "    return model\n",
        "\n",
        "model1 = createmodel()\n",
        "batch_size = 32\n",
        "\n",
        "model1.summary()\n",
        "Utils.plot_model(model1,to_file='model.png',show_shapes=True)\n",
        "\n",
        "model1.compile(optimizer='adam', loss=tf.keras.losses.CategoricalCrossentropy(from_logits=False), metrics=['accuracy'])\n"
      ],
      "execution_count": 8,
      "outputs": [
        {
          "output_type": "stream",
          "name": "stdout",
          "text": [
            "Model: \"sequential_2\"\n",
            "_________________________________________________________________\n",
            "Layer (type)                 Output Shape              Param #   \n",
            "=================================================================\n",
            "conv2d_5 (Conv2D)            (None, 256, 256, 64)      1792      \n",
            "_________________________________________________________________\n",
            "max_pooling2d_5 (MaxPooling2 (None, 128, 128, 64)      0         \n",
            "_________________________________________________________________\n",
            "batch_normalization_7 (Batch (None, 128, 128, 64)      256       \n",
            "_________________________________________________________________\n",
            "conv2d_6 (Conv2D)            (None, 128, 128, 128)     73856     \n",
            "_________________________________________________________________\n",
            "max_pooling2d_6 (MaxPooling2 (None, 64, 64, 128)       0         \n",
            "_________________________________________________________________\n",
            "batch_normalization_8 (Batch (None, 64, 64, 128)       512       \n",
            "_________________________________________________________________\n",
            "conv2d_7 (Conv2D)            (None, 64, 64, 128)       147584    \n",
            "_________________________________________________________________\n",
            "max_pooling2d_7 (MaxPooling2 (None, 32, 32, 128)       0         \n",
            "_________________________________________________________________\n",
            "batch_normalization_9 (Batch (None, 32, 32, 128)       512       \n",
            "_________________________________________________________________\n",
            "conv2d_8 (Conv2D)            (None, 32, 32, 256)       295168    \n",
            "_________________________________________________________________\n",
            "max_pooling2d_8 (MaxPooling2 (None, 16, 16, 256)       0         \n",
            "_________________________________________________________________\n",
            "batch_normalization_10 (Batc (None, 16, 16, 256)       1024      \n",
            "_________________________________________________________________\n",
            "conv2d_9 (Conv2D)            (None, 16, 16, 512)       1180160   \n",
            "_________________________________________________________________\n",
            "max_pooling2d_9 (MaxPooling2 (None, 8, 8, 512)         0         \n",
            "_________________________________________________________________\n",
            "batch_normalization_11 (Batc (None, 8, 8, 512)         2048      \n",
            "_________________________________________________________________\n",
            "dropout_1 (Dropout)          (None, 8, 8, 512)         0         \n",
            "_________________________________________________________________\n",
            "flatten_1 (Flatten)          (None, 32768)             0         \n",
            "_________________________________________________________________\n",
            "dense_3 (Dense)              (None, 256)               8388864   \n",
            "_________________________________________________________________\n",
            "batch_normalization_12 (Batc (None, 256)               1024      \n",
            "_________________________________________________________________\n",
            "dense_4 (Dense)              (None, 128)               32896     \n",
            "_________________________________________________________________\n",
            "batch_normalization_13 (Batc (None, 128)               512       \n",
            "_________________________________________________________________\n",
            "dense_5 (Dense)              (None, 10)                1290      \n",
            "=================================================================\n",
            "Total params: 10,127,498\n",
            "Trainable params: 10,124,554\n",
            "Non-trainable params: 2,944\n",
            "_________________________________________________________________\n"
          ]
        }
      ]
    },
    {
      "cell_type": "code",
      "metadata": {
        "colab": {
          "base_uri": "https://localhost:8080/"
        },
        "id": "U4t_Jg4GETCm",
        "outputId": "d8f13265-211f-4edf-fbc9-8aca27bf930f"
      },
      "source": [
        "from keras.callbacks import ReduceLROnPlateau\n",
        "from keras.callbacks import ModelCheckpoint\n",
        "\n",
        "red_lr= ReduceLROnPlateau(monitor='val_loss',patience=4,verbose=1,factor=0.1, mode='min', min_lr=10**(-13))\n",
        "mcp_save = ModelCheckpoint('.mdl_wts.hdf5', save_best_only=True, monitor='val_accuracy', mode='max')\n",
        "\n",
        "epochs = 100\n",
        "history = model1.fit(x_train,y_train, batch_size=batch_size, \n",
        "                        epochs=epochs, \n",
        "                        validation_data = (x_test,y_test),\n",
        "                        verbose = 1,\n",
        "                        callbacks=[red_lr, mcp_save])"
      ],
      "execution_count": 9,
      "outputs": [
        {
          "output_type": "stream",
          "name": "stdout",
          "text": [
            "Epoch 1/100\n",
            "13/13 [==============================] - 13s 519ms/step - loss: 1.0175 - accuracy: 0.6800 - val_loss: 188.6517 - val_accuracy: 0.1000\n",
            "Epoch 2/100\n",
            "13/13 [==============================] - 3s 262ms/step - loss: 0.2799 - accuracy: 0.9125 - val_loss: 67.8512 - val_accuracy: 0.1000\n",
            "Epoch 3/100\n",
            "13/13 [==============================] - 3s 264ms/step - loss: 0.2092 - accuracy: 0.9525 - val_loss: 39.4948 - val_accuracy: 0.1000\n",
            "Epoch 4/100\n",
            "13/13 [==============================] - 3s 263ms/step - loss: 0.1039 - accuracy: 0.9700 - val_loss: 14.9501 - val_accuracy: 0.1700\n",
            "Epoch 5/100\n",
            "13/13 [==============================] - 3s 261ms/step - loss: 0.0743 - accuracy: 0.9775 - val_loss: 12.6160 - val_accuracy: 0.1000\n",
            "Epoch 6/100\n",
            "13/13 [==============================] - 3s 262ms/step - loss: 0.0786 - accuracy: 0.9825 - val_loss: 7.4780 - val_accuracy: 0.1100\n",
            "Epoch 7/100\n",
            "13/13 [==============================] - 3s 263ms/step - loss: 0.1990 - accuracy: 0.9525 - val_loss: 5.7831 - val_accuracy: 0.3000\n",
            "Epoch 8/100\n",
            "13/13 [==============================] - 3s 262ms/step - loss: 0.1297 - accuracy: 0.9600 - val_loss: 5.8005 - val_accuracy: 0.2000\n",
            "Epoch 9/100\n",
            "13/13 [==============================] - 3s 263ms/step - loss: 0.0595 - accuracy: 0.9875 - val_loss: 2.2079 - val_accuracy: 0.4700\n",
            "Epoch 10/100\n",
            "13/13 [==============================] - 3s 262ms/step - loss: 0.0483 - accuracy: 0.9950 - val_loss: 2.5498 - val_accuracy: 0.4200\n",
            "Epoch 11/100\n",
            "13/13 [==============================] - 3s 263ms/step - loss: 0.0429 - accuracy: 0.9875 - val_loss: 1.1130 - val_accuracy: 0.6000\n",
            "Epoch 12/100\n",
            "13/13 [==============================] - 3s 263ms/step - loss: 0.0244 - accuracy: 0.9950 - val_loss: 1.0180 - val_accuracy: 0.6900\n",
            "Epoch 13/100\n",
            "13/13 [==============================] - 3s 262ms/step - loss: 0.0122 - accuracy: 1.0000 - val_loss: 0.6228 - val_accuracy: 0.7700\n",
            "Epoch 14/100\n",
            "13/13 [==============================] - 3s 263ms/step - loss: 0.0097 - accuracy: 1.0000 - val_loss: 0.3378 - val_accuracy: 0.8900\n",
            "Epoch 15/100\n",
            "13/13 [==============================] - 3s 262ms/step - loss: 0.0092 - accuracy: 1.0000 - val_loss: 0.2682 - val_accuracy: 0.9300\n",
            "Epoch 16/100\n",
            "13/13 [==============================] - 3s 263ms/step - loss: 0.0070 - accuracy: 1.0000 - val_loss: 0.1362 - val_accuracy: 0.9500\n",
            "Epoch 17/100\n",
            "13/13 [==============================] - 3s 263ms/step - loss: 0.0058 - accuracy: 1.0000 - val_loss: 0.0849 - val_accuracy: 0.9800\n",
            "Epoch 18/100\n",
            "13/13 [==============================] - 3s 264ms/step - loss: 0.0230 - accuracy: 0.9925 - val_loss: 0.1926 - val_accuracy: 0.9600\n",
            "Epoch 19/100\n",
            "13/13 [==============================] - 3s 261ms/step - loss: 0.0298 - accuracy: 0.9900 - val_loss: 1.8876 - val_accuracy: 0.5900\n",
            "Epoch 20/100\n",
            "13/13 [==============================] - 3s 261ms/step - loss: 0.0338 - accuracy: 0.9875 - val_loss: 1.6024 - val_accuracy: 0.6700\n",
            "Epoch 21/100\n",
            "13/13 [==============================] - 3s 262ms/step - loss: 0.1248 - accuracy: 0.9700 - val_loss: 0.4029 - val_accuracy: 0.8800\n",
            "\n",
            "Epoch 00021: ReduceLROnPlateau reducing learning rate to 0.00010000000474974513.\n",
            "Epoch 22/100\n",
            "13/13 [==============================] - 3s 262ms/step - loss: 0.0420 - accuracy: 0.9900 - val_loss: 0.2509 - val_accuracy: 0.9300\n",
            "Epoch 23/100\n",
            "13/13 [==============================] - 3s 264ms/step - loss: 0.0255 - accuracy: 0.9950 - val_loss: 0.1859 - val_accuracy: 0.9700\n",
            "Epoch 24/100\n",
            "13/13 [==============================] - 3s 262ms/step - loss: 0.0139 - accuracy: 1.0000 - val_loss: 0.1598 - val_accuracy: 0.9700\n",
            "Epoch 25/100\n",
            "13/13 [==============================] - 3s 261ms/step - loss: 0.0119 - accuracy: 1.0000 - val_loss: 0.1460 - val_accuracy: 0.9700\n",
            "\n",
            "Epoch 00025: ReduceLROnPlateau reducing learning rate to 1.0000000474974514e-05.\n",
            "Epoch 26/100\n",
            "13/13 [==============================] - 3s 262ms/step - loss: 0.0084 - accuracy: 1.0000 - val_loss: 0.1398 - val_accuracy: 0.9700\n",
            "Epoch 27/100\n",
            "13/13 [==============================] - 3s 261ms/step - loss: 0.0230 - accuracy: 0.9975 - val_loss: 0.1356 - val_accuracy: 0.9700\n",
            "Epoch 28/100\n",
            "13/13 [==============================] - 3s 263ms/step - loss: 0.0199 - accuracy: 0.9950 - val_loss: 0.1334 - val_accuracy: 0.9800\n",
            "Epoch 29/100\n",
            "13/13 [==============================] - 3s 262ms/step - loss: 0.0103 - accuracy: 1.0000 - val_loss: 0.1322 - val_accuracy: 0.9800\n",
            "\n",
            "Epoch 00029: ReduceLROnPlateau reducing learning rate to 1.0000000656873453e-06.\n",
            "Epoch 30/100\n",
            "13/13 [==============================] - 3s 262ms/step - loss: 0.0129 - accuracy: 1.0000 - val_loss: 0.1322 - val_accuracy: 0.9800\n",
            "Epoch 31/100\n",
            "13/13 [==============================] - 3s 262ms/step - loss: 0.0094 - accuracy: 1.0000 - val_loss: 0.1321 - val_accuracy: 0.9800\n",
            "Epoch 32/100\n",
            "13/13 [==============================] - 3s 261ms/step - loss: 0.0101 - accuracy: 1.0000 - val_loss: 0.1325 - val_accuracy: 0.9800\n",
            "Epoch 33/100\n",
            "13/13 [==============================] - 3s 263ms/step - loss: 0.0114 - accuracy: 0.9975 - val_loss: 0.1329 - val_accuracy: 0.9800\n",
            "\n",
            "Epoch 00033: ReduceLROnPlateau reducing learning rate to 1.0000001111620805e-07.\n",
            "Epoch 34/100\n",
            "13/13 [==============================] - 3s 262ms/step - loss: 0.0135 - accuracy: 0.9975 - val_loss: 0.1332 - val_accuracy: 0.9700\n",
            "Epoch 35/100\n",
            "13/13 [==============================] - 3s 263ms/step - loss: 0.0125 - accuracy: 1.0000 - val_loss: 0.1339 - val_accuracy: 0.9700\n",
            "Epoch 36/100\n",
            "13/13 [==============================] - 3s 263ms/step - loss: 0.0091 - accuracy: 1.0000 - val_loss: 0.1343 - val_accuracy: 0.9700\n",
            "Epoch 37/100\n",
            "13/13 [==============================] - 3s 263ms/step - loss: 0.0082 - accuracy: 1.0000 - val_loss: 0.1342 - val_accuracy: 0.9700\n",
            "\n",
            "Epoch 00037: ReduceLROnPlateau reducing learning rate to 1.000000082740371e-08.\n",
            "Epoch 38/100\n",
            "13/13 [==============================] - 3s 263ms/step - loss: 0.0155 - accuracy: 0.9975 - val_loss: 0.1342 - val_accuracy: 0.9700\n",
            "Epoch 39/100\n",
            "13/13 [==============================] - 3s 262ms/step - loss: 0.0114 - accuracy: 1.0000 - val_loss: 0.1340 - val_accuracy: 0.9700\n",
            "Epoch 40/100\n",
            "13/13 [==============================] - 3s 261ms/step - loss: 0.0104 - accuracy: 1.0000 - val_loss: 0.1341 - val_accuracy: 0.9700\n",
            "Epoch 41/100\n",
            "13/13 [==============================] - 3s 262ms/step - loss: 0.0142 - accuracy: 0.9975 - val_loss: 0.1346 - val_accuracy: 0.9700\n",
            "\n",
            "Epoch 00041: ReduceLROnPlateau reducing learning rate to 1.000000082740371e-09.\n",
            "Epoch 42/100\n",
            "13/13 [==============================] - 3s 262ms/step - loss: 0.0069 - accuracy: 1.0000 - val_loss: 0.1343 - val_accuracy: 0.9700\n",
            "Epoch 43/100\n",
            "13/13 [==============================] - 3s 263ms/step - loss: 0.0126 - accuracy: 0.9975 - val_loss: 0.1341 - val_accuracy: 0.9700\n",
            "Epoch 44/100\n",
            "13/13 [==============================] - 3s 261ms/step - loss: 0.0085 - accuracy: 1.0000 - val_loss: 0.1340 - val_accuracy: 0.9700\n",
            "Epoch 45/100\n",
            "13/13 [==============================] - 3s 262ms/step - loss: 0.0103 - accuracy: 1.0000 - val_loss: 0.1340 - val_accuracy: 0.9700\n",
            "\n",
            "Epoch 00045: ReduceLROnPlateau reducing learning rate to 1.000000082740371e-10.\n",
            "Epoch 46/100\n",
            "13/13 [==============================] - 3s 261ms/step - loss: 0.0106 - accuracy: 1.0000 - val_loss: 0.1335 - val_accuracy: 0.9700\n",
            "Epoch 47/100\n",
            "13/13 [==============================] - 3s 262ms/step - loss: 0.0126 - accuracy: 1.0000 - val_loss: 0.1331 - val_accuracy: 0.9700\n",
            "Epoch 48/100\n",
            "13/13 [==============================] - 3s 263ms/step - loss: 0.0134 - accuracy: 1.0000 - val_loss: 0.1331 - val_accuracy: 0.9700\n",
            "Epoch 49/100\n",
            "13/13 [==============================] - 3s 263ms/step - loss: 0.0106 - accuracy: 1.0000 - val_loss: 0.1326 - val_accuracy: 0.9700\n",
            "\n",
            "Epoch 00049: ReduceLROnPlateau reducing learning rate to 1.000000082740371e-11.\n",
            "Epoch 50/100\n",
            "13/13 [==============================] - 3s 264ms/step - loss: 0.0120 - accuracy: 1.0000 - val_loss: 0.1324 - val_accuracy: 0.9700\n",
            "Epoch 51/100\n",
            "13/13 [==============================] - 3s 263ms/step - loss: 0.0119 - accuracy: 1.0000 - val_loss: 0.1326 - val_accuracy: 0.9700\n",
            "Epoch 52/100\n",
            "13/13 [==============================] - 3s 261ms/step - loss: 0.0129 - accuracy: 0.9975 - val_loss: 0.1330 - val_accuracy: 0.9700\n",
            "Epoch 53/100\n",
            "13/13 [==============================] - 3s 262ms/step - loss: 0.0137 - accuracy: 0.9975 - val_loss: 0.1332 - val_accuracy: 0.9700\n",
            "\n",
            "Epoch 00053: ReduceLROnPlateau reducing learning rate to 1.000000082740371e-12.\n",
            "Epoch 54/100\n",
            "13/13 [==============================] - 3s 263ms/step - loss: 0.0203 - accuracy: 0.9975 - val_loss: 0.1330 - val_accuracy: 0.9700\n",
            "Epoch 55/100\n",
            "13/13 [==============================] - 3s 263ms/step - loss: 0.0208 - accuracy: 0.9950 - val_loss: 0.1331 - val_accuracy: 0.9700\n",
            "Epoch 56/100\n",
            "13/13 [==============================] - 3s 265ms/step - loss: 0.0081 - accuracy: 1.0000 - val_loss: 0.1331 - val_accuracy: 0.9700\n",
            "Epoch 57/100\n",
            "13/13 [==============================] - 3s 262ms/step - loss: 0.0069 - accuracy: 1.0000 - val_loss: 0.1332 - val_accuracy: 0.9700\n",
            "\n",
            "Epoch 00057: ReduceLROnPlateau reducing learning rate to 1.0000001044244145e-13.\n",
            "Epoch 58/100\n",
            "13/13 [==============================] - 3s 263ms/step - loss: 0.0103 - accuracy: 1.0000 - val_loss: 0.1328 - val_accuracy: 0.9700\n",
            "Epoch 59/100\n",
            "13/13 [==============================] - 3s 262ms/step - loss: 0.0096 - accuracy: 1.0000 - val_loss: 0.1326 - val_accuracy: 0.9700\n",
            "Epoch 60/100\n",
            "13/13 [==============================] - 3s 263ms/step - loss: 0.0118 - accuracy: 1.0000 - val_loss: 0.1328 - val_accuracy: 0.9700\n",
            "Epoch 61/100\n",
            "13/13 [==============================] - 3s 263ms/step - loss: 0.0090 - accuracy: 1.0000 - val_loss: 0.1327 - val_accuracy: 0.9700\n",
            "\n",
            "Epoch 00061: ReduceLROnPlateau reducing learning rate to 1e-13.\n",
            "Epoch 62/100\n",
            "13/13 [==============================] - 3s 261ms/step - loss: 0.0138 - accuracy: 0.9975 - val_loss: 0.1334 - val_accuracy: 0.9700\n",
            "Epoch 63/100\n",
            "13/13 [==============================] - 3s 263ms/step - loss: 0.0065 - accuracy: 1.0000 - val_loss: 0.1338 - val_accuracy: 0.9700\n",
            "Epoch 64/100\n",
            "13/13 [==============================] - 3s 270ms/step - loss: 0.0111 - accuracy: 1.0000 - val_loss: 0.1342 - val_accuracy: 0.9700\n",
            "Epoch 65/100\n",
            "13/13 [==============================] - 3s 262ms/step - loss: 0.0105 - accuracy: 1.0000 - val_loss: 0.1339 - val_accuracy: 0.9700\n",
            "Epoch 66/100\n",
            "13/13 [==============================] - 3s 262ms/step - loss: 0.0091 - accuracy: 1.0000 - val_loss: 0.1340 - val_accuracy: 0.9700\n",
            "Epoch 67/100\n",
            "13/13 [==============================] - 3s 263ms/step - loss: 0.0185 - accuracy: 0.9975 - val_loss: 0.1338 - val_accuracy: 0.9700\n",
            "Epoch 68/100\n",
            "13/13 [==============================] - 3s 263ms/step - loss: 0.0089 - accuracy: 1.0000 - val_loss: 0.1334 - val_accuracy: 0.9700\n",
            "Epoch 69/100\n",
            "13/13 [==============================] - 3s 262ms/step - loss: 0.0091 - accuracy: 1.0000 - val_loss: 0.1334 - val_accuracy: 0.9700\n",
            "Epoch 70/100\n",
            "13/13 [==============================] - 3s 262ms/step - loss: 0.0069 - accuracy: 1.0000 - val_loss: 0.1334 - val_accuracy: 0.9700\n",
            "Epoch 71/100\n",
            "13/13 [==============================] - 3s 262ms/step - loss: 0.0102 - accuracy: 1.0000 - val_loss: 0.1332 - val_accuracy: 0.9700\n",
            "Epoch 72/100\n",
            "13/13 [==============================] - 3s 263ms/step - loss: 0.0083 - accuracy: 1.0000 - val_loss: 0.1333 - val_accuracy: 0.9700\n",
            "Epoch 73/100\n",
            "13/13 [==============================] - 3s 263ms/step - loss: 0.0102 - accuracy: 1.0000 - val_loss: 0.1334 - val_accuracy: 0.9700\n",
            "Epoch 74/100\n",
            "13/13 [==============================] - 3s 269ms/step - loss: 0.0130 - accuracy: 1.0000 - val_loss: 0.1332 - val_accuracy: 0.9700\n",
            "Epoch 75/100\n",
            "13/13 [==============================] - 3s 262ms/step - loss: 0.0123 - accuracy: 1.0000 - val_loss: 0.1335 - val_accuracy: 0.9700\n",
            "Epoch 76/100\n",
            "13/13 [==============================] - 3s 263ms/step - loss: 0.0097 - accuracy: 1.0000 - val_loss: 0.1331 - val_accuracy: 0.9700\n",
            "Epoch 77/100\n",
            "13/13 [==============================] - 3s 260ms/step - loss: 0.0111 - accuracy: 1.0000 - val_loss: 0.1335 - val_accuracy: 0.9700\n",
            "Epoch 78/100\n",
            "13/13 [==============================] - 3s 263ms/step - loss: 0.0091 - accuracy: 1.0000 - val_loss: 0.1336 - val_accuracy: 0.9700\n",
            "Epoch 79/100\n",
            "13/13 [==============================] - 3s 262ms/step - loss: 0.0096 - accuracy: 1.0000 - val_loss: 0.1336 - val_accuracy: 0.9700\n",
            "Epoch 80/100\n",
            "13/13 [==============================] - 3s 262ms/step - loss: 0.0166 - accuracy: 0.9975 - val_loss: 0.1334 - val_accuracy: 0.9700\n",
            "Epoch 81/100\n",
            "13/13 [==============================] - 3s 264ms/step - loss: 0.0142 - accuracy: 0.9975 - val_loss: 0.1334 - val_accuracy: 0.9700\n",
            "Epoch 82/100\n",
            "13/13 [==============================] - 3s 262ms/step - loss: 0.0081 - accuracy: 1.0000 - val_loss: 0.1334 - val_accuracy: 0.9700\n",
            "Epoch 83/100\n",
            "13/13 [==============================] - 3s 262ms/step - loss: 0.0096 - accuracy: 1.0000 - val_loss: 0.1334 - val_accuracy: 0.9700\n",
            "Epoch 84/100\n",
            "13/13 [==============================] - 3s 263ms/step - loss: 0.0099 - accuracy: 1.0000 - val_loss: 0.1336 - val_accuracy: 0.9700\n",
            "Epoch 85/100\n",
            "13/13 [==============================] - 3s 262ms/step - loss: 0.0090 - accuracy: 1.0000 - val_loss: 0.1336 - val_accuracy: 0.9700\n",
            "Epoch 86/100\n",
            "13/13 [==============================] - 3s 264ms/step - loss: 0.0100 - accuracy: 1.0000 - val_loss: 0.1333 - val_accuracy: 0.9700\n",
            "Epoch 87/100\n",
            "13/13 [==============================] - 3s 263ms/step - loss: 0.0169 - accuracy: 1.0000 - val_loss: 0.1330 - val_accuracy: 0.9700\n",
            "Epoch 88/100\n",
            "13/13 [==============================] - 3s 263ms/step - loss: 0.0107 - accuracy: 0.9975 - val_loss: 0.1328 - val_accuracy: 0.9700\n",
            "Epoch 89/100\n",
            "13/13 [==============================] - 3s 265ms/step - loss: 0.0132 - accuracy: 0.9975 - val_loss: 0.1331 - val_accuracy: 0.9700\n",
            "Epoch 90/100\n",
            "13/13 [==============================] - 3s 262ms/step - loss: 0.0111 - accuracy: 1.0000 - val_loss: 0.1332 - val_accuracy: 0.9700\n",
            "Epoch 91/100\n",
            "13/13 [==============================] - 3s 263ms/step - loss: 0.0118 - accuracy: 1.0000 - val_loss: 0.1329 - val_accuracy: 0.9700\n",
            "Epoch 92/100\n",
            "13/13 [==============================] - 3s 263ms/step - loss: 0.0109 - accuracy: 0.9975 - val_loss: 0.1329 - val_accuracy: 0.9700\n",
            "Epoch 93/100\n",
            "13/13 [==============================] - 3s 262ms/step - loss: 0.0112 - accuracy: 1.0000 - val_loss: 0.1332 - val_accuracy: 0.9700\n",
            "Epoch 94/100\n",
            "13/13 [==============================] - 3s 263ms/step - loss: 0.0107 - accuracy: 1.0000 - val_loss: 0.1324 - val_accuracy: 0.9700\n",
            "Epoch 95/100\n",
            "13/13 [==============================] - 3s 261ms/step - loss: 0.0108 - accuracy: 1.0000 - val_loss: 0.1323 - val_accuracy: 0.9700\n",
            "Epoch 96/100\n",
            "13/13 [==============================] - 3s 265ms/step - loss: 0.0074 - accuracy: 1.0000 - val_loss: 0.1325 - val_accuracy: 0.9700\n",
            "Epoch 97/100\n",
            "13/13 [==============================] - 3s 263ms/step - loss: 0.0144 - accuracy: 1.0000 - val_loss: 0.1328 - val_accuracy: 0.9700\n",
            "Epoch 98/100\n",
            "13/13 [==============================] - 3s 265ms/step - loss: 0.0138 - accuracy: 1.0000 - val_loss: 0.1326 - val_accuracy: 0.9700\n",
            "Epoch 99/100\n",
            "13/13 [==============================] - 3s 263ms/step - loss: 0.0093 - accuracy: 1.0000 - val_loss: 0.1325 - val_accuracy: 0.9700\n",
            "Epoch 100/100\n",
            "13/13 [==============================] - 3s 262ms/step - loss: 0.0133 - accuracy: 1.0000 - val_loss: 0.1327 - val_accuracy: 0.9700\n"
          ]
        }
      ]
    },
    {
      "cell_type": "code",
      "metadata": {
        "colab": {
          "base_uri": "https://localhost:8080/",
          "height": 822
        },
        "id": "J8uCx1SqE8s6",
        "outputId": "6528b31b-f456-4ae6-d485-11cd6a47edc4"
      },
      "source": [
        "# Loss Curves\n",
        "plt.figure(figsize=[8,6])\n",
        "plt.plot(history.history['loss'],'r',linewidth=2.0)\n",
        "plt.plot(history.history['val_loss'],'b',linewidth=2.0)\n",
        "plt.legend(['Training loss', 'Validation Loss'],fontsize=15)\n",
        "plt.xlabel('Epochs ',fontsize=16)\n",
        "plt.ylabel('Loss',fontsize=16)\n",
        "plt.title('Loss Curves',fontsize=16)\n",
        "\n",
        "# Accuracy Curves\n",
        "plt.figure(figsize=[8,6])\n",
        "plt.plot(history.history['accuracy'],'r',linewidth=2.0)\n",
        "plt.plot(history.history['val_accuracy'],'b',linewidth=2.0)\n",
        "plt.legend(['Training Accuracy', 'Validation Accuracy'],fontsize=16)\n",
        "plt.xlabel('Epochs ',fontsize=16)\n",
        "plt.ylabel('Accuracy',fontsize=16)\n",
        "plt.title('Accuracy Curves',fontsize=16)"
      ],
      "execution_count": 10,
      "outputs": [
        {
          "output_type": "execute_result",
          "data": {
            "text/plain": [
              "Text(0.5, 1.0, 'Accuracy Curves')"
            ]
          },
          "metadata": {},
          "execution_count": 10
        },
        {
          "output_type": "display_data",
          "data": {
            "image/png": "[encoded data removed]",
            "text/plain": [
              "<Figure size 576x432 with 1 Axes>"
            ]
          },
          "metadata": {
            "needs_background": "light"
          }
        },
        {
          "output_type": "display_data",
          "data": {
            "image/png": "[encoded data removed]",
            "text/plain": [
              "<Figure size 576x432 with 1 Axes>"
            ]
          },
          "metadata": {
            "needs_background": "light"
          }
        }
      ]
    },
    {
      "cell_type": "code",
      "metadata": {
        "id": "LIZ3F_ssKvMg"
      },
      "source": [
        "model1.load_weights('.mdl_wts.hdf5')"
      ],
      "execution_count": 11,
      "outputs": []
    },
    {
      "cell_type": "code",
      "metadata": {
        "colab": {
          "base_uri": "https://localhost:8080/"
        },
        "id": "kPOzU9oBL-Hx",
        "outputId": "5788f17e-4b37-4474-c5eb-5d24c1a2e494"
      },
      "source": [
        "pred_images,no_labels = get_images('./data/test/')\n",
        "pred_images = np.array(pred_images)\n",
        "pred_images.shape"
      ],
      "execution_count": 12,
      "outputs": [
        {
          "output_type": "execute_result",
          "data": {
            "text/plain": [
              "(100, 256, 256, 3)"
            ]
          },
          "metadata": {},
          "execution_count": 12
        }
      ]
    },
    {
      "cell_type": "code",
      "metadata": {
        "id": "OqRXYqYCMR7s"
      },
      "source": [
        "submission = pd.DataFrame()\n",
        "a= []\n",
        "b=[]\n",
        "\n",
        "for img in os.listdir('./data/test/'):\n",
        "    image = cv2.imread('./data/test/'+str(img)) \n",
        "    image = cv2.resize(image,(256,256)) \n",
        "    image = np.reshape(image,[1,256,256,3])\n",
        "    a.append(img[0:3])\n",
        "    b.append(np.argmax(model1.predict(image)[0], axis=-1)+1)\n",
        "    \n",
        "    \n",
        "submission['ImageID'] = a\n",
        "submission['LabelID']= b\n",
        "    \n",
        "sub = submission.sort_values(by=['ImageID'])\n"
      ],
      "execution_count": 13,
      "outputs": []
    },
    {
      "cell_type": "code",
      "metadata": {
        "colab": {
          "base_uri": "https://localhost:8080/",
          "height": 204
        },
        "id": "BBZ61_zLMrB1",
        "outputId": "facaff5c-0b8b-43ef-e7d3-a5e0308e6821"
      },
      "source": [
        "sub.head()"
      ],
      "execution_count": 14,
      "outputs": [
        {
          "output_type": "execute_result",
          "data": {
            "text/html": [
              "<div>\n",
              "<style scoped>\n",
              "    .dataframe tbody tr th:only-of-type {\n",
              "        vertical-align: middle;\n",
              "    }\n",
              "\n",
              "    .dataframe tbody tr th {\n",
              "        vertical-align: top;\n",
              "    }\n",
              "\n",
              "    .dataframe thead th {\n",
              "        text-align: right;\n",
              "    }\n",
              "</style>\n",
              "<table border=\"1\" class=\"dataframe\">\n",
              "  <thead>\n",
              "    <tr style=\"text-align: right;\">\n",
              "      <th></th>\n",
              "      <th>ImageID</th>\n",
              "      <th>LabelID</th>\n",
              "    </tr>\n",
              "  </thead>\n",
              "  <tbody>\n",
              "    <tr>\n",
              "      <th>19</th>\n",
              "      <td>101</td>\n",
              "      <td>5</td>\n",
              "    </tr>\n",
              "    <tr>\n",
              "      <th>38</th>\n",
              "      <td>102</td>\n",
              "      <td>8</td>\n",
              "    </tr>\n",
              "    <tr>\n",
              "      <th>90</th>\n",
              "      <td>103</td>\n",
              "      <td>3</td>\n",
              "    </tr>\n",
              "    <tr>\n",
              "      <th>83</th>\n",
              "      <td>104</td>\n",
              "      <td>5</td>\n",
              "    </tr>\n",
              "    <tr>\n",
              "      <th>66</th>\n",
              "      <td>105</td>\n",
              "      <td>2</td>\n",
              "    </tr>\n",
              "  </tbody>\n",
              "</table>\n",
              "</div>"
            ],
            "text/plain": [
              "   ImageID  LabelID\n",
              "19     101        5\n",
              "38     102        8\n",
              "90     103        3\n",
              "83     104        5\n",
              "66     105        2"
            ]
          },
          "metadata": {},
          "execution_count": 14
        }
      ]
    },
    {
      "cell_type": "code",
      "metadata": {
        "id": "7wc4_6T0RylT"
      },
      "source": [
        "sub.to_csv('gnr.csv', index=False)"
      ],
      "execution_count": 15,
      "outputs": []
    },
    {
      "cell_type": "code",
      "metadata": {
        "id": "MrwaMYjJSt_X"
      },
      "source": [
        ""
      ],
      "execution_count": null,
      "outputs": []
    }
  ]
}