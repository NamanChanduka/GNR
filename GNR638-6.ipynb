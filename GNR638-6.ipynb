{
  "nbformat": 4,
  "nbformat_minor": 0,
  "metadata": {
    "colab": {
      "name": "GNR638.ipynb",
      "provenance": [],
      "authorship_tag": "ABX9TyPskFfCaTnBZF6flVnEq9jn",
      "include_colab_link": true
    },
    "kernelspec": {
      "name": "python3",
      "display_name": "Python 3"
    },
    "language_info": {
      "name": "python"
    },
    "accelerator": "GPU"
  },
  "cells": [
    {
      "cell_type": "markdown",
      "metadata": {
        "id": "view-in-github",
        "colab_type": "text"
      },
      "source": [
        "<a href=\"https://colab.research.google.com/github/NamanChanduka/GNR/blob/main/GNR638-6.ipynb\" target=\"_parent\"><img src=\"https://colab.research.google.com/assets/colab-badge.svg\" alt=\"Open In Colab\"/></a>"
      ]
    },
    {
      "cell_type": "code",
      "metadata": {
        "id": "yJ00zbkt6_TK"
      },
      "source": [
        "import matplotlib.pyplot as plt\n",
        "import numpy as np\n",
        "import pandas as pd\n",
        "import os\n",
        "import pathlib\n",
        "import PIL\n",
        "import tensorflow as tf\n",
        "import cv2\n",
        "\n",
        "from tensorflow import keras\n",
        "from tensorflow.keras import layers\n",
        "from tensorflow.keras.models import Sequential\n",
        "\n",
        "import tensorflow.keras.layers as Layers\n",
        "import tensorflow.keras.activations as Actications\n",
        "import tensorflow.keras.models as Models\n",
        "import tensorflow.keras.optimizers as Optimizer\n",
        "from tensorflow.keras.optimizers import Adam,SGD,Adagrad,Adadelta,RMSprop\n",
        "import tensorflow.keras.metrics as Metrics\n",
        "import tensorflow.keras.utils as Utils\n",
        "from keras.utils.vis_utils import model_to_dot\n",
        "import seaborn as sns\n",
        "import os\n",
        "import matplotlib.pyplot as plot\n",
        "import cv2\n",
        "from sklearn.utils import shuffle\n",
        "from sklearn.metrics import confusion_matrix as CM\n",
        "from random import randint\n",
        "from IPython.display import SVG\n",
        "import matplotlib.gridspec as gridspec"
      ],
      "execution_count": 1,
      "outputs": []
    },
    {
      "cell_type": "markdown",
      "metadata": {
        "id": "oYnvZy9E7WXf"
      },
      "source": [
        "***Upload gnr_test.tar.xz and gnr_train.tar.xz***"
      ]
    },
    {
      "cell_type": "code",
      "metadata": {
        "id": "MrzYFW3y7DvQ"
      },
      "source": [
        "import tarfile\n",
        "my_tar = tarfile.open('gnr_train.tar.xz')\n",
        "my_tar.extractall('./data/train') # specify which folder to extract to\n",
        "my_tar.close()\n",
        "my_tar = tarfile.open('gnr_test.tar.xz')\n",
        "my_tar.extractall('./data/test') # specify which folder to extract to\n",
        "my_tar.close()"
      ],
      "execution_count": 2,
      "outputs": []
    },
    {
      "cell_type": "code",
      "metadata": {
        "id": "QD281my17POc"
      },
      "source": [
        "def get_images(path):\n",
        "  Images = []\n",
        "  Labels = []\n",
        "\n",
        "  for labels in os.listdir(path):\n",
        "    if os.path.isdir(path+labels):\n",
        "      if labels == 'basketball_court':\n",
        "        label = 0\n",
        "      elif labels == 'bridge':\n",
        "        label = 1\n",
        "      elif labels == 'crosswalk':\n",
        "        label = 2\n",
        "      elif labels == 'golf_course':\n",
        "        label = 3\n",
        "      elif labels == 'oil_well':\n",
        "        label = 4\n",
        "      elif labels == 'overpass':\n",
        "        label = 5\n",
        "      elif labels == 'railway':\n",
        "        label = 6\n",
        "      elif labels == 'runway':\n",
        "        label = 7\n",
        "      elif labels == 'swimming_pool':\n",
        "        label = 8\n",
        "      elif labels == 'tennis_court':\n",
        "        label = 9\n",
        "\n",
        "      for image in os.listdir(path+labels):\n",
        "        img = cv2.imread(path+labels+'/'+image)\n",
        "        img = cv2.resize(img, (256, 256))\n",
        "        Images.append(img)\n",
        "        Labels.append(label)\n",
        "\n",
        "    else:\n",
        "\n",
        "      for image in os.listdir(path):\n",
        "        img = cv2.imread(path+'/'+image)\n",
        "        img = cv2.resize(img, (256, 256))\n",
        "        Images.append(img)\n",
        "      break\n",
        "  return Images, Labels\n",
        "\n",
        "def get_classlabel(class_code):\n",
        "  labels = {0:'basketball_court', 1:'bridge', 2:'crosswalk', 3:'golf_course', 4:'oil_well', 5:'overpass', 6:'railway', 7:'runway', 8:'swimming_pool', 9:'tennis_court'}\n",
        "  return labels[class_code]"
      ],
      "execution_count": 32,
      "outputs": []
    },
    {
      "cell_type": "code",
      "metadata": {
        "colab": {
          "base_uri": "https://localhost:8080/"
        },
        "id": "nVQW_vKc-C5s",
        "outputId": "ad5d3107-f295-4ecd-d123-1f6709c7267b"
      },
      "source": [
        "Images, Labels = get_images('./data/train/train/') \n",
        "Images = np.array(Images) \n",
        "Labels = np.array(Labels)\n",
        "\n",
        "print(\"Shape of Images array is:\",Images.shape)\n",
        "print(\"Shape of Labels array is:\",Labels.shape)"
      ],
      "execution_count": 4,
      "outputs": [
        {
          "output_type": "stream",
          "name": "stdout",
          "text": [
            "Shape of Images array is: (500, 256, 256, 3)\n",
            "Shape of Labels array is: (500,)\n"
          ]
        }
      ]
    },
    {
      "cell_type": "code",
      "metadata": {
        "id": "93Bpw_c3-Sbz"
      },
      "source": [
        "from sklearn.model_selection import train_test_split\n",
        "import random as rn\n",
        "x_train,x_test,y_train,y_test=train_test_split(Images,Labels,test_size=0.2) \n",
        "y_train = tf.keras.utils.to_categorical(y_train, 10)\n",
        "y_test = tf.keras.utils.to_categorical(y_test, 10)"
      ],
      "execution_count": 5,
      "outputs": []
    },
    {
      "cell_type": "code",
      "metadata": {
        "id": "fx1KK_JoDcib"
      },
      "source": [
        "img_height = 256\n",
        "img_width = 256\n",
        "\n",
        "data_augmentation = keras.Sequential(\n",
        "  [\n",
        "    layers.experimental.preprocessing.RandomFlip(\"horizontal\", \n",
        "                                                 input_shape=(img_height, \n",
        "                                                              img_width,\n",
        "                                                              3)),\n",
        "    layers.RandomRotation(0.1),\n",
        "    layers.RandomZoom(0.1),\n",
        "    layers.RandomContrast(0.2)\n",
        "  ]\n",
        ")\n",
        "\n",
        "normalization_layer = layers.Rescaling(1./255)"
      ],
      "execution_count": 63,
      "outputs": []
    },
    {
      "cell_type": "code",
      "metadata": {
        "colab": {
          "base_uri": "https://localhost:8080/"
        },
        "id": "nfg_qhj9DJKI",
        "outputId": "4414085a-9ab7-4b2a-e627-a7e19699b35d"
      },
      "source": [
        "def createmodel():\n",
        "    model = Models.Sequential()\n",
        "\n",
        "    model.add(data_augmentation)\n",
        "    model.add(normalization_layer)\n",
        "    # 1st Convolutional Layer\n",
        "    model.add(Layers.Conv2D(filters=512, kernel_size=(3,3),padding=\"Same\",activation=\"relu\" , input_shape = (256,256,3)))\n",
        "    model.add(Layers.MaxPool2D())\n",
        "    model.add(Layers.BatchNormalization())\n",
        "    model.add(Layers.Dropout(0.15))\n",
        "    # 2nd Convolutional Layer\n",
        "    model.add(Layers.Conv2D(filters=256, kernel_size=(3,3),padding=\"Same\",activation=\"relu\"))\n",
        "    model.add(Layers.MaxPool2D())\n",
        "    model.add(Layers.BatchNormalization())\n",
        "    model.add(Layers.Dropout(0.15))\n",
        "    # 3rd Convolutional Layer\n",
        "    model.add(Layers.Conv2D(filters=256, kernel_size=(3,3),padding=\"Same\",activation=\"relu\"))\n",
        "    model.add(Layers.MaxPool2D())\n",
        "    model.add(Layers.BatchNormalization())\n",
        "    model.add(Layers.Dropout(0.15))\n",
        "    # 4th Convolutional Layer\n",
        "    model.add(Layers.Conv2D(filters=128,kernel_size = (3,3),padding=\"Same\",activation=\"relu\"))\n",
        "    model.add(Layers.MaxPool2D())\n",
        "    model.add(Layers.BatchNormalization())\n",
        "    model.add(Layers.Dropout(0.15))\n",
        "    # 5th Convolutional Layer\n",
        "    model.add(Layers.Conv2D(filters=64,kernel_size = (3,3),padding=\"Same\",activation=\"relu\"))\n",
        "    model.add(Layers.MaxPool2D())\n",
        "    model.add(Layers.BatchNormalization())\n",
        "    model.add(Layers.Dropout(0.2))\n",
        "\n",
        "    model.add(Layers.Flatten())\n",
        "\n",
        "    # 1st Fully Connected Layer\n",
        "    model.add(Layers.Dense(64,activation=\"relu\"))\n",
        "    model.add(Layers.Dropout(0.1))\n",
        "    model.add(Layers.BatchNormalization())\n",
        "    # 2nd Fully Connected Layer\n",
        "    model.add(Layers.Dense(32,activation=\"relu\"))\n",
        "    model.add(Layers.Dropout(0.1)) \n",
        "    model.add(Layers.BatchNormalization())\n",
        "    # Add output layer\n",
        "    model.add(Layers.Dense(10,activation=\"softmax\"))\n",
        "    return model\n",
        "\n",
        "model1 = createmodel()\n",
        "batch_size = 64\n",
        "\n",
        "model1.summary()\n",
        "Utils.plot_model(model1,to_file='model.png',show_shapes=True)\n",
        "\n",
        "model1.compile(optimizer=Adam(learning_rate=0.001), loss=tf.keras.losses.CategoricalCrossentropy(from_logits=False), metrics=['accuracy'])\n"
      ],
      "execution_count": 66,
      "outputs": [
        {
          "output_type": "stream",
          "name": "stdout",
          "text": [
            "Model: \"sequential_14\"\n",
            "_________________________________________________________________\n",
            "Layer (type)                 Output Shape              Param #   \n",
            "=================================================================\n",
            "sequential_11 (Sequential)   (None, 256, 256, 3)       0         \n",
            "_________________________________________________________________\n",
            "rescaling_2 (Rescaling)      (None, 256, 256, 3)       0         \n",
            "_________________________________________________________________\n",
            "conv2d_52 (Conv2D)           (None, 256, 256, 64)      1792      \n",
            "_________________________________________________________________\n",
            "max_pooling2d_52 (MaxPooling (None, 128, 128, 64)      0         \n",
            "_________________________________________________________________\n",
            "batch_normalization_73 (Batc (None, 128, 128, 64)      256       \n",
            "_________________________________________________________________\n",
            "dropout_68 (Dropout)         (None, 128, 128, 64)      0         \n",
            "_________________________________________________________________\n",
            "conv2d_53 (Conv2D)           (None, 128, 128, 128)     73856     \n",
            "_________________________________________________________________\n",
            "max_pooling2d_53 (MaxPooling (None, 64, 64, 128)       0         \n",
            "_________________________________________________________________\n",
            "batch_normalization_74 (Batc (None, 64, 64, 128)       512       \n",
            "_________________________________________________________________\n",
            "dropout_69 (Dropout)         (None, 64, 64, 128)       0         \n",
            "_________________________________________________________________\n",
            "conv2d_54 (Conv2D)           (None, 64, 64, 256)       295168    \n",
            "_________________________________________________________________\n",
            "max_pooling2d_54 (MaxPooling (None, 32, 32, 256)       0         \n",
            "_________________________________________________________________\n",
            "batch_normalization_75 (Batc (None, 32, 32, 256)       1024      \n",
            "_________________________________________________________________\n",
            "dropout_70 (Dropout)         (None, 32, 32, 256)       0         \n",
            "_________________________________________________________________\n",
            "conv2d_55 (Conv2D)           (None, 32, 32, 256)       590080    \n",
            "_________________________________________________________________\n",
            "max_pooling2d_55 (MaxPooling (None, 16, 16, 256)       0         \n",
            "_________________________________________________________________\n",
            "batch_normalization_76 (Batc (None, 16, 16, 256)       1024      \n",
            "_________________________________________________________________\n",
            "dropout_71 (Dropout)         (None, 16, 16, 256)       0         \n",
            "_________________________________________________________________\n",
            "conv2d_56 (Conv2D)           (None, 16, 16, 512)       1180160   \n",
            "_________________________________________________________________\n",
            "max_pooling2d_56 (MaxPooling (None, 8, 8, 512)         0         \n",
            "_________________________________________________________________\n",
            "batch_normalization_77 (Batc (None, 8, 8, 512)         2048      \n",
            "_________________________________________________________________\n",
            "dropout_72 (Dropout)         (None, 8, 8, 512)         0         \n",
            "_________________________________________________________________\n",
            "flatten_11 (Flatten)         (None, 32768)             0         \n",
            "_________________________________________________________________\n",
            "dense_32 (Dense)             (None, 512)               16777728  \n",
            "_________________________________________________________________\n",
            "dropout_73 (Dropout)         (None, 512)               0         \n",
            "_________________________________________________________________\n",
            "batch_normalization_78 (Batc (None, 512)               2048      \n",
            "_________________________________________________________________\n",
            "dense_33 (Dense)             (None, 512)               262656    \n",
            "_________________________________________________________________\n",
            "dropout_74 (Dropout)         (None, 512)               0         \n",
            "_________________________________________________________________\n",
            "batch_normalization_79 (Batc (None, 512)               2048      \n",
            "_________________________________________________________________\n",
            "dense_34 (Dense)             (None, 10)                5130      \n",
            "=================================================================\n",
            "Total params: 19,195,530\n",
            "Trainable params: 19,191,050\n",
            "Non-trainable params: 4,480\n",
            "_________________________________________________________________\n"
          ]
        }
      ]
    },
    {
      "cell_type": "code",
      "metadata": {
        "colab": {
          "base_uri": "https://localhost:8080/"
        },
        "id": "U4t_Jg4GETCm",
        "outputId": "63b09fb9-cc19-4eb9-9c02-0e4ca39dbff2"
      },
      "source": [
        "from keras.callbacks import ReduceLROnPlateau\n",
        "from keras.callbacks import ModelCheckpoint\n",
        "\n",
        "red_lr= ReduceLROnPlateau(monitor='val_loss',patience=4,verbose=1,factor=0.1, mode='min', min_lr=10**(-12))\n",
        "mcp_save = ModelCheckpoint('.mdl_wts.hdf5', save_best_only=True, monitor='val_loss', mode='min')\n",
        "\n",
        "epochs = 100\n",
        "history = model1.fit(x_train,y_train, batch_size=batch_size, \n",
        "                        epochs=epochs, \n",
        "                        validation_data = (x_test,y_test),\n",
        "                        verbose = 1,\n",
        "                        callbacks=[red_lr, mcp_save])"
      ],
      "execution_count": 68,
      "outputs": [
        {
          "output_type": "stream",
          "name": "stdout",
          "text": [
            "Epoch 1/100\n",
            "7/7 [==============================] - 4s 613ms/step - loss: 0.1514 - accuracy: 0.9525 - val_loss: 5.6355 - val_accuracy: 0.1000\n",
            "Epoch 2/100\n",
            "7/7 [==============================] - 4s 614ms/step - loss: 0.1656 - accuracy: 0.9525 - val_loss: 5.5402 - val_accuracy: 0.1000\n",
            "Epoch 3/100\n",
            "7/7 [==============================] - 4s 619ms/step - loss: 0.1262 - accuracy: 0.9675 - val_loss: 5.4397 - val_accuracy: 0.1000\n",
            "Epoch 4/100\n",
            "7/7 [==============================] - 4s 618ms/step - loss: 0.1717 - accuracy: 0.9475 - val_loss: 5.3605 - val_accuracy: 0.1000\n",
            "Epoch 5/100\n",
            "7/7 [==============================] - 4s 616ms/step - loss: 0.1778 - accuracy: 0.9425 - val_loss: 5.2650 - val_accuracy: 0.1100\n",
            "Epoch 6/100\n",
            "7/7 [==============================] - 4s 613ms/step - loss: 0.1513 - accuracy: 0.9550 - val_loss: 5.1739 - val_accuracy: 0.1100\n",
            "Epoch 7/100\n",
            "7/7 [==============================] - 4s 615ms/step - loss: 0.1277 - accuracy: 0.9650 - val_loss: 5.0839 - val_accuracy: 0.1100\n",
            "Epoch 8/100\n",
            "7/7 [==============================] - 4s 616ms/step - loss: 0.1710 - accuracy: 0.9575 - val_loss: 4.9704 - val_accuracy: 0.1100\n",
            "Epoch 9/100\n",
            "7/7 [==============================] - 4s 610ms/step - loss: 0.1632 - accuracy: 0.9575 - val_loss: 4.8856 - val_accuracy: 0.1200\n",
            "Epoch 10/100\n",
            "7/7 [==============================] - 4s 611ms/step - loss: 0.1771 - accuracy: 0.9425 - val_loss: 4.7779 - val_accuracy: 0.1200\n",
            "Epoch 11/100\n",
            "7/7 [==============================] - 4s 613ms/step - loss: 0.1550 - accuracy: 0.9475 - val_loss: 4.6665 - val_accuracy: 0.1200\n",
            "Epoch 12/100\n",
            "7/7 [==============================] - 4s 615ms/step - loss: 0.1546 - accuracy: 0.9500 - val_loss: 4.5506 - val_accuracy: 0.1100\n",
            "Epoch 13/100\n",
            "7/7 [==============================] - 4s 610ms/step - loss: 0.1675 - accuracy: 0.9575 - val_loss: 4.4399 - val_accuracy: 0.1200\n",
            "Epoch 14/100\n",
            "7/7 [==============================] - 4s 610ms/step - loss: 0.1519 - accuracy: 0.9650 - val_loss: 4.3424 - val_accuracy: 0.1300\n",
            "Epoch 15/100\n",
            "7/7 [==============================] - 4s 613ms/step - loss: 0.1511 - accuracy: 0.9400 - val_loss: 4.2548 - val_accuracy: 0.1300\n",
            "Epoch 16/100\n",
            "7/7 [==============================] - 4s 614ms/step - loss: 0.1526 - accuracy: 0.9550 - val_loss: 4.1470 - val_accuracy: 0.1500\n",
            "Epoch 17/100\n",
            "7/7 [==============================] - 4s 610ms/step - loss: 0.1550 - accuracy: 0.9575 - val_loss: 4.0546 - val_accuracy: 0.1600\n",
            "Epoch 18/100\n",
            "7/7 [==============================] - 4s 617ms/step - loss: 0.1781 - accuracy: 0.9375 - val_loss: 3.9632 - val_accuracy: 0.1600\n",
            "Epoch 19/100\n",
            "7/7 [==============================] - 4s 616ms/step - loss: 0.2100 - accuracy: 0.9500 - val_loss: 3.8544 - val_accuracy: 0.1700\n",
            "Epoch 20/100\n",
            "7/7 [==============================] - 4s 614ms/step - loss: 0.1757 - accuracy: 0.9475 - val_loss: 3.7474 - val_accuracy: 0.1800\n",
            "Epoch 21/100\n",
            "7/7 [==============================] - 4s 610ms/step - loss: 0.1928 - accuracy: 0.9450 - val_loss: 3.6419 - val_accuracy: 0.1800\n",
            "Epoch 22/100\n",
            "7/7 [==============================] - 4s 611ms/step - loss: 0.1415 - accuracy: 0.9550 - val_loss: 3.5479 - val_accuracy: 0.2000\n",
            "Epoch 23/100\n",
            "7/7 [==============================] - 4s 614ms/step - loss: 0.1579 - accuracy: 0.9525 - val_loss: 3.4665 - val_accuracy: 0.2000\n",
            "Epoch 24/100\n",
            "7/7 [==============================] - 4s 614ms/step - loss: 0.1748 - accuracy: 0.9550 - val_loss: 3.3738 - val_accuracy: 0.2200\n",
            "Epoch 25/100\n",
            "7/7 [==============================] - 4s 614ms/step - loss: 0.1938 - accuracy: 0.9450 - val_loss: 3.2835 - val_accuracy: 0.2200\n",
            "Epoch 26/100\n",
            "7/7 [==============================] - 4s 616ms/step - loss: 0.1864 - accuracy: 0.9300 - val_loss: 3.1781 - val_accuracy: 0.2300\n",
            "Epoch 27/100\n",
            "7/7 [==============================] - 4s 613ms/step - loss: 0.1733 - accuracy: 0.9425 - val_loss: 3.0922 - val_accuracy: 0.2300\n",
            "Epoch 28/100\n",
            "7/7 [==============================] - 4s 613ms/step - loss: 0.1993 - accuracy: 0.9350 - val_loss: 3.0038 - val_accuracy: 0.2500\n",
            "Epoch 29/100\n",
            "7/7 [==============================] - 4s 614ms/step - loss: 0.1815 - accuracy: 0.9500 - val_loss: 2.9142 - val_accuracy: 0.2500\n",
            "Epoch 30/100\n",
            "7/7 [==============================] - 4s 609ms/step - loss: 0.2132 - accuracy: 0.9400 - val_loss: 2.8045 - val_accuracy: 0.2800\n",
            "Epoch 31/100\n",
            "7/7 [==============================] - 4s 613ms/step - loss: 0.1560 - accuracy: 0.9500 - val_loss: 2.7194 - val_accuracy: 0.2800\n",
            "Epoch 32/100\n",
            "7/7 [==============================] - 4s 614ms/step - loss: 0.1801 - accuracy: 0.9425 - val_loss: 2.6285 - val_accuracy: 0.2900\n",
            "Epoch 33/100\n",
            "7/7 [==============================] - 4s 613ms/step - loss: 0.1457 - accuracy: 0.9600 - val_loss: 2.5152 - val_accuracy: 0.3200\n",
            "Epoch 34/100\n",
            "7/7 [==============================] - 4s 611ms/step - loss: 0.1443 - accuracy: 0.9575 - val_loss: 2.4426 - val_accuracy: 0.3500\n",
            "Epoch 35/100\n",
            "7/7 [==============================] - 4s 615ms/step - loss: 0.1687 - accuracy: 0.9450 - val_loss: 2.3781 - val_accuracy: 0.3500\n",
            "Epoch 36/100\n",
            "7/7 [==============================] - 4s 617ms/step - loss: 0.1911 - accuracy: 0.9225 - val_loss: 2.2801 - val_accuracy: 0.3800\n",
            "Epoch 37/100\n",
            "7/7 [==============================] - 4s 610ms/step - loss: 0.1765 - accuracy: 0.9575 - val_loss: 2.2139 - val_accuracy: 0.4100\n",
            "Epoch 38/100\n",
            "7/7 [==============================] - 4s 612ms/step - loss: 0.1805 - accuracy: 0.9500 - val_loss: 2.1272 - val_accuracy: 0.4400\n",
            "Epoch 39/100\n",
            "7/7 [==============================] - 4s 615ms/step - loss: 0.1668 - accuracy: 0.9600 - val_loss: 2.0633 - val_accuracy: 0.4600\n",
            "Epoch 40/100\n",
            "7/7 [==============================] - 4s 616ms/step - loss: 0.1315 - accuracy: 0.9600 - val_loss: 1.9992 - val_accuracy: 0.4700\n",
            "Epoch 41/100\n",
            "7/7 [==============================] - 4s 612ms/step - loss: 0.1516 - accuracy: 0.9525 - val_loss: 1.9384 - val_accuracy: 0.4800\n",
            "Epoch 42/100\n",
            "7/7 [==============================] - 4s 609ms/step - loss: 0.1686 - accuracy: 0.9500 - val_loss: 1.8690 - val_accuracy: 0.5200\n",
            "Epoch 43/100\n",
            "7/7 [==============================] - 4s 615ms/step - loss: 0.1818 - accuracy: 0.9400 - val_loss: 1.7938 - val_accuracy: 0.5300\n",
            "Epoch 44/100\n",
            "7/7 [==============================] - 4s 612ms/step - loss: 0.1793 - accuracy: 0.9425 - val_loss: 1.7288 - val_accuracy: 0.5300\n",
            "Epoch 45/100\n",
            "7/7 [==============================] - 4s 612ms/step - loss: 0.1392 - accuracy: 0.9625 - val_loss: 1.6837 - val_accuracy: 0.5500\n",
            "Epoch 46/100\n",
            "7/7 [==============================] - 4s 614ms/step - loss: 0.1830 - accuracy: 0.9350 - val_loss: 1.6342 - val_accuracy: 0.5700\n",
            "Epoch 47/100\n",
            "7/7 [==============================] - 4s 615ms/step - loss: 0.1381 - accuracy: 0.9650 - val_loss: 1.5845 - val_accuracy: 0.5800\n",
            "Epoch 48/100\n",
            "7/7 [==============================] - 4s 612ms/step - loss: 0.1586 - accuracy: 0.9500 - val_loss: 1.5323 - val_accuracy: 0.5700\n",
            "Epoch 49/100\n",
            "7/7 [==============================] - 4s 615ms/step - loss: 0.2203 - accuracy: 0.9350 - val_loss: 1.4774 - val_accuracy: 0.5800\n",
            "Epoch 50/100\n",
            "7/7 [==============================] - 4s 611ms/step - loss: 0.1577 - accuracy: 0.9500 - val_loss: 1.4224 - val_accuracy: 0.5800\n",
            "Epoch 51/100\n",
            "7/7 [==============================] - 4s 615ms/step - loss: 0.1994 - accuracy: 0.9450 - val_loss: 1.3885 - val_accuracy: 0.5900\n",
            "Epoch 52/100\n",
            "7/7 [==============================] - 4s 612ms/step - loss: 0.1994 - accuracy: 0.9400 - val_loss: 1.3317 - val_accuracy: 0.6100\n",
            "Epoch 53/100\n",
            "7/7 [==============================] - 4s 614ms/step - loss: 0.1524 - accuracy: 0.9575 - val_loss: 1.2956 - val_accuracy: 0.6100\n",
            "Epoch 54/100\n",
            "7/7 [==============================] - 4s 611ms/step - loss: 0.1556 - accuracy: 0.9525 - val_loss: 1.2564 - val_accuracy: 0.6100\n",
            "Epoch 55/100\n",
            "7/7 [==============================] - 4s 612ms/step - loss: 0.1820 - accuracy: 0.9425 - val_loss: 1.2039 - val_accuracy: 0.6200\n",
            "Epoch 56/100\n",
            "7/7 [==============================] - 4s 613ms/step - loss: 0.1843 - accuracy: 0.9375 - val_loss: 1.1637 - val_accuracy: 0.6300\n",
            "Epoch 57/100\n",
            "7/7 [==============================] - 4s 615ms/step - loss: 0.1963 - accuracy: 0.9450 - val_loss: 1.1204 - val_accuracy: 0.6400\n",
            "Epoch 58/100\n",
            "7/7 [==============================] - 4s 612ms/step - loss: 0.1623 - accuracy: 0.9475 - val_loss: 1.0977 - val_accuracy: 0.6400\n",
            "Epoch 59/100\n",
            "7/7 [==============================] - 4s 614ms/step - loss: 0.1534 - accuracy: 0.9575 - val_loss: 1.0569 - val_accuracy: 0.6500\n",
            "Epoch 60/100\n",
            "7/7 [==============================] - 4s 614ms/step - loss: 0.1510 - accuracy: 0.9675 - val_loss: 1.0391 - val_accuracy: 0.6500\n",
            "Epoch 61/100\n",
            "7/7 [==============================] - 4s 611ms/step - loss: 0.1773 - accuracy: 0.9400 - val_loss: 1.0258 - val_accuracy: 0.6600\n",
            "Epoch 62/100\n",
            "7/7 [==============================] - 4s 611ms/step - loss: 0.1752 - accuracy: 0.9500 - val_loss: 0.9897 - val_accuracy: 0.6700\n",
            "Epoch 63/100\n",
            "7/7 [==============================] - 4s 614ms/step - loss: 0.1756 - accuracy: 0.9400 - val_loss: 0.9689 - val_accuracy: 0.6800\n",
            "Epoch 64/100\n",
            "7/7 [==============================] - 4s 613ms/step - loss: 0.2369 - accuracy: 0.9300 - val_loss: 0.9442 - val_accuracy: 0.7000\n",
            "Epoch 65/100\n",
            "7/7 [==============================] - 4s 621ms/step - loss: 0.1786 - accuracy: 0.9400 - val_loss: 0.9214 - val_accuracy: 0.7100\n",
            "Epoch 66/100\n",
            "7/7 [==============================] - 4s 613ms/step - loss: 0.1609 - accuracy: 0.9625 - val_loss: 0.9182 - val_accuracy: 0.7200\n",
            "Epoch 67/100\n",
            "7/7 [==============================] - 4s 614ms/step - loss: 0.1419 - accuracy: 0.9600 - val_loss: 0.9080 - val_accuracy: 0.7200\n",
            "Epoch 68/100\n",
            "7/7 [==============================] - 4s 613ms/step - loss: 0.2242 - accuracy: 0.9275 - val_loss: 0.8957 - val_accuracy: 0.7300\n",
            "Epoch 69/100\n",
            "7/7 [==============================] - 4s 611ms/step - loss: 0.1897 - accuracy: 0.9400 - val_loss: 0.9018 - val_accuracy: 0.7200\n",
            "Epoch 70/100\n",
            "7/7 [==============================] - 4s 608ms/step - loss: 0.1936 - accuracy: 0.9300 - val_loss: 0.8857 - val_accuracy: 0.7300\n",
            "Epoch 71/100\n",
            "7/7 [==============================] - 4s 612ms/step - loss: 0.1594 - accuracy: 0.9450 - val_loss: 0.8562 - val_accuracy: 0.7400\n",
            "Epoch 72/100\n",
            "7/7 [==============================] - 4s 614ms/step - loss: 0.1901 - accuracy: 0.9350 - val_loss: 0.8523 - val_accuracy: 0.7400\n",
            "Epoch 73/100\n",
            "7/7 [==============================] - 4s 614ms/step - loss: 0.1537 - accuracy: 0.9625 - val_loss: 0.8576 - val_accuracy: 0.7400\n",
            "Epoch 74/100\n",
            "7/7 [==============================] - 4s 612ms/step - loss: 0.1797 - accuracy: 0.9325 - val_loss: 0.8455 - val_accuracy: 0.7400\n",
            "Epoch 75/100\n",
            "7/7 [==============================] - 4s 617ms/step - loss: 0.1667 - accuracy: 0.9550 - val_loss: 0.8463 - val_accuracy: 0.7400\n",
            "Epoch 76/100\n",
            "7/7 [==============================] - 4s 613ms/step - loss: 0.1522 - accuracy: 0.9475 - val_loss: 0.8468 - val_accuracy: 0.7300\n",
            "Epoch 77/100\n",
            "7/7 [==============================] - 4s 613ms/step - loss: 0.1759 - accuracy: 0.9525 - val_loss: 0.8432 - val_accuracy: 0.7300\n",
            "Epoch 78/100\n",
            "7/7 [==============================] - 4s 610ms/step - loss: 0.1785 - accuracy: 0.9400 - val_loss: 0.8225 - val_accuracy: 0.7400\n",
            "Epoch 79/100\n",
            "7/7 [==============================] - 4s 613ms/step - loss: 0.1906 - accuracy: 0.9400 - val_loss: 0.8204 - val_accuracy: 0.7400\n",
            "Epoch 80/100\n",
            "7/7 [==============================] - 4s 612ms/step - loss: 0.1879 - accuracy: 0.9325 - val_loss: 0.8115 - val_accuracy: 0.7400\n",
            "Epoch 81/100\n",
            "7/7 [==============================] - 4s 612ms/step - loss: 0.1696 - accuracy: 0.9500 - val_loss: 0.8137 - val_accuracy: 0.7400\n",
            "Epoch 82/100\n",
            "7/7 [==============================] - 4s 612ms/step - loss: 0.1658 - accuracy: 0.9425 - val_loss: 0.8089 - val_accuracy: 0.7500\n",
            "Epoch 83/100\n",
            "7/7 [==============================] - 4s 611ms/step - loss: 0.1478 - accuracy: 0.9550 - val_loss: 0.7995 - val_accuracy: 0.7500\n",
            "Epoch 84/100\n",
            "7/7 [==============================] - 4s 614ms/step - loss: 0.1948 - accuracy: 0.9425 - val_loss: 0.7933 - val_accuracy: 0.7500\n",
            "Epoch 85/100\n",
            "7/7 [==============================] - 4s 613ms/step - loss: 0.1641 - accuracy: 0.9500 - val_loss: 0.7988 - val_accuracy: 0.7400\n",
            "Epoch 86/100\n",
            "7/7 [==============================] - 4s 610ms/step - loss: 0.1540 - accuracy: 0.9475 - val_loss: 0.8006 - val_accuracy: 0.7400\n",
            "Epoch 87/100\n",
            "7/7 [==============================] - 4s 616ms/step - loss: 0.1877 - accuracy: 0.9425 - val_loss: 0.7985 - val_accuracy: 0.7400\n",
            "Epoch 88/100\n",
            "7/7 [==============================] - 4s 613ms/step - loss: 0.1554 - accuracy: 0.9600 - val_loss: 0.8008 - val_accuracy: 0.7400\n",
            "Epoch 89/100\n",
            "7/7 [==============================] - 4s 614ms/step - loss: 0.1901 - accuracy: 0.9375 - val_loss: 0.8000 - val_accuracy: 0.7400\n",
            "Epoch 90/100\n",
            "7/7 [==============================] - 4s 611ms/step - loss: 0.1708 - accuracy: 0.9625 - val_loss: 0.7823 - val_accuracy: 0.7500\n",
            "Epoch 91/100\n",
            "7/7 [==============================] - 4s 614ms/step - loss: 0.1883 - accuracy: 0.9475 - val_loss: 0.7733 - val_accuracy: 0.7500\n",
            "Epoch 92/100\n",
            "7/7 [==============================] - 4s 614ms/step - loss: 0.1712 - accuracy: 0.9450 - val_loss: 0.7692 - val_accuracy: 0.7500\n",
            "Epoch 93/100\n",
            "7/7 [==============================] - 4s 613ms/step - loss: 0.2195 - accuracy: 0.9350 - val_loss: 0.7623 - val_accuracy: 0.7500\n",
            "Epoch 94/100\n",
            "7/7 [==============================] - 4s 611ms/step - loss: 0.1446 - accuracy: 0.9625 - val_loss: 0.7686 - val_accuracy: 0.7500\n",
            "Epoch 95/100\n",
            "7/7 [==============================] - 4s 616ms/step - loss: 0.1453 - accuracy: 0.9525 - val_loss: 0.7733 - val_accuracy: 0.7500\n",
            "Epoch 96/100\n",
            "7/7 [==============================] - 4s 612ms/step - loss: 0.1742 - accuracy: 0.9500 - val_loss: 0.7643 - val_accuracy: 0.7500\n",
            "Epoch 97/100\n",
            "7/7 [==============================] - 4s 611ms/step - loss: 0.1913 - accuracy: 0.9400 - val_loss: 0.7660 - val_accuracy: 0.7500\n",
            "Epoch 98/100\n",
            "7/7 [==============================] - 4s 613ms/step - loss: 0.1788 - accuracy: 0.9375 - val_loss: 0.7697 - val_accuracy: 0.7500\n",
            "Epoch 99/100\n",
            "7/7 [==============================] - 4s 616ms/step - loss: 0.1422 - accuracy: 0.9550 - val_loss: 0.7659 - val_accuracy: 0.7500\n",
            "Epoch 100/100\n",
            "7/7 [==============================] - 4s 616ms/step - loss: 0.1864 - accuracy: 0.9425 - val_loss: 0.7665 - val_accuracy: 0.7500\n"
          ]
        }
      ]
    },
    {
      "cell_type": "code",
      "metadata": {
        "colab": {
          "base_uri": "https://localhost:8080/",
          "height": 822
        },
        "id": "J8uCx1SqE8s6",
        "outputId": "37445193-08ea-4b81-eb92-dbd07bc1e8da"
      },
      "source": [
        "# Loss Curves\n",
        "plt.figure(figsize=[8,6])\n",
        "plt.plot(history.history['loss'],'r',linewidth=2.0)\n",
        "plt.plot(history.history['val_loss'],'b',linewidth=2.0)\n",
        "plt.legend(['Training loss', 'Validation Loss'],fontsize=15)\n",
        "plt.xlabel('Epochs ',fontsize=16)\n",
        "plt.ylabel('Loss',fontsize=16)\n",
        "plt.title('Loss Curves',fontsize=16)\n",
        "\n",
        "# Accuracy Curves\n",
        "plt.figure(figsize=[8,6])\n",
        "plt.plot(history.history['accuracy'],'r',linewidth=2.0)\n",
        "plt.plot(history.history['val_accuracy'],'b',linewidth=2.0)\n",
        "plt.legend(['Training Accuracy', 'Validation Accuracy'],fontsize=16)\n",
        "plt.xlabel('Epochs ',fontsize=16)\n",
        "plt.ylabel('Accuracy',fontsize=16)\n",
        "plt.title('Accuracy Curves',fontsize=16)"
      ],
      "execution_count": 69,
      "outputs": [
        {
          "output_type": "execute_result",
          "data": {
            "text/plain": [
              "Text(0.5, 1.0, 'Accuracy Curves')"
            ]
          },
          "metadata": {},
          "execution_count": 69
        },
        {
          "output_type": "display_data",
          "data": {
            "image/png": "[encoded data removed]",
            "text/plain": [
              "<Figure size 576x432 with 1 Axes>"
            ]
          },
          "metadata": {
            "needs_background": "light"
          }
        },
        {
          "output_type": "display_data",
          "data": {
            "image/png": "[encoded data removed]",
            "text/plain": [
              "<Figure size 576x432 with 1 Axes>"
            ]
          },
          "metadata": {
            "needs_background": "light"
          }
        }
      ]
    },
    {
      "cell_type": "code",
      "metadata": {
        "id": "LIZ3F_ssKvMg"
      },
      "source": [
        "model1.load_weights('.mdl_wts.hdf5')"
      ],
      "execution_count": 70,
      "outputs": []
    },
    {
      "cell_type": "code",
      "metadata": {
        "colab": {
          "base_uri": "https://localhost:8080/"
        },
        "id": "kPOzU9oBL-Hx",
        "outputId": "54518b09-ced4-43a0-a68e-c6f7cc92b845"
      },
      "source": [
        "pred_images,no_labels = get_images('./data/test/')\n",
        "pred_images = np.array(pred_images)\n",
        "pred_images.shape"
      ],
      "execution_count": 71,
      "outputs": [
        {
          "output_type": "execute_result",
          "data": {
            "text/plain": [
              "(100, 256, 256, 3)"
            ]
          },
          "metadata": {},
          "execution_count": 71
        }
      ]
    },
    {
      "cell_type": "code",
      "metadata": {
        "id": "OqRXYqYCMR7s"
      },
      "source": [
        "submission = pd.DataFrame()\n",
        "a= []\n",
        "b=[]\n",
        "\n",
        "for img in os.listdir('./data/test/'):\n",
        "    image = cv2.imread('./data/test/'+str(img)) \n",
        "    image = cv2.resize(image,(256,256)) \n",
        "    image = np.reshape(image,[1,256,256,3])\n",
        "    a.append(img[0:3])\n",
        "    b.append(np.argmax(model1.predict(image)[0], axis=-1)+1)\n",
        "    \n",
        "    \n",
        "submission['ImageID'] = a\n",
        "submission['LabelID']= b\n",
        "    \n",
        "sub = submission.sort_values(by=['ImageID'])\n"
      ],
      "execution_count": 72,
      "outputs": []
    },
    {
      "cell_type": "code",
      "metadata": {
        "colab": {
          "base_uri": "https://localhost:8080/",
          "height": 204
        },
        "id": "BBZ61_zLMrB1",
        "outputId": "7c4806dc-35f5-408e-be68-5991956221bb"
      },
      "source": [
        "sub.head()"
      ],
      "execution_count": 73,
      "outputs": [
        {
          "output_type": "execute_result",
          "data": {
            "text/html": [
              "<div>\n",
              "<style scoped>\n",
              "    .dataframe tbody tr th:only-of-type {\n",
              "        vertical-align: middle;\n",
              "    }\n",
              "\n",
              "    .dataframe tbody tr th {\n",
              "        vertical-align: top;\n",
              "    }\n",
              "\n",
              "    .dataframe thead th {\n",
              "        text-align: right;\n",
              "    }\n",
              "</style>\n",
              "<table border=\"1\" class=\"dataframe\">\n",
              "  <thead>\n",
              "    <tr style=\"text-align: right;\">\n",
              "      <th></th>\n",
              "      <th>ImageID</th>\n",
              "      <th>LabelID</th>\n",
              "    </tr>\n",
              "  </thead>\n",
              "  <tbody>\n",
              "    <tr>\n",
              "      <th>19</th>\n",
              "      <td>101</td>\n",
              "      <td>6</td>\n",
              "    </tr>\n",
              "    <tr>\n",
              "      <th>38</th>\n",
              "      <td>102</td>\n",
              "      <td>10</td>\n",
              "    </tr>\n",
              "    <tr>\n",
              "      <th>90</th>\n",
              "      <td>103</td>\n",
              "      <td>3</td>\n",
              "    </tr>\n",
              "    <tr>\n",
              "      <th>83</th>\n",
              "      <td>104</td>\n",
              "      <td>6</td>\n",
              "    </tr>\n",
              "    <tr>\n",
              "      <th>66</th>\n",
              "      <td>105</td>\n",
              "      <td>1</td>\n",
              "    </tr>\n",
              "  </tbody>\n",
              "</table>\n",
              "</div>"
            ],
            "text/plain": [
              "   ImageID  LabelID\n",
              "19     101        6\n",
              "38     102       10\n",
              "90     103        3\n",
              "83     104        6\n",
              "66     105        1"
            ]
          },
          "metadata": {},
          "execution_count": 73
        }
      ]
    },
    {
      "cell_type": "code",
      "metadata": {
        "id": "7wc4_6T0RylT"
      },
      "source": [
        "sub.to_csv('gnr.csv', index=False)"
      ],
      "execution_count": 74,
      "outputs": []
    },
    {
      "cell_type": "code",
      "metadata": {
        "id": "MrwaMYjJSt_X"
      },
      "source": [
        ""
      ],
      "execution_count": null,
      "outputs": []
    }
  ]
}