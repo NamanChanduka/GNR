{
  "nbformat": 4,
  "nbformat_minor": 0,
  "metadata": {
    "colab": {
      "name": "GNR638.ipynb",
      "provenance": [],
      "collapsed_sections": [],
      "include_colab_link": true
    },
    "kernelspec": {
      "name": "python3",
      "display_name": "Python 3"
    },
    "language_info": {
      "name": "python"
    },
    "accelerator": "GPU"
  },
  "cells": [
    {
      "cell_type": "markdown",
      "metadata": {
        "id": "view-in-github",
        "colab_type": "text"
      },
      "source": [
        "<a href=\"https://colab.research.google.com/github/NamanChanduka/GNR/blob/main/GNR638-11.ipynb\" target=\"_parent\"><img src=\"https://colab.research.google.com/assets/colab-badge.svg\" alt=\"Open In Colab\"/></a>"
      ]
    },
    {
      "cell_type": "code",
      "metadata": {
        "id": "yJ00zbkt6_TK"
      },
      "source": [
        "import matplotlib.pyplot as plt\n",
        "import numpy as np\n",
        "import pandas as pd\n",
        "import os\n",
        "import pathlib\n",
        "import PIL\n",
        "import tensorflow as tf\n",
        "import cv2\n",
        "\n",
        "from tensorflow import keras\n",
        "from tensorflow.keras import layers\n",
        "from tensorflow.keras.models import Sequential\n",
        "\n",
        "import tensorflow.keras.layers as Layers\n",
        "import tensorflow.keras.models as Models\n",
        "import tensorflow.keras.utils as Utils\n",
        "import os\n",
        "import matplotlib.pyplot as plot\n",
        "import cv2\n"
      ],
      "execution_count": 1,
      "outputs": []
    },
    {
      "cell_type": "markdown",
      "metadata": {
        "id": "oYnvZy9E7WXf"
      },
      "source": [
        "***Upload gnr_test.tar.xz and gnr_train.tar.xz***"
      ]
    },
    {
      "cell_type": "code",
      "metadata": {
        "id": "MrzYFW3y7DvQ"
      },
      "source": [
        "import tarfile\n",
        "my_tar = tarfile.open('gnr_train.tar.xz')\n",
        "my_tar.extractall('./data/train') # specify which folder to extract to\n",
        "my_tar.close()\n",
        "my_tar = tarfile.open('gnr_test.tar.xz')\n",
        "my_tar.extractall('./data/test') # specify which folder to extract to\n",
        "my_tar.close()"
      ],
      "execution_count": 2,
      "outputs": []
    },
    {
      "cell_type": "code",
      "metadata": {
        "id": "QD281my17POc"
      },
      "source": [
        "def get_images(path):\n",
        "  Images = []\n",
        "  Labels = []\n",
        "\n",
        "  for labels in os.listdir(path):\n",
        "    if os.path.isdir(path+labels):\n",
        "      if labels == 'basketball_court':\n",
        "        label = 0\n",
        "      elif labels == 'bridge':\n",
        "        label = 1\n",
        "      elif labels == 'crosswalk':\n",
        "        label = 2\n",
        "      elif labels == 'golf_course':\n",
        "        label = 3\n",
        "      elif labels == 'oil_well':\n",
        "        label = 4\n",
        "      elif labels == 'overpass':\n",
        "        label = 5\n",
        "      elif labels == 'railway':\n",
        "        label = 6\n",
        "      elif labels == 'runway':\n",
        "        label = 7\n",
        "      elif labels == 'swimming_pool':\n",
        "        label = 8\n",
        "      elif labels == 'tennis_court':\n",
        "        label = 9\n",
        "\n",
        "      for image in os.listdir(path+labels):\n",
        "        img = cv2.imread(path+labels+'/'+image)\n",
        "        img = cv2.resize(img, (256, 256))\n",
        "        Images.append(img)\n",
        "        Labels.append(label)\n",
        "\n",
        "    else:\n",
        "\n",
        "      for image in os.listdir(path):\n",
        "        img = cv2.imread(path+'/'+image)\n",
        "        img = cv2.resize(img, (256, 256))\n",
        "        Images.append(img)\n",
        "      break\n",
        "  return Images, Labels\n",
        "\n",
        "def get_classlabel(class_code):\n",
        "  labels = {0:'basketball_court', 1:'bridge', 2:'crosswalk', 3:'golf_course', 4:'oil_well', 5:'overpass', 6:'railway', 7:'runway', 8:'swimming_pool', 9:'tennis_court'}\n",
        "  return labels[class_code]"
      ],
      "execution_count": 3,
      "outputs": []
    },
    {
      "cell_type": "code",
      "metadata": {
        "colab": {
          "base_uri": "https://localhost:8080/"
        },
        "id": "nVQW_vKc-C5s",
        "outputId": "1a0cfdc5-5330-443d-d994-50071b804076"
      },
      "source": [
        "Images, Labels = get_images('./data/train/train/') \n",
        "Images = np.array(Images) \n",
        "Labels = np.array(Labels)\n",
        "\n",
        "print(\"Shape of Images array is:\",Images.shape)\n",
        "print(\"Shape of Labels array is:\",Labels.shape)"
      ],
      "execution_count": 4,
      "outputs": [
        {
          "output_type": "stream",
          "name": "stdout",
          "text": [
            "Shape of Images array is: (500, 256, 256, 3)\n",
            "Shape of Labels array is: (500,)\n"
          ]
        }
      ]
    },
    {
      "cell_type": "code",
      "metadata": {
        "id": "93Bpw_c3-Sbz"
      },
      "source": [
        "from sklearn.model_selection import train_test_split\n",
        "x_train,x_test,y_train,y_test=train_test_split(Images,Labels,test_size=0.20) \n",
        "y_train = tf.keras.utils.to_categorical(y_train, 10)\n",
        "y_test = tf.keras.utils.to_categorical(y_test, 10)"
      ],
      "execution_count": 5,
      "outputs": []
    },
    {
      "cell_type": "code",
      "metadata": {
        "id": "9ZAzVnnzxWl_"
      },
      "source": [
        "from tensorflow.keras.preprocessing.image import ImageDataGenerator\n",
        " \n",
        "gen = ImageDataGenerator(\n",
        "    rotation_range=90,\n",
        "    width_shift_range=0.1,\n",
        "    height_shift_range=0.1,\n",
        "    shear_range=0.1,\n",
        "    zoom_range= 0.1,\n",
        "    horizontal_flip=True,\n",
        "    vertical_flip=True,\n",
        "    fill_mode = \"reflect\",)\n",
        "\n",
        "gen.fit(x_train)"
      ],
      "execution_count": 6,
      "outputs": []
    },
    {
      "cell_type": "code",
      "metadata": {
        "id": "fx1KK_JoDcib"
      },
      "source": [
        "img_height = 256\n",
        "img_width = 256\n",
        "\n",
        "data_augmentation = keras.Sequential(\n",
        "  [\n",
        "    layers.experimental.preprocessing.RandomFlip(\"horizontal\", \n",
        "                                                 input_shape=(img_height, \n",
        "                                                              img_width,\n",
        "                                                              3)),\n",
        "    layers.RandomRotation(0.1),\n",
        "    layers.RandomZoom(0.1),\n",
        "    layers.RandomContrast(0.2)\n",
        "  ]\n",
        ")\n",
        "\n",
        "normalization_layer = layers.Rescaling(1./255)"
      ],
      "execution_count": 7,
      "outputs": []
    },
    {
      "cell_type": "code",
      "metadata": {
        "colab": {
          "base_uri": "https://localhost:8080/"
        },
        "id": "nfg_qhj9DJKI",
        "outputId": "82ffd91f-24c3-4ceb-c3e2-0d26c7f45486"
      },
      "source": [
        "def createmodel():\n",
        "    model = Models.Sequential()\n",
        "\n",
        "    #model.add(data_augmentation)\n",
        "    #model.add(normalization_layer)\n",
        "    # 1st Convolutional Layer\n",
        "    model.add(Layers.Conv2D(filters=256, kernel_size=(5,5),padding=\"Same\",activation=\"relu\" , input_shape = (256,256,3)))\n",
        "    model.add(Layers.MaxPool2D())\n",
        "    model.add(Layers.BatchNormalization())\n",
        "    model.add(Layers.Dropout(0.2))\n",
        "    # 2nd Convolutional Layer\n",
        "    model.add(Layers.Conv2D(filters=128, kernel_size=(5,5),padding=\"Same\",activation=\"relu\"))\n",
        "    model.add(Layers.MaxPool2D())\n",
        "    model.add(Layers.BatchNormalization())\n",
        "    model.add(Layers.Dropout(0.2))\n",
        "    # 3rd Convolutional Layer\n",
        "    model.add(Layers.Conv2D(filters=128, kernel_size=(3,3),padding=\"Same\",activation=\"relu\"))\n",
        "    model.add(Layers.MaxPool2D())\n",
        "    model.add(Layers.BatchNormalization())\n",
        "    #model.add(Layers.Dropout(0.15))\n",
        "    # 4th Convolutional Layer\n",
        "    model.add(Layers.Conv2D(filters=256,kernel_size = (3,3),padding=\"Same\",activation=\"relu\"))\n",
        "    model.add(Layers.MaxPool2D())\n",
        "    model.add(Layers.BatchNormalization())\n",
        "    #model.add(Layers.Dropout(0.15))\n",
        "    # 5th Convolutional Layer\n",
        "    model.add(Layers.Conv2D(filters=512,kernel_size = (3,3),padding=\"Same\",activation=\"relu\"))\n",
        "    model.add(Layers.MaxPool2D())\n",
        "    model.add(Layers.BatchNormalization())\n",
        "    model.add(Layers.Dropout(0.2))\n",
        "\n",
        "    model.add(Layers.Flatten())\n",
        "\n",
        "    # 1st Fully Connected Layer\n",
        "    model.add(Layers.Dense(256,activation=\"relu\"))\n",
        "    #model.add(Layers.Dropout(0.1))\n",
        "    model.add(Layers.BatchNormalization())\n",
        "    # 2nd Fully Connected Layer\n",
        "    model.add(Layers.Dense(256,activation=\"relu\"))\n",
        "    #model.add(Layers.Dropout(0.1)) \n",
        "    model.add(Layers.BatchNormalization())\n",
        "    # Add output layer\n",
        "    model.add(Layers.Dense(10,activation=\"softmax\"))\n",
        "    return model\n",
        "\n",
        "model1 = createmodel()\n",
        "batch_size = 32\n",
        "\n",
        "model1.summary()\n",
        "#Utils.plot_model(model1,to_file='model.png',show_shapes=True)\n",
        "\n",
        "model1.compile(optimizer='adam', loss=tf.keras.losses.CategoricalCrossentropy(from_logits=False), metrics=['accuracy'])\n"
      ],
      "execution_count": 12,
      "outputs": [
        {
          "output_type": "stream",
          "name": "stdout",
          "text": [
            "Model: \"sequential_3\"\n",
            "_________________________________________________________________\n",
            "Layer (type)                 Output Shape              Param #   \n",
            "=================================================================\n",
            "conv2d_10 (Conv2D)           (None, 256, 256, 256)     19456     \n",
            "_________________________________________________________________\n",
            "max_pooling2d_10 (MaxPooling (None, 128, 128, 256)     0         \n",
            "_________________________________________________________________\n",
            "batch_normalization_14 (Batc (None, 128, 128, 256)     1024      \n",
            "_________________________________________________________________\n",
            "dropout_5 (Dropout)          (None, 128, 128, 256)     0         \n",
            "_________________________________________________________________\n",
            "conv2d_11 (Conv2D)           (None, 128, 128, 128)     819328    \n",
            "_________________________________________________________________\n",
            "max_pooling2d_11 (MaxPooling (None, 64, 64, 128)       0         \n",
            "_________________________________________________________________\n",
            "batch_normalization_15 (Batc (None, 64, 64, 128)       512       \n",
            "_________________________________________________________________\n",
            "dropout_6 (Dropout)          (None, 64, 64, 128)       0         \n",
            "_________________________________________________________________\n",
            "conv2d_12 (Conv2D)           (None, 64, 64, 128)       147584    \n",
            "_________________________________________________________________\n",
            "max_pooling2d_12 (MaxPooling (None, 32, 32, 128)       0         \n",
            "_________________________________________________________________\n",
            "batch_normalization_16 (Batc (None, 32, 32, 128)       512       \n",
            "_________________________________________________________________\n",
            "conv2d_13 (Conv2D)           (None, 32, 32, 256)       295168    \n",
            "_________________________________________________________________\n",
            "max_pooling2d_13 (MaxPooling (None, 16, 16, 256)       0         \n",
            "_________________________________________________________________\n",
            "batch_normalization_17 (Batc (None, 16, 16, 256)       1024      \n",
            "_________________________________________________________________\n",
            "conv2d_14 (Conv2D)           (None, 16, 16, 512)       1180160   \n",
            "_________________________________________________________________\n",
            "max_pooling2d_14 (MaxPooling (None, 8, 8, 512)         0         \n",
            "_________________________________________________________________\n",
            "batch_normalization_18 (Batc (None, 8, 8, 512)         2048      \n",
            "_________________________________________________________________\n",
            "dropout_7 (Dropout)          (None, 8, 8, 512)         0         \n",
            "_________________________________________________________________\n",
            "flatten_2 (Flatten)          (None, 32768)             0         \n",
            "_________________________________________________________________\n",
            "dense_6 (Dense)              (None, 256)               8388864   \n",
            "_________________________________________________________________\n",
            "batch_normalization_19 (Batc (None, 256)               1024      \n",
            "_________________________________________________________________\n",
            "dense_7 (Dense)              (None, 256)               65792     \n",
            "_________________________________________________________________\n",
            "batch_normalization_20 (Batc (None, 256)               1024      \n",
            "_________________________________________________________________\n",
            "dense_8 (Dense)              (None, 10)                2570      \n",
            "=================================================================\n",
            "Total params: 10,926,090\n",
            "Trainable params: 10,922,506\n",
            "Non-trainable params: 3,584\n",
            "_________________________________________________________________\n"
          ]
        }
      ]
    },
    {
      "cell_type": "code",
      "metadata": {
        "colab": {
          "base_uri": "https://localhost:8080/"
        },
        "id": "U4t_Jg4GETCm",
        "outputId": "10b02d00-5b0a-435f-d60a-86ece8c9dc5f"
      },
      "source": [
        "from keras.callbacks import ReduceLROnPlateau\n",
        "from keras.callbacks import EarlyStopping\n",
        "from keras.callbacks import ModelCheckpoint\n",
        "\n",
        "red_lr= ReduceLROnPlateau(monitor='val_loss',patience=3,verbose=1,factor=0.1, mode='min', min_lr=10**(-13))\n",
        "mcp_save = ModelCheckpoint('.hi_wt.hdf5', save_best_only=True, monitor='val_accuracy', mode='max')\n",
        "early_stop = EarlyStopping(monitor='val_loss', patience=15)\n",
        "\n",
        "epochs = 100\n",
        "history = model1.fit(gen.flow(x_train,y_train, batch_size=batch_size), \n",
        "                        epochs=epochs, \n",
        "                        validation_data = (x_test,y_test),\n",
        "                        verbose = 1,\n",
        "                        callbacks=[red_lr, mcp_save, early_stop])"
      ],
      "execution_count": 13,
      "outputs": [
        {
          "output_type": "stream",
          "name": "stdout",
          "text": [
            "Epoch 1/100\n",
            "13/13 [==============================] - 14s 962ms/step - loss: 1.4451 - accuracy: 0.5725 - val_loss: 773.4411 - val_accuracy: 0.1700\n",
            "Epoch 2/100\n",
            "13/13 [==============================] - 13s 940ms/step - loss: 0.7863 - accuracy: 0.7575 - val_loss: 380.3381 - val_accuracy: 0.1700\n",
            "Epoch 3/100\n",
            "13/13 [==============================] - 13s 943ms/step - loss: 0.5559 - accuracy: 0.8200 - val_loss: 203.1370 - val_accuracy: 0.1700\n",
            "Epoch 4/100\n",
            "13/13 [==============================] - 13s 942ms/step - loss: 0.4424 - accuracy: 0.8400 - val_loss: 90.7837 - val_accuracy: 0.1700\n",
            "Epoch 5/100\n",
            "13/13 [==============================] - 13s 943ms/step - loss: 0.3261 - accuracy: 0.8750 - val_loss: 46.3498 - val_accuracy: 0.1700\n",
            "Epoch 6/100\n",
            "13/13 [==============================] - 13s 943ms/step - loss: 0.3514 - accuracy: 0.8675 - val_loss: 31.6817 - val_accuracy: 0.1700\n",
            "Epoch 7/100\n",
            "13/13 [==============================] - 13s 939ms/step - loss: 0.3042 - accuracy: 0.8875 - val_loss: 25.9355 - val_accuracy: 0.2000\n",
            "Epoch 8/100\n",
            "13/13 [==============================] - 12s 976ms/step - loss: 0.2534 - accuracy: 0.9125 - val_loss: 20.7393 - val_accuracy: 0.2100\n",
            "Epoch 9/100\n",
            "13/13 [==============================] - 13s 941ms/step - loss: 0.2327 - accuracy: 0.9075 - val_loss: 17.5794 - val_accuracy: 0.2100\n",
            "Epoch 10/100\n",
            "13/13 [==============================] - 13s 939ms/step - loss: 0.2650 - accuracy: 0.8925 - val_loss: 12.0100 - val_accuracy: 0.2600\n",
            "Epoch 11/100\n",
            "13/13 [==============================] - 13s 940ms/step - loss: 0.1963 - accuracy: 0.9350 - val_loss: 16.3654 - val_accuracy: 0.2400\n",
            "Epoch 12/100\n",
            "13/13 [==============================] - 13s 941ms/step - loss: 0.2568 - accuracy: 0.9125 - val_loss: 11.7560 - val_accuracy: 0.3500\n",
            "Epoch 13/100\n",
            "13/13 [==============================] - 13s 936ms/step - loss: 0.2240 - accuracy: 0.9275 - val_loss: 19.6239 - val_accuracy: 0.2800\n",
            "Epoch 14/100\n",
            "13/13 [==============================] - 13s 938ms/step - loss: 0.2691 - accuracy: 0.9025 - val_loss: 4.8000 - val_accuracy: 0.4900\n",
            "Epoch 15/100\n",
            "13/13 [==============================] - 13s 939ms/step - loss: 0.2052 - accuracy: 0.9475 - val_loss: 10.4667 - val_accuracy: 0.2600\n",
            "Epoch 16/100\n",
            "13/13 [==============================] - 13s 936ms/step - loss: 0.1739 - accuracy: 0.9275 - val_loss: 5.6952 - val_accuracy: 0.4300\n",
            "Epoch 17/100\n",
            "13/13 [==============================] - 12s 973ms/step - loss: 0.2066 - accuracy: 0.9425 - val_loss: 4.4581 - val_accuracy: 0.3900\n",
            "Epoch 18/100\n",
            "13/13 [==============================] - 13s 936ms/step - loss: 0.1775 - accuracy: 0.9475 - val_loss: 4.4374 - val_accuracy: 0.4600\n",
            "Epoch 19/100\n",
            "13/13 [==============================] - 13s 937ms/step - loss: 0.2051 - accuracy: 0.9400 - val_loss: 7.1958 - val_accuracy: 0.4700\n",
            "Epoch 20/100\n",
            "13/13 [==============================] - 13s 937ms/step - loss: 0.1641 - accuracy: 0.9475 - val_loss: 6.3296 - val_accuracy: 0.5100\n",
            "Epoch 21/100\n",
            "13/13 [==============================] - 12s 923ms/step - loss: 0.1737 - accuracy: 0.9475 - val_loss: 8.3658 - val_accuracy: 0.4300\n",
            "\n",
            "Epoch 00021: ReduceLROnPlateau reducing learning rate to 0.00010000000474974513.\n",
            "Epoch 22/100\n",
            "13/13 [==============================] - 13s 935ms/step - loss: 0.1305 - accuracy: 0.9525 - val_loss: 9.6748 - val_accuracy: 0.4200\n",
            "Epoch 23/100\n",
            "13/13 [==============================] - 12s 973ms/step - loss: 0.0867 - accuracy: 0.9700 - val_loss: 8.5495 - val_accuracy: 0.4200\n",
            "Epoch 24/100\n",
            "13/13 [==============================] - 13s 935ms/step - loss: 0.0758 - accuracy: 0.9800 - val_loss: 8.0169 - val_accuracy: 0.4200\n",
            "\n",
            "Epoch 00024: ReduceLROnPlateau reducing learning rate to 1.0000000474974514e-05.\n",
            "Epoch 25/100\n",
            "13/13 [==============================] - 13s 936ms/step - loss: 0.0659 - accuracy: 0.9850 - val_loss: 7.2632 - val_accuracy: 0.4500\n",
            "Epoch 26/100\n",
            "13/13 [==============================] - 13s 934ms/step - loss: 0.0836 - accuracy: 0.9825 - val_loss: 6.6212 - val_accuracy: 0.4700\n",
            "Epoch 27/100\n",
            "13/13 [==============================] - 13s 937ms/step - loss: 0.0626 - accuracy: 0.9825 - val_loss: 5.9680 - val_accuracy: 0.4700\n",
            "\n",
            "Epoch 00027: ReduceLROnPlateau reducing learning rate to 1.0000000656873453e-06.\n",
            "Epoch 28/100\n",
            "13/13 [==============================] - 13s 936ms/step - loss: 0.0649 - accuracy: 0.9775 - val_loss: 5.4211 - val_accuracy: 0.4700\n",
            "Epoch 29/100\n",
            "13/13 [==============================] - 13s 936ms/step - loss: 0.0598 - accuracy: 0.9800 - val_loss: 4.9111 - val_accuracy: 0.4700\n",
            "Epoch 30/100\n",
            "13/13 [==============================] - 13s 935ms/step - loss: 0.0667 - accuracy: 0.9725 - val_loss: 4.4281 - val_accuracy: 0.4800\n",
            "Epoch 31/100\n",
            "13/13 [==============================] - 13s 935ms/step - loss: 0.0540 - accuracy: 0.9800 - val_loss: 3.9627 - val_accuracy: 0.5000\n",
            "Epoch 32/100\n",
            "13/13 [==============================] - 13s 934ms/step - loss: 0.0539 - accuracy: 0.9825 - val_loss: 3.5232 - val_accuracy: 0.5100\n",
            "Epoch 33/100\n",
            "13/13 [==============================] - 13s 936ms/step - loss: 0.0540 - accuracy: 0.9825 - val_loss: 3.1130 - val_accuracy: 0.5100\n",
            "Epoch 34/100\n",
            "13/13 [==============================] - 13s 937ms/step - loss: 0.0749 - accuracy: 0.9800 - val_loss: 2.7347 - val_accuracy: 0.5100\n",
            "Epoch 35/100\n",
            "13/13 [==============================] - 13s 939ms/step - loss: 0.1021 - accuracy: 0.9725 - val_loss: 2.3631 - val_accuracy: 0.5400\n",
            "Epoch 36/100\n",
            "13/13 [==============================] - 13s 936ms/step - loss: 0.0936 - accuracy: 0.9775 - val_loss: 2.0321 - val_accuracy: 0.5700\n",
            "Epoch 37/100\n",
            "13/13 [==============================] - 13s 938ms/step - loss: 0.0491 - accuracy: 0.9825 - val_loss: 1.7109 - val_accuracy: 0.6000\n",
            "Epoch 38/100\n",
            "13/13 [==============================] - 13s 938ms/step - loss: 0.0564 - accuracy: 0.9850 - val_loss: 1.4284 - val_accuracy: 0.6400\n",
            "Epoch 39/100\n",
            "13/13 [==============================] - 13s 936ms/step - loss: 0.0760 - accuracy: 0.9725 - val_loss: 1.1792 - val_accuracy: 0.6800\n",
            "Epoch 40/100\n",
            "13/13 [==============================] - 13s 937ms/step - loss: 0.0598 - accuracy: 0.9775 - val_loss: 0.9655 - val_accuracy: 0.7000\n",
            "Epoch 41/100\n",
            "13/13 [==============================] - 13s 937ms/step - loss: 0.0863 - accuracy: 0.9675 - val_loss: 0.7664 - val_accuracy: 0.7300\n",
            "Epoch 42/100\n",
            "13/13 [==============================] - 13s 936ms/step - loss: 0.0816 - accuracy: 0.9800 - val_loss: 0.5942 - val_accuracy: 0.7600\n",
            "Epoch 43/100\n",
            "13/13 [==============================] - 13s 936ms/step - loss: 0.0427 - accuracy: 0.9825 - val_loss: 0.4537 - val_accuracy: 0.8600\n",
            "Epoch 44/100\n",
            "13/13 [==============================] - 13s 935ms/step - loss: 0.0498 - accuracy: 0.9800 - val_loss: 0.3540 - val_accuracy: 0.9000\n",
            "Epoch 45/100\n",
            "13/13 [==============================] - 13s 936ms/step - loss: 0.0564 - accuracy: 0.9875 - val_loss: 0.2773 - val_accuracy: 0.9200\n",
            "Epoch 46/100\n",
            "13/13 [==============================] - 13s 935ms/step - loss: 0.0730 - accuracy: 0.9800 - val_loss: 0.2213 - val_accuracy: 0.9200\n",
            "Epoch 47/100\n",
            "13/13 [==============================] - 13s 937ms/step - loss: 0.0635 - accuracy: 0.9800 - val_loss: 0.1754 - val_accuracy: 0.9400\n",
            "Epoch 48/100\n",
            "13/13 [==============================] - 12s 920ms/step - loss: 0.0735 - accuracy: 0.9825 - val_loss: 0.1411 - val_accuracy: 0.9500\n",
            "Epoch 49/100\n",
            "13/13 [==============================] - 13s 937ms/step - loss: 0.0814 - accuracy: 0.9775 - val_loss: 0.1168 - val_accuracy: 0.9600\n",
            "Epoch 50/100\n",
            "13/13 [==============================] - 12s 976ms/step - loss: 0.0425 - accuracy: 0.9925 - val_loss: 0.0986 - val_accuracy: 0.9700\n",
            "Epoch 51/100\n",
            "13/13 [==============================] - 13s 935ms/step - loss: 0.0500 - accuracy: 0.9875 - val_loss: 0.0863 - val_accuracy: 0.9700\n",
            "Epoch 52/100\n",
            "13/13 [==============================] - 13s 934ms/step - loss: 0.0837 - accuracy: 0.9825 - val_loss: 0.0755 - val_accuracy: 0.9700\n",
            "Epoch 53/100\n",
            "13/13 [==============================] - 13s 938ms/step - loss: 0.0656 - accuracy: 0.9825 - val_loss: 0.0668 - val_accuracy: 0.9700\n",
            "Epoch 54/100\n",
            "13/13 [==============================] - 13s 939ms/step - loss: 0.0828 - accuracy: 0.9800 - val_loss: 0.0602 - val_accuracy: 0.9700\n",
            "Epoch 55/100\n",
            "13/13 [==============================] - 13s 936ms/step - loss: 0.0601 - accuracy: 0.9775 - val_loss: 0.0564 - val_accuracy: 0.9700\n",
            "Epoch 56/100\n",
            "13/13 [==============================] - 13s 937ms/step - loss: 0.0560 - accuracy: 0.9850 - val_loss: 0.0523 - val_accuracy: 0.9800\n",
            "Epoch 57/100\n",
            "13/13 [==============================] - 13s 937ms/step - loss: 0.0643 - accuracy: 0.9725 - val_loss: 0.0497 - val_accuracy: 0.9800\n",
            "Epoch 58/100\n",
            "13/13 [==============================] - 13s 935ms/step - loss: 0.0545 - accuracy: 0.9825 - val_loss: 0.0476 - val_accuracy: 0.9800\n",
            "Epoch 59/100\n",
            "13/13 [==============================] - 13s 934ms/step - loss: 0.0599 - accuracy: 0.9875 - val_loss: 0.0452 - val_accuracy: 0.9800\n",
            "Epoch 60/100\n",
            "13/13 [==============================] - 13s 934ms/step - loss: 0.0739 - accuracy: 0.9750 - val_loss: 0.0446 - val_accuracy: 0.9800\n",
            "Epoch 61/100\n",
            "13/13 [==============================] - 13s 935ms/step - loss: 0.0865 - accuracy: 0.9775 - val_loss: 0.0440 - val_accuracy: 0.9800\n",
            "Epoch 62/100\n",
            "13/13 [==============================] - 13s 936ms/step - loss: 0.0721 - accuracy: 0.9850 - val_loss: 0.0455 - val_accuracy: 0.9800\n",
            "Epoch 63/100\n",
            "13/13 [==============================] - 13s 936ms/step - loss: 0.0724 - accuracy: 0.9850 - val_loss: 0.0457 - val_accuracy: 0.9800\n",
            "Epoch 64/100\n",
            "13/13 [==============================] - 13s 935ms/step - loss: 0.0533 - accuracy: 0.9850 - val_loss: 0.0463 - val_accuracy: 0.9800\n",
            "\n",
            "Epoch 00064: ReduceLROnPlateau reducing learning rate to 1.0000001111620805e-07.\n",
            "Epoch 65/100\n",
            "13/13 [==============================] - 13s 935ms/step - loss: 0.0681 - accuracy: 0.9800 - val_loss: 0.0479 - val_accuracy: 0.9800\n",
            "Epoch 66/100\n",
            "13/13 [==============================] - 13s 935ms/step - loss: 0.0603 - accuracy: 0.9800 - val_loss: 0.0495 - val_accuracy: 0.9800\n",
            "Epoch 67/100\n",
            "13/13 [==============================] - 13s 937ms/step - loss: 0.0554 - accuracy: 0.9850 - val_loss: 0.0523 - val_accuracy: 0.9800\n",
            "\n",
            "Epoch 00067: ReduceLROnPlateau reducing learning rate to 1.000000082740371e-08.\n",
            "Epoch 68/100\n",
            "13/13 [==============================] - 13s 933ms/step - loss: 0.0635 - accuracy: 0.9825 - val_loss: 0.0553 - val_accuracy: 0.9800\n",
            "Epoch 69/100\n",
            "13/13 [==============================] - 13s 937ms/step - loss: 0.0589 - accuracy: 0.9850 - val_loss: 0.0585 - val_accuracy: 0.9800\n",
            "Epoch 70/100\n",
            "13/13 [==============================] - 12s 921ms/step - loss: 0.0688 - accuracy: 0.9750 - val_loss: 0.0601 - val_accuracy: 0.9800\n",
            "\n",
            "Epoch 00070: ReduceLROnPlateau reducing learning rate to 1.000000082740371e-09.\n",
            "Epoch 71/100\n",
            "13/13 [==============================] - 13s 933ms/step - loss: 0.0545 - accuracy: 0.9850 - val_loss: 0.0625 - val_accuracy: 0.9800\n",
            "Epoch 72/100\n",
            "13/13 [==============================] - 13s 935ms/step - loss: 0.0832 - accuracy: 0.9725 - val_loss: 0.0655 - val_accuracy: 0.9800\n",
            "Epoch 73/100\n",
            "13/13 [==============================] - 13s 936ms/step - loss: 0.0810 - accuracy: 0.9750 - val_loss: 0.0681 - val_accuracy: 0.9700\n",
            "\n",
            "Epoch 00073: ReduceLROnPlateau reducing learning rate to 1.000000082740371e-10.\n",
            "Epoch 74/100\n",
            "13/13 [==============================] - 13s 936ms/step - loss: 0.0868 - accuracy: 0.9700 - val_loss: 0.0708 - val_accuracy: 0.9700\n",
            "Epoch 75/100\n",
            "13/13 [==============================] - 13s 936ms/step - loss: 0.0566 - accuracy: 0.9800 - val_loss: 0.0739 - val_accuracy: 0.9700\n",
            "Epoch 76/100\n",
            "13/13 [==============================] - 13s 938ms/step - loss: 0.0380 - accuracy: 0.9925 - val_loss: 0.0761 - val_accuracy: 0.9700\n",
            "\n",
            "Epoch 00076: ReduceLROnPlateau reducing learning rate to 1.000000082740371e-11.\n"
          ]
        }
      ]
    },
    {
      "cell_type": "code",
      "metadata": {
        "colab": {
          "base_uri": "https://localhost:8080/",
          "height": 822
        },
        "id": "J8uCx1SqE8s6",
        "outputId": "724b470e-7101-4351-e6ab-0c4ee95966c3"
      },
      "source": [
        "# Loss Curves\n",
        "plt.figure(figsize=[8,6])\n",
        "plt.plot(history.history['loss'],'r',linewidth=2.0)\n",
        "plt.plot(history.history['val_loss'],'b',linewidth=2.0)\n",
        "plt.legend(['Training loss', 'Validation Loss'],fontsize=15)\n",
        "plt.xlabel('Epochs ',fontsize=16)\n",
        "plt.ylabel('Loss',fontsize=16)\n",
        "plt.title('Loss Curves',fontsize=16)\n",
        "\n",
        "# Accuracy Curves\n",
        "plt.figure(figsize=[8,6])\n",
        "plt.plot(history.history['accuracy'],'r',linewidth=2.0)\n",
        "plt.plot(history.history['val_accuracy'],'b',linewidth=2.0)\n",
        "plt.legend(['Training Accuracy', 'Validation Accuracy'],fontsize=16)\n",
        "plt.xlabel('Epochs ',fontsize=16)\n",
        "plt.ylabel('Accuracy',fontsize=16)\n",
        "plt.title('Accuracy Curves',fontsize=16)"
      ],
      "execution_count": 14,
      "outputs": [
        {
          "output_type": "execute_result",
          "data": {
            "text/plain": [
              "Text(0.5, 1.0, 'Accuracy Curves')"
            ]
          },
          "metadata": {},
          "execution_count": 14
        },
        {
          "output_type": "display_data",
          "data": {
            "image/png": "[encoded data removed]",
            "text/plain": [
              "<Figure size 576x432 with 1 Axes>"
            ]
          },
          "metadata": {
            "needs_background": "light"
          }
        },
        {
          "output_type": "display_data",
          "data": {
            "image/png": "[encoded data removed]",
            "text/plain": [
              "<Figure size 576x432 with 1 Axes>"
            ]
          },
          "metadata": {
            "needs_background": "light"
          }
        }
      ]
    },
    {
      "cell_type": "code",
      "metadata": {
        "id": "LIZ3F_ssKvMg"
      },
      "source": [
        "model1.load_weights('.hi_wt.hdf5')"
      ],
      "execution_count": 15,
      "outputs": []
    },
    {
      "cell_type": "code",
      "metadata": {
        "colab": {
          "base_uri": "https://localhost:8080/"
        },
        "id": "kPOzU9oBL-Hx",
        "outputId": "fe6a52fb-280b-4f09-a9ac-4170d7d705a5"
      },
      "source": [
        "pred_images,no_labels = get_images('./data/test/')\n",
        "pred_images = np.array(pred_images)\n",
        "pred_images.shape"
      ],
      "execution_count": 16,
      "outputs": [
        {
          "output_type": "execute_result",
          "data": {
            "text/plain": [
              "(100, 256, 256, 3)"
            ]
          },
          "metadata": {},
          "execution_count": 16
        }
      ]
    },
    {
      "cell_type": "code",
      "metadata": {
        "id": "OqRXYqYCMR7s"
      },
      "source": [
        "submission = pd.DataFrame()\n",
        "a= []\n",
        "b=[]\n",
        "\n",
        "for img in os.listdir('./data/test/'):\n",
        "    image = cv2.imread('./data/test/'+str(img)) \n",
        "    image = cv2.resize(image,(256,256)) \n",
        "    image = np.reshape(image,[1,256,256,3])\n",
        "    a.append(img[0:3])\n",
        "    b.append(np.argmax(model1.predict(image)[0], axis=-1)+1)\n",
        "    \n",
        "    \n",
        "submission['ImageID'] = a\n",
        "submission['LabelID']= b\n",
        "    \n",
        "sub = submission.sort_values(by=['ImageID'])\n"
      ],
      "execution_count": 17,
      "outputs": []
    },
    {
      "cell_type": "code",
      "metadata": {
        "colab": {
          "base_uri": "https://localhost:8080/",
          "height": 204
        },
        "id": "BBZ61_zLMrB1",
        "outputId": "28696395-afad-4b88-f046-a271d1bdca41"
      },
      "source": [
        "sub.head()"
      ],
      "execution_count": 18,
      "outputs": [
        {
          "output_type": "execute_result",
          "data": {
            "text/html": [
              "<div>\n",
              "<style scoped>\n",
              "    .dataframe tbody tr th:only-of-type {\n",
              "        vertical-align: middle;\n",
              "    }\n",
              "\n",
              "    .dataframe tbody tr th {\n",
              "        vertical-align: top;\n",
              "    }\n",
              "\n",
              "    .dataframe thead th {\n",
              "        text-align: right;\n",
              "    }\n",
              "</style>\n",
              "<table border=\"1\" class=\"dataframe\">\n",
              "  <thead>\n",
              "    <tr style=\"text-align: right;\">\n",
              "      <th></th>\n",
              "      <th>ImageID</th>\n",
              "      <th>LabelID</th>\n",
              "    </tr>\n",
              "  </thead>\n",
              "  <tbody>\n",
              "    <tr>\n",
              "      <th>19</th>\n",
              "      <td>101</td>\n",
              "      <td>5</td>\n",
              "    </tr>\n",
              "    <tr>\n",
              "      <th>38</th>\n",
              "      <td>102</td>\n",
              "      <td>8</td>\n",
              "    </tr>\n",
              "    <tr>\n",
              "      <th>90</th>\n",
              "      <td>103</td>\n",
              "      <td>3</td>\n",
              "    </tr>\n",
              "    <tr>\n",
              "      <th>83</th>\n",
              "      <td>104</td>\n",
              "      <td>5</td>\n",
              "    </tr>\n",
              "    <tr>\n",
              "      <th>66</th>\n",
              "      <td>105</td>\n",
              "      <td>2</td>\n",
              "    </tr>\n",
              "  </tbody>\n",
              "</table>\n",
              "</div>"
            ],
            "text/plain": [
              "   ImageID  LabelID\n",
              "19     101        5\n",
              "38     102        8\n",
              "90     103        3\n",
              "83     104        5\n",
              "66     105        2"
            ]
          },
          "metadata": {},
          "execution_count": 18
        }
      ]
    },
    {
      "cell_type": "code",
      "metadata": {
        "id": "7wc4_6T0RylT"
      },
      "source": [
        "sub.to_csv('gnr.csv', index=False)"
      ],
      "execution_count": 19,
      "outputs": []
    },
    {
      "cell_type": "code",
      "metadata": {
        "id": "JI7OxIq29-kA"
      },
      "source": [
        ""
      ],
      "execution_count": null,
      "outputs": []
    }
  ]
}